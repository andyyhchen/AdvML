{
 "cells": [
  {
   "cell_type": "markdown",
   "metadata": {
    "slideshow": {
     "slide_type": "slide"
    }
   },
   "source": [
    "# Going deeper with Tensorflow\n",
    "\n",
    "In this video, we're going to study the tools you'll use to build deep learning models. Namely, [Tensorflow](https://www.tensorflow.org/).\n",
    "\n",
    "If you're running this notebook outside the course environment, you'll need to install tensorflow:\n",
    "* `pip install tensorflow` should install cpu-only TF on Linux & Mac OS\n",
    "* If you want GPU support from offset, see [TF install page](https://www.tensorflow.org/install/)"
   ]
  },
  {
   "cell_type": "code",
   "execution_count": 1,
   "metadata": {
    "collapsed": true
   },
   "outputs": [],
   "source": [
    "import sys\n",
    "sys.path.append(\"..\")\n",
    "import grading"
   ]
  },
  {
   "cell_type": "markdown",
   "metadata": {},
   "source": [
    "# Visualization"
   ]
  },
  {
   "cell_type": "markdown",
   "metadata": {},
   "source": [
    "Plase note that if you are running on the Coursera platform, you won't be able to access the tensorboard instance due to the network setup there. If you run the notebook locally, you should be able to access TensorBoard on http://127.0.0.1:7007/"
   ]
  },
  {
   "cell_type": "code",
   "execution_count": 4,
   "metadata": {
    "collapsed": false
   },
   "outputs": [
    {
     "name": "stdout",
     "output_type": "stream",
     "text": [
      "No matching processes belonging to you were found\r\n"
     ]
    }
   ],
   "source": [
    "! killall tensorboard\n",
    "import os\n",
    "os.system(\"tensorboard --logdir=/tmp/tboard --port=7007 &\");"
   ]
  },
  {
   "cell_type": "code",
   "execution_count": 5,
   "metadata": {
    "collapsed": false
   },
   "outputs": [],
   "source": [
    "import tensorflow as tf\n",
    "s = tf.InteractiveSession()"
   ]
  },
  {
   "cell_type": "markdown",
   "metadata": {},
   "source": [
    "# Warming up\n",
    "For starters, let's implement a python function that computes the sum of squares of numbers from 0 to N-1."
   ]
  },
  {
   "cell_type": "code",
   "execution_count": 6,
   "metadata": {
    "collapsed": true
   },
   "outputs": [],
   "source": [
    "import numpy as np\n",
    "def sum_sin(N):\n",
    "    return np.sum(np.arange(N)**2)"
   ]
  },
  {
   "cell_type": "code",
   "execution_count": 7,
   "metadata": {
    "collapsed": false
   },
   "outputs": [
    {
     "name": "stdout",
     "output_type": "stream",
     "text": [
      "CPU times: user 694 ms, sys: 2.55 s, total: 3.25 s\n",
      "Wall time: 4.51 s\n"
     ]
    },
    {
     "data": {
      "text/plain": [
       "662921401752298880"
      ]
     },
     "execution_count": 7,
     "metadata": {},
     "output_type": "execute_result"
    }
   ],
   "source": [
    "%%time\n",
    "sum_sin(10**8)"
   ]
  },
  {
   "cell_type": "markdown",
   "metadata": {},
   "source": [
    "# Tensoflow teaser\n",
    "\n",
    "Doing the very same thing"
   ]
  },
  {
   "cell_type": "code",
   "execution_count": 12,
   "metadata": {
    "collapsed": true
   },
   "outputs": [],
   "source": [
    "# An integer parameter\n",
    "N = tf.placeholder('int64', name=\"input_to_your_function\")\n",
    "\n",
    "# A recipe on how to produce the same result\n",
    "result = tf.reduce_sum(tf.range(N)**2)"
   ]
  },
  {
   "cell_type": "code",
   "execution_count": 13,
   "metadata": {
    "collapsed": false
   },
   "outputs": [
    {
     "data": {
      "text/plain": [
       "<tf.Tensor 'Sum_1:0' shape=() dtype=int64>"
      ]
     },
     "execution_count": 13,
     "metadata": {},
     "output_type": "execute_result"
    }
   ],
   "source": [
    "result"
   ]
  },
  {
   "cell_type": "code",
   "execution_count": 14,
   "metadata": {
    "collapsed": false
   },
   "outputs": [
    {
     "name": "stdout",
     "output_type": "stream",
     "text": [
      "CPU times: user 828 ms, sys: 841 ms, total: 1.67 s\n",
      "Wall time: 1.02 s\n"
     ]
    },
    {
     "data": {
      "text/plain": [
       "662921401752298880"
      ]
     },
     "execution_count": 14,
     "metadata": {},
     "output_type": "execute_result"
    }
   ],
   "source": [
    "%%time\n",
    "result.eval({N: 10**8})"
   ]
  },
  {
   "cell_type": "code",
   "execution_count": 15,
   "metadata": {
    "collapsed": true
   },
   "outputs": [],
   "source": [
    "writer = tf.summary.FileWriter(\"/tmp/tboard\", graph=s.graph)"
   ]
  },
  {
   "cell_type": "markdown",
   "metadata": {},
   "source": [
    "# How does it work?\n",
    "1. Define placeholders where you'll send inputs\n",
    "2. Make symbolic graph: a recipe for mathematical transformation of those placeholders\n",
    "3. Compute outputs of your graph with particular values for each placeholder\n",
    "  * `output.eval({placeholder:value})`\n",
    "  * `s.run(output, {placeholder:value})`\n",
    "\n",
    "So far there are two main entities: \"placeholder\" and \"transformation\"\n",
    "* Both can be numbers, vectors, matrices, tensors, etc.\n",
    "* Both can be int32/64, floats, booleans (uint8) of various size.\n",
    "\n",
    "* You can define new transformations as an arbitrary operation on placeholders and other transformations\n",
    " * `tf.reduce_sum(tf.arange(N)**2)` are 3 sequential transformations of placeholder `N`\n",
    " * There's a tensorflow symbolic version for every numpy function\n",
    "   * `a+b, a/b, a**b, ...` behave just like in numpy\n",
    "   * `np.mean` -> `tf.reduce_mean`\n",
    "   * `np.arange` -> `tf.range`\n",
    "   * `np.cumsum` -> `tf.cumsum`\n",
    "   * If if you can't find the op you need, see the [docs](https://www.tensorflow.org/api_docs/python).\n",
    "   \n",
    "`tf.contrib` has many high-level features, may be worth a look."
   ]
  },
  {
   "cell_type": "code",
   "execution_count": 19,
   "metadata": {
    "collapsed": true
   },
   "outputs": [],
   "source": [
    "with tf.name_scope(\"Placeholders_examples\"):\n",
    "    # Default placeholder that can be arbitrary float32\n",
    "    # scalar, vertor, matrix, etc.\n",
    "    arbitrary_input = tf.placeholder('float32')\n",
    "\n",
    "    # Input vector of arbitrary length\n",
    "    input_vector = tf.placeholder('float32', shape=(None,))\n",
    "\n",
    "    # Input vector that _must_ have 10 elements and integer type\n",
    "    fixed_vector = tf.placeholder('int32', shape=(10,))\n",
    "\n",
    "    # Matrix of arbitrary n_rows and 15 columns\n",
    "    # (e.g. a minibatch your data table)\n",
    "    input_matrix = tf.placeholder('float32', shape=(None, 15))\n",
    "    \n",
    "    # You can generally use None whenever you don't need a specific shape\n",
    "    input1 = tf.placeholder('float64', shape=(None, 100, None))\n",
    "    input2 = tf.placeholder('int32', shape=(None, None, 3, 224, 224))\n",
    "\n",
    "    # elementwise multiplication\n",
    "    double_the_vector = input_vector*2\n",
    "\n",
    "    # elementwise cosine\n",
    "    elementwise_cosine = tf.cos(input_vector)\n",
    "\n",
    "    # difference between squared vector and vector itself plus one\n",
    "    vector_squares = input_vector**2 - input_vector + 1"
   ]
  },
  {
   "cell_type": "code",
   "execution_count": 20,
   "metadata": {
    "collapsed": true
   },
   "outputs": [],
   "source": [
    "my_vector =  tf.placeholder('float32', shape=(None,), name=\"VECTOR_1\")\n",
    "my_vector2 = tf.placeholder('float32', shape=(None,))\n",
    "my_transformation = my_vector * my_vector2 / (tf.sin(my_vector) + 1)"
   ]
  },
  {
   "cell_type": "code",
   "execution_count": 21,
   "metadata": {
    "collapsed": false
   },
   "outputs": [
    {
     "name": "stdout",
     "output_type": "stream",
     "text": [
      "Tensor(\"div_1:0\", shape=(?,), dtype=float32)\n"
     ]
    }
   ],
   "source": [
    "print(my_transformation)"
   ]
  },
  {
   "cell_type": "code",
   "execution_count": 22,
   "metadata": {
    "collapsed": false
   },
   "outputs": [
    {
     "name": "stdout",
     "output_type": "stream",
     "text": [
      "[0. 1. 2. 3. 4.]\n"
     ]
    },
    {
     "data": {
      "text/plain": [
       "array([0.       , 1.6291324, 2.0950115, 2.6289961, 0.       ],\n",
       "      dtype=float32)"
      ]
     },
     "execution_count": 22,
     "metadata": {},
     "output_type": "execute_result"
    }
   ],
   "source": [
    "dummy = np.arange(5).astype('float32')\n",
    "print(dummy)\n",
    "my_transformation.eval({my_vector:dummy, my_vector2:dummy[::-1]})"
   ]
  },
  {
   "cell_type": "code",
   "execution_count": 24,
   "metadata": {
    "collapsed": true
   },
   "outputs": [],
   "source": [
    "writer.add_graph(my_transformation.graph)\n",
    "writer.flush()"
   ]
  },
  {
   "cell_type": "markdown",
   "metadata": {},
   "source": [
    "TensorBoard allows writing scalars, images, audio, histogram. You can read more on tensorboard usage [here](https://www.tensorflow.org/get_started/graph_viz)."
   ]
  },
  {
   "cell_type": "markdown",
   "metadata": {},
   "source": [
    "# Summary\n",
    "* Tensorflow is based on computation graphs\n",
    "* The graphs consist of placehlders and transformations"
   ]
  },
  {
   "cell_type": "markdown",
   "metadata": {},
   "source": [
    "# Mean squared error\n",
    "\n",
    "Your assignment is to implement mean squared error in tensorflow."
   ]
  },
  {
   "cell_type": "code",
   "execution_count": 25,
   "metadata": {
    "collapsed": true
   },
   "outputs": [],
   "source": [
    "with tf.name_scope(\"MSE\"):\n",
    "    y_true = tf.placeholder(\"float32\", shape=(None,), name=\"y_true\")\n",
    "    y_predicted = tf.placeholder(\"float32\", shape=(None,), name=\"y_predicted\")\n",
    "    # Your code goes here\n",
    "    # You want to use tf.reduce_mean\n",
    "    # mse = tf.<...>\n",
    "    mse = tf.reduce_mean((y_true - y_predicted) ** 2)\n",
    "def compute_mse(vector1, vector2):\n",
    "    return mse.eval({y_true: vector1, y_predicted: vector2})"
   ]
  },
  {
   "cell_type": "code",
   "execution_count": 26,
   "metadata": {
    "collapsed": true
   },
   "outputs": [],
   "source": [
    "writer.add_graph(mse.graph)\n",
    "writer.flush()"
   ]
  },
  {
   "cell_type": "markdown",
   "metadata": {},
   "source": [
    "Tests and result submission. Please use the credentials obtained from the Coursera assignment page."
   ]
  },
  {
   "cell_type": "code",
   "execution_count": 27,
   "metadata": {
    "collapsed": true
   },
   "outputs": [],
   "source": [
    "import submit"
   ]
  },
  {
   "cell_type": "code",
   "execution_count": 28,
   "metadata": {
    "collapsed": false
   },
   "outputs": [
    {
     "ename": "SyntaxError",
     "evalue": "invalid syntax (<ipython-input-28-83c5e9a37d9f>, line 1)",
     "output_type": "error",
     "traceback": [
      "\u001b[0;36m  File \u001b[0;32m\"<ipython-input-28-83c5e9a37d9f>\"\u001b[0;36m, line \u001b[0;32m1\u001b[0m\n\u001b[0;31m    submit.submit_mse(compute_mse, <your email>, <your token>)\u001b[0m\n\u001b[0m                                   ^\u001b[0m\n\u001b[0;31mSyntaxError\u001b[0m\u001b[0;31m:\u001b[0m invalid syntax\n"
     ]
    }
   ],
   "source": [
    "submit.submit_mse(compute_mse, <your email>, <your token>)"
   ]
  },
  {
   "cell_type": "markdown",
   "metadata": {},
   "source": [
    "# Variables\n",
    "\n",
    "The inputs and transformations have no value outside function call. This isn't too comfortable if you want your model to have parameters (e.g. network weights) that are always present, but can change their value over time.\n",
    "\n",
    "Tensorflow solves this with `tf.Variable` objects.\n",
    "* You can assign variable a value at any time in your graph\n",
    "* Unlike placeholders, there's no need to explicitly pass values to variables when `s.run(...)`-ing\n",
    "* You can use variables the same way you use transformations \n",
    " "
   ]
  },
  {
   "cell_type": "code",
   "execution_count": 29,
   "metadata": {
    "collapsed": true
   },
   "outputs": [],
   "source": [
    "# Creating a shared variable\n",
    "shared_vector_1 = tf.Variable(initial_value=np.ones(5),\n",
    "                              name=\"example_variable\")"
   ]
  },
  {
   "cell_type": "code",
   "execution_count": 30,
   "metadata": {
    "collapsed": false
   },
   "outputs": [
    {
     "name": "stdout",
     "output_type": "stream",
     "text": [
      "('Initial value', array([1., 1., 1., 1., 1.]))\n"
     ]
    }
   ],
   "source": [
    "# Initialize variable(s) with initial values\n",
    "s.run(tf.global_variables_initializer())\n",
    "\n",
    "# Evaluating shared variable (outside symbolicd graph)\n",
    "print(\"Initial value\", s.run(shared_vector_1))\n",
    "\n",
    "# Within symbolic graph you use them just\n",
    "# as any other inout or transformation, not \"get value\" needed"
   ]
  },
  {
   "cell_type": "code",
   "execution_count": 31,
   "metadata": {
    "collapsed": false
   },
   "outputs": [
    {
     "name": "stdout",
     "output_type": "stream",
     "text": [
      "('New value', array([0., 1., 2., 3., 4.]))\n"
     ]
    }
   ],
   "source": [
    "# Setting a new value\n",
    "s.run(shared_vector_1.assign(np.arange(5)))\n",
    "\n",
    "# Getting that new value\n",
    "print(\"New value\", s.run(shared_vector_1))"
   ]
  },
  {
   "cell_type": "markdown",
   "metadata": {},
   "source": [
    "# tf.gradients - why graphs matter\n",
    "* Tensorflow can compute derivatives and gradients automatically using the computation graph\n",
    "* True to its name it can manage matrix derivatives\n",
    "* Gradients are computed as a product of elementary derivatives via the chain rule:\n",
    "\n",
    "$$ {\\partial f(g(x)) \\over \\partial x} = {\\partial f(g(x)) \\over \\partial g(x)}\\cdot {\\partial g(x) \\over \\partial x} $$\n",
    "\n",
    "It can get you the derivative of any graph as long as it knows how to differentiate elementary operations"
   ]
  },
  {
   "cell_type": "code",
   "execution_count": 48,
   "metadata": {
    "collapsed": true
   },
   "outputs": [],
   "source": [
    "my_scalar = tf.placeholder('float32')\n",
    "\n",
    "scalar_squared = my_scalar**2\n",
    "\n",
    "# A derivative of scalar_squared by my_scalar\n",
    "derivative = tf.gradients(scalar_squared, [my_scalar])"
   ]
  },
  {
   "cell_type": "code",
   "execution_count": 49,
   "metadata": {
    "collapsed": false
   },
   "outputs": [
    {
     "data": {
      "text/plain": [
       "[<tf.Tensor 'gradients_5/pow_8_grad/Reshape:0' shape=<unknown> dtype=float32>,\n",
       " <tf.Tensor 'gradients_5/Fill:0' shape=<unknown> dtype=float32>]"
      ]
     },
     "execution_count": 49,
     "metadata": {},
     "output_type": "execute_result"
    }
   ],
   "source": [
    "derivative"
   ]
  },
  {
   "cell_type": "code",
   "execution_count": 50,
   "metadata": {
    "collapsed": false
   },
   "outputs": [
    {
     "data": {
      "image/png": "[encoded data removed]",
      "text/plain": [
       "<matplotlib.figure.Figure at 0x11df89710>"
      ]
     },
     "metadata": {},
     "output_type": "display_data"
    }
   ],
   "source": [
    "import matplotlib.pyplot as plt\n",
    "%matplotlib inline\n",
    "\n",
    "x = np.linspace(-3, 3)\n",
    "x_squared, x_squared_der = s.run([scalar_squared, derivative[0]],\n",
    "                                 {my_scalar:x})\n",
    "\n",
    "plt.plot(x, x_squared,label=\"$x^2$\")\n",
    "plt.plot(x, x_squared_der, label=r\"$\\frac{dx^2}{dx}$\")\n",
    "plt.legend();"
   ]
  },
  {
   "cell_type": "markdown",
   "metadata": {},
   "source": [
    "# Why that rocks"
   ]
  },
  {
   "cell_type": "code",
   "execution_count": 51,
   "metadata": {
    "collapsed": true
   },
   "outputs": [],
   "source": [
    "my_vector = tf.placeholder('float32', [None])\n",
    "# Compute the gradient of the next weird function over my_scalar and my_vector\n",
    "# Warning! Trying to understand the meaning of that function may result in permanent brain damage\n",
    "weird_psychotic_function = tf.reduce_mean(\n",
    "    (my_vector+my_scalar)**(1+tf.nn.moments(my_vector,[0])[1]) + \n",
    "    1./ tf.atan(my_scalar))/(my_scalar**2 + 1) + 0.01*tf.sin(\n",
    "    2*my_scalar**1.5)*(tf.reduce_sum(my_vector)* my_scalar**2\n",
    "                      )*tf.exp((my_scalar-4)**2)/(\n",
    "    1+tf.exp((my_scalar-4)**2))*(1.-(tf.exp(-(my_scalar-4)**2)\n",
    "                                    )/(1+tf.exp(-(my_scalar-4)**2)))**2\n",
    "\n",
    "der_by_scalar = tf.gradients(weird_psychotic_function, [my_scalar])\n",
    "der_by_vector = tf.gradients(weird_psychotic_function, [my_vector])"
   ]
  },
  {
   "cell_type": "code",
   "execution_count": 55,
   "metadata": {
    "collapsed": false
   },
   "outputs": [
    {
     "data": {
      "image/png": "[encoded data removed]",
      "text/plain": [
       "<matplotlib.figure.Figure at 0x11dcb2b90>"
      ]
     },
     "metadata": {},
     "output_type": "display_data"
    }
   ],
   "source": [
    "# Plotting the derivative\n",
    "scalar_space = np.linspace(1, 7, 100)\n",
    "\n",
    "y = [s.run(weird_psychotic_function, {my_scalar:x, my_vector:[1, 2, 3]})\n",
    "     for x in scalar_space]\n",
    "\n",
    "plt.plot(scalar_space, y, label='function')\n",
    "\n",
    "y_der_by_scalar = [s.run(der_by_scalar[0],\n",
    "                         {my_scalar:x, my_vector:[1, 2, 3]})\n",
    "                   for x in scalar_space]\n",
    "\n",
    "plt.plot(scalar_space, y_der_by_scalar, label='derivative')\n",
    "plt.grid()\n",
    "plt.legend();"
   ]
  },
  {
   "cell_type": "markdown",
   "metadata": {},
   "source": [
    "# Almost done - optimizers\n",
    "\n",
    "While you can perform gradient descent by hand with automatic grads from above, tensorflow also has some optimization methods implemented for you. Recall momentum & rmsprop?"
   ]
  },
  {
   "cell_type": "code",
   "execution_count": 56,
   "metadata": {
    "collapsed": true
   },
   "outputs": [],
   "source": [
    "y_guess = tf.Variable(np.zeros(2, dtype='float32'))\n",
    "y_true = tf.range(1, 3, dtype='float32')\n",
    "loss = tf.reduce_mean((y_guess - y_true + tf.random_normal([2]))**2) \n",
    "#loss = tf.reduce_mean((y_guess - y_true)**2) \n",
    "optimizer = tf.train.MomentumOptimizer(0.01, 0.5).minimize(\n",
    "    loss, var_list=y_guess)"
   ]
  },
  {
   "cell_type": "code",
   "execution_count": 64,
   "metadata": {
    "collapsed": false
   },
   "outputs": [
    {
     "name": "stdout",
     "output_type": "stream",
     "text": [
      "[(array([0., 0.], dtype=float32),)]\n"
     ]
    },
    {
     "data": {
      "image/png": "[encoded data removed]",
      "text/plain": [
       "<matplotlib.figure.Figure at 0x11e0abc10>"
      ]
     },
     "metadata": {},
     "output_type": "display_data"
    }
   ],
   "source": [
    "from matplotlib import animation, rc\n",
    "import matplotlib_utils\n",
    "from IPython.display import HTML, display_html\n",
    "\n",
    "fig, ax = plt.subplots()\n",
    "y_true_value = s.run(y_true)\n",
    "level_x = np.arange(0, 2, 0.02)\n",
    "level_y = np.arange(0, 3, 0.02)\n",
    "X, Y = np.meshgrid(level_x, level_y)\n",
    "Z = (X - y_true_value[0])**2 + (Y - y_true_value[1])**2\n",
    "ax.set_xlim(-0.02, 2)\n",
    "ax.set_ylim(-0.02, 3)\n",
    "s.run(tf.global_variables_initializer())\n",
    "ax.scatter(*s.run(y_true), c='red')\n",
    "contour = ax.contour(X, Y, Z, 10)\n",
    "ax.clabel(contour, inline=1, fontsize=10)\n",
    "line, = ax.plot([], [], lw=2)\n",
    "\n",
    "def init():\n",
    "    line.set_data([], [])\n",
    "    return (line,)\n",
    "\n",
    "guesses = [s.run(y_guess)]\n",
    "def animate(i):\n",
    "    s.run(optimizer)\n",
    "    guesses.append(s.run(y_guess))\n",
    "    line.set_data(*zip(*guesses))\n",
    "    return (line,)\n",
    "\n",
    "anim = animation.FuncAnimation(fig, animate, init_func=init,frames=400, interval=20, blit=True)"
   ]
  },
  {
   "cell_type": "code",
   "execution_count": 65,
   "metadata": {
    "collapsed": false
   },
   "outputs": [
    {
     "data": {
      "text/html": [
       "<video width=\"432.0\" height=\"288.0\" controls autoplay loop>\n",
       "  <source type=\"video/mp4\" src=\"data:video/mp4;base64,AAAAHGZ0eXBNNFYgAAACAGlzb21pc28yYXZjMQAAAAhmcmVlAAC8T21kYXQAAAKuBgX//6rcRem9\n",
       "5tlIt5Ys2CDZI+7veDI2NCAtIGNvcmUgMTQ4IHIyNzk1IGFhYTlhYTggLSBILjI2NC9NUEVHLTQg\n",
       "QVZDIGNvZGVjIC0gQ29weWxlZnQgMjAwMy0yMDE3IC0gaHR0cDovL3d3dy52aWRlb2xhbi5vcmcv\n",
       "eDI2NC5odG1sIC0gb3B0aW9uczogY2FiYWM9MSByZWY9MyBkZWJsb2NrPTE6MDowIGFuYWx5c2U9\n",
       "MHgzOjB4MTEzIG1lPWhleCBzdWJtZT03IHBzeT0xIHBzeV9yZD0xLjAwOjAuMDAgbWl4ZWRfcmVm\n",
       "PTEgbWVfcmFuZ2U9MTYgY2hyb21hX21lPTEgdHJlbGxpcz0xIDh4OGRjdD0xIGNxbT0wIGRlYWR6\n",
       "b25lPTIxLDExIGZhc3RfcHNraXA9MSBjaHJvbWFfcXBfb2Zmc2V0PS0yIHRocmVhZHM9NiBsb29r\n",
       "YWhlYWRfdGhyZWFkcz0xIHNsaWNlZF90aHJlYWRzPTAgbnI9MCBkZWNpbWF0ZT0xIGludGVybGFj\n",
       "ZWQ9MCBibHVyYXlfY29tcGF0PTAgY29uc3RyYWluZWRfaW50cmE9MCBiZnJhbWVzPTMgYl9weXJh\n",
       "bWlkPTIgYl9hZGFwdD0xIGJfYmlhcz0wIGRpcmVjdD0xIHdlaWdodGI9MSBvcGVuX2dvcD0wIHdl\n",
       "aWdodHA9MiBrZXlpbnQ9MjUwIGtleWludF9taW49MjUgc2NlbmVjdXQ9NDAgaW50cmFfcmVmcmVz\n",
       "aD0wIHJjX2xvb2thaGVhZD00MCByYz1jcmYgbWJ0cmVlPTEgY3JmPTIzLjAgcWNvbXA9MC42MCBx\n",
       "cG1pbj0wIHFwbWF4PTY5IHFwc3RlcD00IGlwX3JhdGlvPTEuNDAgYXE9MToxLjAwAIAAADOnZYiE\n",
       "AC///vau/MsrRwuVLh1Ze7NR8uhJcv2IMH1oAAADAADVayF8nu/d1UAq+8SdsDHTUC+xwM4D85zI\n",
       "NMKUjtDyJG9e935UwBS3Tp2g5GMRaY+VbnLKLfhdUCkdTqB6C0UsSDkCpbqo8PjLaXKLrxCwxxJo\n",
       "UmdFDamk3f1z7DXk+IuzPHJVOC6wjKG83dGJyPLyDOrrBFh+iBvj5tXjKaJckOHn57UIqtKg0ol1\n",
       "q+Cah5NFmXuaAJF8jg+bhGfq9NtBcORKuP9U8GwS263ySwalFpjVyDbf28vKrMLM7fh1D0dYFcXI\n",
       "05MWeyKBzbIdkZX9xa5lV/Glr9S37vfrzHk5M//IKzNpTLzsJFd0lZUgq5+T1/j6JXTMnprpsqrm\n",
       "RXqAPUs3Ad0UGI1cIm6VaSaAIZf33wHBuI9Cx78fpNAdLmgBROU3bdfCT2t3nn+SECFlKYQCTwpu\n",
       "Dm6hs291Y+v1/I74JqsDwkO9N/5tJbkQZbntSe2E7tlOVybeGyDrF2F65IhR+FfdRYryjuG17SWo\n",
       "EDATWiMgOgC88iQZgGqy9CXusD3SW4DnFtIXO58OBkY3UCB/qoK+fSMfPnY6078uO2lYSRqtkV4I\n",
       "S7i+l2Ixioz+gqV/JTc6GGA71AajwiELX9OkRB2UjWvUn0LflPcKapr+1KuDYQlSfCgr9uT2KudZ\n",
       "wZs6FQXjaxDPKvdxc6RUcqQ9wn8wBpmnwFZpkJmAwOC2K3qBo8oMr52vpXSlBJFAKzbwbLDiAB+6\n",
       "kD0moAvjLKTSzlwtDctlWwCuRAkxM//qJI2VAfDJIJKq7pLtzMBWfXgcnjr9hnhxTGYUrCeh9dUR\n",
       "kya/YKrUJAvA5iev+KzmP15bAildkeVK8CGJsLoLsHFPWhwz5BXPwh7wZ2d9/sVF0z0d7bWQmbLE\n",
       "pNKPenprKHpzLxVudh78BpUNhA0s8klkMUBLET2VwEbaG7mdcp3FkdUYap5uH/xdcUtGEsDdXJM2\n",
       "NJWlJ/30MVk65UfvOGxrsnTkoE2qk4afIMC350ucicF2XdSkn9pKjZL0rFCnJ0Ie7wWriyBE27zn\n",
       "IdMXcr3SavW6EaJtm1pq47riiHPQsg94S0J0TP6bUFhgq5mZqhCGtCao1hPHGzN6MVLejs7hGf82\n",
       "46Da/Pl1brA7yd80mMhuZuBRwH/seBW2IzO40ygN2svHEOJonfjucsrgYwXQplH2cZbcG3vj2B2Y\n",
       "xkiFu8EZ7e3gA0Z7+kmnml95GEYq/RO9cU3oAoIWegg7CCNjMV5sLDf3QXiDdWWdOAFh3ZrsAA+z\n",
       "jXbmWyQSqwb5KFOiQhdiRQU4kKd1arB6zEBdczjChaZcpOSkoZUKQvX5P3Eh3W+fhM83kRy1JBok\n",
       "gghw9YcOZbf9cIKM0UzAj/0/2KlYzYKVVyzTeiKyp+x2bEgspQSI2Xrvpk/NgViA/b6oNcx+Sc1C\n",
       "owW1E9ewP8qtCnxqQD0Nlza/Q2FmUcYsv+qIw00oLxSPRfhXzcakSErpRQbaBaVHnlpUpEFQd6aX\n",
       "FP9snXORHS4K3tkgUkBK9dob6s5p8K3q+mX9Lfnq1btAdtjVGrcxzIkxodcd1fTJM6YSShJ7U4VY\n",
       "5ZSAHZewjouyWn2AQYVUuYmxGofaUiVd37V6Enw/KRS3hhVN5vI9mglVi6MbgptkBEgQWQLqLtmL\n",
       "qnbQodvs/lKYljryD62d2oOA390t0NtI+/xBFf5PGp5ftkVATKqzQqRtI2FEoQ7G+QzQ0kXC6HqL\n",
       "n0gCxWRvB2yRYwmdJGm8/v59OvWnQq0utb3A/TncAdNqgZHvGt48QUu9u4Iepj7niGVw7NAoyZQu\n",
       "VSOFXsnprrK0SOi1eXkZotn5MifD5Mjqn0WkF2q495c3/fnc5FnMXBUdpRse0ialYdMuUd1/glbK\n",
       "StS3tSlLk0bzAYV0rZ8H7v+GwXwEjdlUlomBfsZg7p/AxqTMq2d7RALlBtB8EwfXY47F5MlrUAyR\n",
       "3Hcz2LZyfhmdfABoTFCgR2Bi18NH583Q8prYsfKAuWNcpbkPlnBAVCvN6C14z5S0qI3ZDEGYQmcR\n",
       "In/RF/wW1bQheThqniQ7Ngu1+adWYnuKNkzxT3NBUKT/LW9Cs6ZqkulupSN7/MCYs+N65dCqRb77\n",
       "75uyDcNqTdkEX+c8nIahd9wpm9nYx8tIrYn3tkh7HbJzbySUHUYoNYFRLb5GRU8e7FrTEb0FuFQE\n",
       "gIZ0KMjKFMhx5anPXQhDAGwjBahDMiyvM7Sice0OeP9HaI6XDgbR30QA+SW2klWdlQ8Y/ltEYHdW\n",
       "SSP/LE34oOgTyV07f79PkBLK4pfHA1QWr7SYLwLlqa2pP6uD55v25CCX98jFTr1//6s84ZJqsWcR\n",
       "XItLuh4y6p9qdzrtZbPhd75YijwhDlZ/qbYmMLZTcPhW0CL/uVfnlzhPPzBfyROo2NnShtp9+tIn\n",
       "9MbMp9ejaFucJTyBBeH/kkuaN7Neg9O+8D2zHbdo10W4npQXrDQ5FBkWWNTk5PA5wxdR3v+yyExU\n",
       "hLZn6ne2FUd1Y2nFwqbox/UrWfeY1L85crYXF8QrsIIloZkP7W8hT3HA/onfmCTcO8s4JFwkwsTr\n",
       "zLgUAhOPF8ZgGc92cMoc0PtsreAuXr6bEkMi0WUktrYIEi73gkWnS01uUQ9Jkc+o3HjXhKqTVI/z\n",
       "kElcK91BZwI7U0j6GQuek4gOEUoBFM8izn8iIOQqlGOIxjIH1UYT3AzI6fM7JJeqGQXKLcBl/6bW\n",
       "itrjKy7IrKhHgKmv2yg32ZY5siiZxDeTeAsPQ9Ahrf1s06qxEPIaH/ivROmpNq90T7xSsjngOUqK\n",
       "2cQunm1nOrUk57vs4vEgTk7y48aiTUhxOZvUKz6oIA8AW6heJl9CdOEas6vTg13yI3rjnrKsgMN8\n",
       "DUhPbjAlqZRSxztpRvi7wwE+UQi59ELSnYZ8pemHOMLvTkzN22YZbF8+BovvhXt4BEyrbYBc5uZ9\n",
       "4LFjG93Qi3Oqp35KWN5/BmR56JDAXxDPXozfgUx1LGIrgg+7Vgj8W5YyeWMtdc7r0FzWCbswvZ0i\n",
       "/OY6HV5ztEREiCTmty8D4xuz8Or9Q1ssQO/rW0naygC/ecsN5hjeszbJVWFJUtYUfWtc9dc0CrAT\n",
       "5vOiKzO2OvbtPZy6li6oWKB680Fx4Sl1KJQ4HMbwuAtYqJzRDGwSOAjY6HXUoDGiLEp2vneOMFl9\n",
       "1DkYjbY293ebfXMp34Go5bOiOclEIFsAerDhvpTDiDWiBV3HWD47S4l4E1r8O0qCmywVzYiBNqWZ\n",
       "ghwVyC2dGrkcAaUgM0DVmls0kO5qZSLGk4qVcQZF1fL6TLeEjxHQE7LkFS3O21Isu7WwZ8Y0oFgZ\n",
       "VIQPhyB3BlYEoxLrOhczGpA3aQl0YtOxOxbzBYD5wPcTX5pYuwt3NX+pgtHQInQiISjmYgndDtqu\n",
       "h1d4p+b9elot/cxABylDQ1rQVvMeovz12RgoDvIdrc+5/YInKYT9BILpKrln4SQvigKGDVwlpAYx\n",
       "qUR0P3BIjNB1EmU3ig6Gqs8tRqFtQ2aVf2fYvvIbk58fb0Y/q4nVGlPG7BDV5eNPakPJ5ueD0R9r\n",
       "GB/WkETPEvmMpZu/cv3ng81FR+jFxuO/1UiJsOJcmjv3GZ7g+0N6k+oS9Jp8UPZSKuO4DqQTlNmY\n",
       "n33nLrH/lB6/BSS3/GOLtcsePTKBE+1oZ4PBs1vixdhC42vk7x/9tL6i1H7aHxt5d3TCSsWG3qsZ\n",
       "UdfCje6lxKPiV2mmG6nbkKglB3zzoua9JU0KzdL87DSVSN/06wHLwGd9v4oGZD6EBgwdB2rdA0ky\n",
       "w29HIVpldyuDNyb/pb3wiCxxFYGV5bbtThgrYEThBUC6iM2HAfRmpkcNdS7Tglx8V4gfx1CjP2fE\n",
       "OacGPBftMkZqtrLasTEBeKcorGLOQirPDcrkxwHl/gC4vh4QT7pi2QZ1+9VW9Qklf/cZ+mGFOODv\n",
       "o8RfgMncTe4bwQIGawiSpWJYdxRX6td6Fizd9GU/awt+NftYRxC5985BwFGM1/mz0UyMPP9368IR\n",
       "iD0JljktYJUrBB2JPo/7UxBJ4o201ZYOcEX+JYitWCK+u82iWC+kPBgbFJeJrQ5YIN9xXhipEUDw\n",
       "INXbFCCDK9O8baq9XwEVcLjuhRlnaEswSEIUDJw8DaofFJxCdbIKJAjA7Zgl6eshbJ75VKKmDvlv\n",
       "4r/MyjKq2VJzsrbyLW9fTRkFX/6kgLcLlBXClKfJoqqO5E+vbJYyzNqeKG0O+nYjtMX6el7WmyLD\n",
       "3jLjW9PGhnXtZd3y188CMCziZZ6pC0aF9jkaMBl30LhiUSuL8CZG0IZaI4Y5xJ0wJnQgJvi3JL83\n",
       "rYSULFtlEuG+Zpv+O0UQ2YUn7hT9u3LRYihQQxk8DKfbDEO/TclrDYIr85a77ycgX9rCURrddOoE\n",
       "g2tjVQuJtuvBMSyr+eaTKm9U6f7nAl2C8N5sJZElusYoZs7yt2zwAAADAjldLcyjqxab5pUunaRx\n",
       "BmhFQaDy1t0VBXFujLyq4/eFFC4cCYOfdNlYpn21jK5v0o63eL82tfqpmW1YJQ4Wiu1ohrbDlqOj\n",
       "4cEgPhMmJA/AuUFhU84nXdMGun0A95PNlnFNn1qJgRHjqm+XX4R84QChe4okoAxSssDveSTeT7Vi\n",
       "Cfiz3UMQmPQQn4AkHGVrV9+/HtD8kK3WD8U+PCwFpCY/8MQhY4+ky6F812RXhSw6pf6kiQmyzbHc\n",
       "sxYMDysw963A0rZTmwCyEobQ0eeEpk1tI9gYsKKzJuz3Lc5Gc6ssftCLS9C9Sf/ovgJtp8yxY9M/\n",
       "eTUH7BIOrecIP/Wo1sn3JvUCv2/vlwFzTmbPjM+DeEimwlsGrGXkNLqJLaww+zwthKmBj7LHsVih\n",
       "nGna+sox7v+xmOcWiTXjg3yhcLbQVp4pDCe3VL4nVjb4KUtg7TQzdRIQ7LJmF56/Pt5D0BAgzIbt\n",
       "VJ46yZz+tuYEX5X39VtoF1tTI63BVoF6BriHWEbEEdfWpsJmEfl20jypgyqN/S+QatG5pCByIOtK\n",
       "6cO6oPxSAhNXAO0BTnXRF9sC3QafUvtBRjPTdUlKpn59nAxDnMMwBE22PmtkQgPVpLyFW1Qr01JE\n",
       "n174nIannLCOD2mDm0kVdklYLsVwHBs6S7UfT8w5jAxldMlRe5gPUEwB620rbQ6Nj2V0bqESuonl\n",
       "1Jy+YM+ehxumiT2akHGh6xVAVebwCb8g+tt49+Dzf5Pkqb+L0lxRqfQ9Vr3Q7FXykcOB+j8d9bOG\n",
       "bL85vcqbXCpRqAPn5gsarzHZYW60eev7F782QH4fD3/TitEO/l9ahov7PlnHtib06AyGYyfXxbHi\n",
       "JPZhO8i22JLKvM+FYhx9DyzOSXwsdBDwKsqcxMGg2rdGxTfbSmAzTPzzC7Qfx1RFWzwf4E99kAjh\n",
       "YgSUdxABxnTZpTYhJnIeRcTY7b9Dgu8irN//zSh96sMPfZ8Ed9JnBvP+ee6SG/tz9QSPaK1qMpWk\n",
       "Ctd9pkC1LQBCZFDbOTh2E74ix2KAEnmjqeVePP0ydh2K7kb8AxHpphkdtrN+KV7aV1xN5LStlYeK\n",
       "YZzPdn39QGfoxh4oPo+c00uZlDyrMO7lsfU2He2Xd+yMeK+9WrNsFFz/j7nARVjUNJYy2hhewADu\n",
       "gy6OfeG4Ig/wxLBJmPf5f+0tM1+bym1mmzScNVzG8FzH4HJV7Q8HF6kbhBn3idTebW6w5l+envx1\n",
       "wzuQ8l3iTvEd5HROtWtbxxjbBKY8hXvqHtSZ8gHOZEyqLwev+RTLb6kLMcCJ+UV8lrckUPYSqMFI\n",
       "LIpc/33EzU9dxN5L+Ksy41/gxUkV23gsUKVorGxWfNClmh4RRWSyu+9vmBLC6sNkGfc5bfoy40bc\n",
       "G2JE2eDw+zA/smJaXu/6R4ncwGkBbfKt/Lml3OFMpE4BPltPfENquaPYN1lRFJyH80kUiiiUXsvD\n",
       "l8PxoOYDbISeHhG503HvzLs2NnPy8ewpwQ2cbu2GeX4eF727oddNjXLvWvQXSXgTBZXhfoGwyNnr\n",
       "VUgnmX8+tkBfepS3qcbdibbwYDMEUGbAghHVX7pijHgF2F70iOBl9sbPm9yKjnb2pr1ozhVlxcZK\n",
       "OQnZC4cegwToAEYqZdbFVrXf8KLF4QPbeVTwRTOgHqvdm8C3qDnGM+CdbuHcveSFsZ97PqgwlYGI\n",
       "jdOKhv8HXh7MyYzqNKNXoEBO4lHxufjEzr/sTuQv5lraHfBS3dhHoLXDBV904QSGOcknRt8N/+1T\n",
       "s0fjrg2U13564z5AQz1WWJ0hvsgbdBgIloFXXD+HNUPjXF1zNGBv+PUOI5Po3RtXnnL5j5eQ1UkZ\n",
       "tOUVkQd4CktMT9S8rgRwvsZnAYDq5ecOLauPghhtqM22A2pnQsOmZr8Pniokgi0A7DVgj6ohnDzY\n",
       "RiVjpaPMcoI37CPQO3RPjxuWNOHGoTL8zN/bolxDdzOJ0P9EvPQNLpmnXIHAia5Y0CHMvsEK8ftp\n",
       "CMBBkE0m8YD0F9Wcapnst+7rglQD4FlCFIUnooHBOdpYTiE+QAr9/5mEMOHeVNUS39Uq14f4h0i3\n",
       "zBD7o8fYU9BRe6dpWfMFI258WXwQX5c21IfeA6qClsXnjOiLVqUHnX2M2MMxIm6h5VQwDAwsFt2J\n",
       "QEA3iuwvUEO8OkvNSwWHC3cyP0Ye5NhvJP2qpWdbBS36dXzdS8oBR3w55AN7fcMvCMzAAKp8gg4M\n",
       "AlPYe8zfcJ7DRuZUMK4HnGqRr77mK+TVNqJ7MS1pQP7T8Befn5/UQS8FVNxEaJXwDwK1U/qR2WSW\n",
       "YGAIv/oxq0e8sqYIoUl2U8Td/u3n8mmM1z47KDX+ggzKfubQaZQdc+fmxqGjjIVEn/+snFcB+GYf\n",
       "XUa4mQj9PSgcbo/rvWzLAxVc+zAp6jlJZKz/uu33Qc2d95oNxZq9nGxzFV6Z3fNahZOm13hnlaBV\n",
       "YResjUTs2YttxEYAZN52WASqORKav+VYI7vN4aY/vHLUHYNGqtTgW3YF1MU3G9YcHprePwAoW6YT\n",
       "GXSxPMCehvSoMFSLgBvyIcyealyJIxwcvenbGl1ZoB9Hv/ZUWBK+Rt8IFn/5V1IlW7roigN9nLz3\n",
       "fgTpMKjPiyxvqLFV8eDXfEhV5nfOa+WrnXh+gTKsMG86Z/iEtshFKsKTlqP/AgFwUOFVjYCoHoqf\n",
       "MfLyGfeDH3kImHeLzNB+DI7tbZeiCky0wP46+zwOdaKyR3qq7zkq1aezWmyhEFFszC+HpnbHywLK\n",
       "5Z0TXSNEDPdcyX+3a1yiGxAUEKVV0Vz9XEibW9G3+IYQnK17Cc43RFKJ8Otv/ccWvuzyhQqqk5L6\n",
       "bHovlP/oasF+WCMdmXrhcipeFmxiwoN5AnJgAY4zbEjsvzCgLbDntfPEonOIH8BSZESL7Hn3HLPM\n",
       "lI2HedD64kXkyjF0IQFytpifvy+Qq8BReKWgTyR6SyoP32mgIhLEMe6xI0pBzv3/rn/8sAmbJwU0\n",
       "RNu9BuzTYXA4uR11BMyuxTVsZaMkLA1xfPdmREI7/ZHWLpDl+h6pOpjvqFUrzN2ZBUd+YZRk+7em\n",
       "hze6q8ODcX38NPOW28U5M8/cx+LYGe3g2I49c++7sP/uxPnzxIJbkWq3SLmrvVmhQG/+/vTUS53A\n",
       "ARboGu06k9pu4KFeZd95VEq+g7yTMEPPOTNU6vkuOtER5yPhsidYeKuBJXHWbCUJ2y/sswc0P95V\n",
       "0sJuJcfyNXztlNt+QZH86UNYWPDhPhWQVTlZluiR+41AAUiC6GiuzO2qp2lltSxgyKoK7eum3Ndq\n",
       "d5RlZs9Bj7TO4/BqBPwnsDyp07c2QKB+9W2t/QLEUAicbWGKuXroaYYtgPBDOSLGT7v6wRMkHquX\n",
       "y5ptKAU9Z+Cx2smczOOWZIpYsjNMK37zgwrHGA4K1VHzAxnSjN1hygT+ou6K1AmFa6K6pEs1CYrx\n",
       "jDtYZey4XURC1PV3AKdAt4MhUbTocvBXcxbdF9zessxXAvwPFMmn4+rc5HFOlhiig1NgJ/wMOf4k\n",
       "7XVCg0IT+lKKo0W5yJIhQ3qfjDMk97sOtEyjbNKTgtZrSfyC97r/74r2mmg8nCCLcNJymgH9CJJX\n",
       "nPM7pwvTW1Vg4nRmNq80O9ASPAEsl+VaDGZuVivTVivggymnUSyTaO3829W1SvVyOR1spAiXUIyH\n",
       "7gjHZB2sQKufv4CauVD18XTQOSaJKCk+wmDlYe33Ll3yY/R4YCqGkSS2srzyLfSaNtK319ZyUJvs\n",
       "BGfa8opOZQtU7Bd6MimE5a7vvWquaxy37G+yPT/AFBnGMk4lecDbJo+1EItzBSdsEGkft1/cz/g7\n",
       "pmz5J3KGYf1GoUUHDHGrm9pxQMeTxEM1M/9ukN8JRE6/mAq61yUY5ViWjMe16W74IaXsPuSCN3P9\n",
       "Qcutg7jlYp5dd0WDdqcts4dlDk0J2pTJlh23dNkvwX2JcfIEg7zuvBeQUp/gqLwfc7CsCUICGpgD\n",
       "WHxwQTIxpO5WCQ9hzLCMZn2v54mKQsSZPE887lL2MBcoZHbB3aaEAQzVeeMwqQtTwW0nGvnGTgQ2\n",
       "7EHsdkpsbqrvopHpT7zPQcR/lvCbkUedQ9wd/Pw1IC9ZRmJdK+Yevz1Eq/2IqWBmqOFfqXiWYWVC\n",
       "SSccGU3RvNDZOvNH1VYtL9owDMoRlJKMPm0DiQVzfiaJKnfDzcP+j//iC2OQe1CMronLNvReXelm\n",
       "pn84nY54kTOC9shdmkwB98pU2QFaSE5KDpkiy8ZUMFl3tHKf9w912aiTje0t5Fbdn62GlPqGSD8o\n",
       "1v6vC/HnZBxl5DtkOUuObiudXl9c7LZrPshFObGYLG/VxhZOtJW1um3RRPsf5Dv+jqb1JaK/dfDm\n",
       "8XWHHibAf6ZpdBWghaJj++lMkembAjuCBV2oR4M/8pURz4GgrvUoa9QtwXcg4IdhJVWq65wXWFVb\n",
       "cwXbmKjTskaEJMoU/o+wPH5FpQf3LTudOYcsIBHG/IAQUU4V41JdP7IEmCdGaAJ5AX8Gi6IIUjx0\n",
       "zlLDnxJoBrP66uxbp1NBTQVdhcTDTX6W1Rw5mrG4yESSjFT23wrCXEI1YB1Y6QX8T8botgXYFs5s\n",
       "Q9Z6v918ZeVHSkLaGQArIiau7igyY8mpb9KwY3sfgRtQ/erYGCN7VvDXSyDCsYLo0PRh3fAI6+2v\n",
       "WdOY46oAScQooKnuAGVlSC24uzFEgKQURHMeYnc1tSKIPYoe2DxIt/EfOu1vbWZ5MeNRMsjgmVRg\n",
       "6s30wK7IZXFydSDByTfB6nTj/aFhibOgE7PVEeWLSQK4QSI5453L59C9oQxMjqxPo61lyALptwDe\n",
       "HdclkMX9v9Yk+/cIvmwmAj1S3NSEmgjFMjSAnQcy9zFHl3zEe2dN6dfkzPsqX+5SdWJ9eIFm3iTy\n",
       "CN5lOg8Ib00TMvaWVPL0f2/0kqeI2BJ9vmsnfPG4V8kzWDVGqWYlj3E7xUhsn8E0GFFrXpd8ToHs\n",
       "s3kyIq6Znc+AkF8LOfxkcR0Jzhfvsp9DL9xQRoZwZB/8PGaM1k8vDShr/r8G7FSnvFiGkcCIBq7d\n",
       "qdjgYzWN01qRf74GRb7tl3e6T5YUzUMl21FW4WfOwkiNK284TryGj/Yr8ix6VAcB2Yh8iGGUkRG/\n",
       "P/XPUF270q/wEuxnkTIJ8yYN7oagMkVmjDLFunRWJLTO3p7AnKDo/FeFNGXDN1oMNMhn8svsACxu\n",
       "1grrUyawqECMDXrjdKj3bSRGHA3THmXE0asDTdkNmCkBv4sjxC53tg6b5lIuhQnCg5+KmC1LakAs\n",
       "wlVVKazb/M5M5UdhP9/A/dxXm6GnsZFfM0EDbheAi73iEEO+xwx1L5Vz38v+KKKYSmS01UTvYU4X\n",
       "C2BVjdJR4ixb9erS8BexmzOS9cXjJwE4FmAlownjyiaAu6e4XJM7XFCdneXBbkIoTByaZ1sdTxS/\n",
       "4c/mOA28gVVmC11oZQJC2+25+Ajc4pE+TlceezQqmHoOTZTqG9q38C+D3c68GwZWEaVEUxCwFBgY\n",
       "uzG3mOZwagMYsLwGWIhUQna6j9C0atjkzc8pbC7Eor8BRMQ8mBOH/D02cmxCldtCJ/xU/fpvbQcD\n",
       "eFSTIhMKD+aeiJS9m/P/6L+dOAVioD4zon34taYoAzCAUWMFfujKEwPjEbnJtpB391nPRvNE8XGA\n",
       "LhKYIx1ITvlQ6b+aPOzqUou5/++1/oIsLHjeHn1ubH973FgTFRoVo0/T2RbU5+i8FJ8QQhktiDU3\n",
       "IyaUlKzIzUBQDMlY435KIPlXVBhocKsUEBmf4+1GjYs0SjsqLdmsdR3NTWH7hGokf+OlaYlxF6Ar\n",
       "KsXQlD7UUNUN5Au3sMvxnMf0iPnzHPssdr5hfs5BPxJWb0BrICvwLA1bWm5sjImaaMCqlBAgKXem\n",
       "wsFQczCoc6pAJa2HYYsXgxMVgiCe6VmQOIWS0/pnlf8VepROhGI6qt9w4zEybX7GT/MdfqMydAia\n",
       "awO39fJtTdYFPDnklyxKxdrYeMX4/a4JSMaOk44oeW8Ip57R3fa7IHDlwyFYaeTSm4LXez4elZKu\n",
       "tCSNqVX5ZK8UoH+YJTXsMNCuuE6E/B5jqIIUJypL/FLbbRTSmlVVKRJ9zYko8ionQ9EnSgVEjQgI\n",
       "73tBC0kRfRq+29PSBAKvch/qmTROg5wZFlfDc0+UtyJWQv6T9RL6xILIMWXdRnoPOpI7k6lsgWi6\n",
       "1dBdR5Zottl605lyehf8L8jfiaNN95Uz0KN1/bDynmMjhwg42/wC1N64ern07tcqf9+IPpcrEet0\n",
       "LpnNXu7xlbEwqfuFJ6MS9ae0iwe5FP83Ov1PUtQtLCclp+QZEZ8gDplayJF7IHjJ2zWWlIX7fbbj\n",
       "YPgSivbg/5n9+zV/3jIUa8nAxCOHh7AcklpZ6w2jAU2vvDwikQOUj9V475+vu+IxKQ6VD2Hh9jsJ\n",
       "vnLoO4tQVnnmC0G+2IY1+M/cWGjaGKfeDQHh8zGaJSeWIngqu0h7CH/3qa/nOiIaQ7l0B4TxqZN8\n",
       "AnE8T+/Iz3Q+PqZMvk34e9HLqk3HBRkDzLhz3IE0uQitlkqUl2zZENon9O9x0OIW+2e5LraMP3yA\n",
       "Q/aLURBO75aRINAKT6IPTAIL56FVqKtfoAPe5SNCnaZskpO8fsB8KgEu+hlFM223uD1Q9qpjftTD\n",
       "D9TRK9KUwzKUnTMe0aoWZFIieqMqfZoKdZudCnxWHuhq8BufjT+td6039Q4zRl44dpw6yvgKt5Pm\n",
       "b09sLKKcsPkUdxNbUZePZTzTX1oz5aPH7GIt+UxsGVf9Zz5lTL6bSE5YtoJtpzFqYcCgpnWjTFNq\n",
       "eXsbYba6zknPwANk2QyixGh6dW9wbxsmoA+n5A8OyADmzcOmlqBjXWM6uoNAYw57byHaz2GgR3Hp\n",
       "+JhcEoGBg3R8EQzBQv8HyL0RBz7L6fz3xM/kZwIMYyCdobJ3idZABPOaFG27AVCHb5L2hF9Tqwj0\n",
       "+Xbf7dsiproO6Rz5/ImtcThV0a+rnlHaK+2Uxm1A/2otHGPcJKMx20QOjMKpmhW3sdz0JYXipu0Y\n",
       "+8a6+6aRFSHJCiPWYBLP/enwdLR6cT3971Suv3SMqR/1EsJacxIYejrsLXYuR8MY3Aj91M76rZhg\n",
       "ETN9ZvJ+otkX5TfamBFmhifYX6ffrCQPuEokeAhn5LLBG1Zlb/W4iH6A6LtQw9nzvm4TmHdnJ3+l\n",
       "/QDbOcTpblV++PCa8uL6YM3mH127GC/Ah3hpXsOe+p8Ud43geIU+y7w28kDB5o9l5ti7BUuxnB4P\n",
       "lf5g0YYp93/46ggp3AeNY2AHumi/98X3deOlFbubrW7ypcsvAn51bAIO2TwHlnFkWa8E7XB5IIht\n",
       "5aKI+N1PVcE0SS95XfF1Ay2wXxPEx+mnoMBs3hQypHTmJyXIP1WX9XUrC2nVud+ULLzyVtSvBeBc\n",
       "6wUxwcAih6uNvEa1sVFs2ik3kehpqL1xaBWWCjWgVMB7Es6Q7VikDWlJsk9pxYQdXUEiDArZ9fSW\n",
       "9enNR3GZcd1uoXp7VZfn6g74oOQBLdWlq4CM6lf7MVialJm/vxmg3xSijGMpzxtUGm2bPDHiKvfm\n",
       "hDEkwpM5dqJnaFI9WZFQOhLVk5kC39qUZ5ciy/tHFjaTKga7AuhtW8Y1YrwunrkMaeYULi7Yhhu0\n",
       "jR5TvfpIPiQ1SzQiZZEqNzAmv+tvFRDrkSWhA1FONduwYU4AudjW/AqTQnF6LqtiCffHjBgqLeCe\n",
       "C/5LifwmT7L7Lq/kzPOEYL99hAtHvGQUHx3oN7W0o8BsbkNBzb+1R1+MfofTLBYFUdaYZpFl6+1N\n",
       "dZJ6866zGINtcvGdSM503Ca3hsJXcY3i1qcilg4Iz2xsOLCwf8Idqy5Iy5ktkjxXn8gDF9tbYy1X\n",
       "8eSlgCsVTxV4q389cGhIFi/ZBcvB0UsUB6bnMo1WPXIY0iMXFrSzwjhuQmx0yj9sAB6KofqvWWnK\n",
       "8OsobR+BkNnT0wBBetMkFhVKu+FJ1S8Njg4lNFFkx0RO1tKoLc8T7CUZdZH0ipHXg1dvSJXnvIcZ\n",
       "r5EzkhBwykHOvaKhJB/OMLT8y+bZmr3LjoMk8P8PeGoteOPUb+F6MpzncBBSCc3BHA0TSg3tDrhZ\n",
       "d988/GICYoML1IipQFQE5bRno7FiVDUGQfoF+r+na3OSiSaotzRkU3fMUqlQiUliwQUWcOkYIBOe\n",
       "XSYV6YVgrjbne3LRO352AYyjpit4ZNerkWwoijvQh+jPeSfbnAQrD0qKSixilduNhjJLIYoBwjJz\n",
       "hkFSGwuUF+wNU7xIGDkov+n/4qrtnzUubFmzVEHd9QMseaOYbyKqWcpd2rgzHJcVMvFMAtdibcXG\n",
       "hkOdTRzOFstjnk+QhiWBVgcozQKPx2a0b7qneGCyB6C/V5v20IuamyLQdL0MoW5RDSrvx/EAXC25\n",
       "jneWbxIjFpG260hUxmhIFEC6SxKA3GfJXWUJZRLcylD/9Zz/Yl3CegGACeAWTxTy3CCXcxh0evqC\n",
       "3TqpZlvdDa9juunkXTct0XT/6b8CKXu4p7QVEjf3pJ1Myu/ZZKsPVOqO520qBWdpqmoL0pqRNNts\n",
       "T9R7SBSoqUoke4SpK2qCUTmauHTGdeCAoRGDFYWXBIR55EvO/xD82ZEY4q1M1CMXNd6CZQRVJphw\n",
       "Eggb4u7gSQJn9fx1D2lRGHVk21Egt7Ca/MTFibEr2WgnjGWHUGBABzDSD9CNaRGoQWoj8s7T9IGy\n",
       "XeIan0CkXOTqWMzu7YTCHklBL5KxG+6ZVifxCFMq0b4PgN0QMbXI81V6yw3Pm83aIdMDPd5z7U6w\n",
       "Hrij3Sv31uWlo7dcNI4kZl9/nmHHQt3ZsBTGfLcmhWVOdIb0aMRhOQGzB+NRvSkekHTx9g1P2X2D\n",
       "n5QcuPbVHd379JFatk2H2Eq+9XCoBrddrhZVpw7iYkkXXtSarodTmASGr2bjWc9Vq4NKms4BKXbh\n",
       "RWQ09M/l+r8JZVmWBe/JSSXUagqHOS8XZ1iIzCf+TqNLezWf6ey//lH1YrHzUxtja7kRcG3f9wDi\n",
       "rCktkrGh4DxlAT+bY/igGdjhe/inqsUxhx19TI0jmidwfkok23zZ3OX39G8yIUXIkv+AeAZ4qKDh\n",
       "q0PcjaRAq4hqRZhW9T3TVVAWgS4LTcvGsc3LSjcbiFqFRxU6nDG8uri08i9uoLtNAOWskcvU40mF\n",
       "B+bJ1Xl4voh2/iFALevFAcYQ2++fWRDYvsZltV0TUzZp2wXBrnOHMdG1SHFi8omffrg+jJm+a4wK\n",
       "oE4D4XhqgnZiUOIi3kQzE5JcCbn/EDPsRjse3cYh4zOpOL2FplitZnI8C/MHD6rTLBOeXjP5vFNB\n",
       "X6Tegm8yRqjg1Y0Ht6P6XBqxgRqllnQY4XQ4WG2lXKKcOzeOGYE6LTnSnm9yeI8SRaTVLyn0acDz\n",
       "TD0/yG2UJqFDZ8EOzE6O97I9+tLvjYDVRXge5+w5x28pNcu+GYaBIffmTgV2mH5DZrn/dzrTi2cq\n",
       "QqJw5EWdEOA/dL7OWEO2B3PFg9R2kYB7SZoMpmefBb2kC/f/6eAme4NVajZqDvdrdLTwFvQ+MOFv\n",
       "D2vV5I+UKKHhbMaD178HaPQl0pbG8grYk0xNcf/gkJd1YeqbZnm6ME0+6+wcDKZMcb6leh0RqJqY\n",
       "PmxF23cRJUsdX0lhZUb+GQVLtqfHucV4lbbJ8xD5VBQ7j3FV2LIGa3nlIptop/EoDFbDfuv+a6+V\n",
       "5/oUtHZqgmxoSg1MRtgSN/vpsJZT4TAPuIn7Qg7fekz7WWW2hVc/CFj+k5Erkrow1sHDlLP/2cbf\n",
       "09X/TgVNKtKuX1WJZZkq+GW+Svhm1Cp7+uOFXKPnXZRKPj1vNzm82TZxviPhNdrSOg1wRJ42qWhS\n",
       "1v1M85nmNY2CnbU9bzZugzJHG3oCcS5Pqf9wJkHQCRnnkojHgvEODrEIP1K/pXZcuSAjyJnkLQma\n",
       "3ncVc3Wi8c/0QyzJGDptXRN7hBihPSRWaEtrNqILeeemo8QX9iQ/aPe6Bbpk3EawUUk5huqBp3ai\n",
       "JezzAtKq8ELsT0BQOjoKt+655G20WYmsA2Drgz32qpHO2Nq6j2WgiakjM6U7AnUUH26H90DKyeE4\n",
       "VhhHlDPDm8ZRnYuml5kbdI5TDZ34CtYER39/uXA990qkrLy/JvoYUyaz6OE2Q7J3//NeBIHv9xW3\n",
       "aLOKKYsOtUxtmlh+IyoDhcfY63hvvmdTkDQgWn//N0PaWH91Dwsb4dlfnJ2Q3EEkFq8QNfT31FWz\n",
       "nsQH2BogqSjsuWZtWWcKkLX/iT22sLxlWSC8XKvTvKDirHbenGGRFA4+Rva6VCF3g11l4fbhG1le\n",
       "gOdOzEseFgZX2oUWRBxGCuZDvZtjHVn1iPi02Sl9ve8rxXLw5E/TKlo7iPm56Oi6dsD3d9oOnq+F\n",
       "fGey3+3hhLQiTQjxQtTXp/Xb49rlpI8L3L4Cc3E0dD4xNcYVcBqC5GeR3piTXqZ985NRKOy0a/Rw\n",
       "iyLitVJnKWMOIqNYz9ovoQ9PubAwO1c4YJEm9cRAhTZoYm/6Rva0c7Ca/PnX4YImJXN4XW49KmgP\n",
       "pawWa2DaJ5xHkrnY88mxA2D9jbznaH0blU6Jydp8GU7A5Ou+yfFHTSE8SejkCBOOUlABf7dqG8/e\n",
       "P2U8JJjeW/Ul6ljPAt3kBcL8oI/oX7q+PC/WdRrQrDpSBzBC41Co+wYXs+xKG97ixdu9tzwC83/A\n",
       "e0Nhx5zQUEnWilLTY9TtbCLc0n6z/kUaYZudvLgvGAvrWys/3NC0xZf7JIybh4KYGjtGeP/r0bsS\n",
       "K/Wy9HhNej8We4IGWeOhGCFS38FeQQ7Fz8S0IYY3VbhxXcSEi7o4M5Y9VK8FgY3zl10/nZf3OvZR\n",
       "XR9WZT1uL0SKQ890vnu+909KEkQLlM0QytiztIfdxtJuwzjm6ZpP0YWT2flaQnTklCFemWNxH7zG\n",
       "HU0HKiTTiEyTRcxKI2m3Agdo2gpjtrA2r6cF+bFfpcVTr7NR6Wt7WYdJ4SISSyPqyU1NKAkkZbQ/\n",
       "7W4hW2uqQO+GM0nELs7xD2NdTAslVvvE6KQ/SBMz7KthJTWhgkI9jub6hQBynpoo61DxcGZV0wjh\n",
       "4+e+thJv1iuSU0yoMfORe9rlSIKyAUE1zeGB/oPUI/eK16IRD3SzRFOov++kTPiPl5FJiW4mfFtF\n",
       "ujPmrZ9P7atk38o2PrETjlMlAKFCWDwxtyYgyxZGZAedCazGYPIG0JdTTyaDHb9lnjz7mJZ+rxTu\n",
       "B6wUdtg533ow3K7nH4bwR6Hm55qRdAEUGLByZYgPho94HJsqUM7M5/b4vR0cxtRWeASt6rZ7bc9b\n",
       "3QytONYoM6jURtk2oWmJ6Ma7TMOxHczEU4CwwPR/IZvIj4H6ZV7Qu2kRVIl2KzHgw0oMekmCHDmA\n",
       "v4NQpV4s3FNty8C7b1maYXGWn5BMyWrVhWloUgsZO7f+3wrO/n+E667gjBV95CtRiSsVyXaLFHxf\n",
       "cp+l8UM/LU9DA/51vOEYcYmmRI0oGLZtne+HZyfx4gW7JZW5ks8wkREC1Xbu04mX2y1y62l8urba\n",
       "RPt/jOJamfILSesNoThLH/+98xv+ydUln4lVi2JuDULKXUOCiCebnaGCXU1ic0vS/Ynz2usvvVR3\n",
       "iuyYiKk20IJI4ZWX8mzl5GfIoK8+9JEkmtrqYfz1zTjynU38yJrASa172uoYkDyI5C55uedhTgK7\n",
       "C98ji8q1Q4OCt5YnGAeIUno1Cxl/dYIzVMtYQr3/oQu4Sf9Sdis0JGz0o97Ro0IGhA2fUNm9PekF\n",
       "Fmfdy6E7WzZ2W4bSQgytsAGJIBY2K3rgAldsNvF3dz4yuNL4G0F8TVmFcFn6+X6BbohjxzEtKuNt\n",
       "TFrf6jTCIqMvIxV4INoLuZ8ygzQM+oz1Myvw+rttCEVNNRkgbPTCb4rs0XHASKAwm1FCsuTNwFUu\n",
       "Lfcdi2gMun2CRUpv+4hyoPlY2dScqEkIeZWSUbq1Ky/2hOIzekrrdvLMnKejwzGl1T5b+EjrcFZ8\n",
       "3DXRAXPG/ZKBhsEruUYRSPKJtKtnfivekjXIjYOshwMJrqLbGn2KLDmVLNUMP0V3Ns+lGcDXMeRI\n",
       "683sFCkOVpAla18AsrYifakJyi93A4y3glDJfb0JmOzFCPadeX9w7rJkZx8US9zESF2kFR8m10jt\n",
       "9je2t16fLzxpeW04VsCg5oqfG/m+XJpkKRKoyBqi4/E1LFv66RvkW8hssUfV/ltDHk5SiyfwLYNl\n",
       "rwJ1F/k7uJuKvkGofVIhGBj+SBCl2NES3iApp6OAMU2GyiNlbWD8A5kenLL4AR5oPJXhYdve/Syp\n",
       "RF9HGpVA7r8Jkd6OI5oN/Yn2dk3ORDiQPwY5IxQ0rv2eYvgFHna4h73ITBFbEIN4pijBoo+MMuzB\n",
       "jnsOfXAaI/cBu97xP58oJqz4nzhOULJ8SPgOcRDXbyd0MKsv//y8diKBQVkJDt9oSpKp5mnz9Jai\n",
       "xaOqyCTCccNJuOVy5jUSZeek3H20t8ASZ1PwhezjfVZuUE1Vb5ljBOPDgNbI5GbNlaloEvWOHpdy\n",
       "MjzxXoA00qtCQcjrBsZ8sejaIzHKwoW0ao+fU8xmALX2+xAb8pCYpSZWdg6HuzcVz6pcanjzmJ4X\n",
       "ZHdB4pgQSv7ULgdHhhf7+iJ6im9+13urbRzAy7c4Z9XpxoYShxOG4pCfHIyaF7FIIq/7Th7gIuk7\n",
       "Fvv15cGOHzKeTYoc0vQ+Hb2kXQCz/Mw6Z6AtbH7AvMn8tNdTl6ZV42rfxdv3THgJIKtwD9+M7hJ2\n",
       "sMoYd6Mn38jWi7z7JKUM72CAjL8o4YmF+Y6JRlXB+NJEhmQQrVx6a14sfEUeK301QCmiPGsZoMmL\n",
       "svuFi8naYCLaDSWIPi70ry5i9gnL9fSBzaQ4Ih32z2mZQD1sV/I6f4iO3NVgf/LXl/V3OSgm/xEB\n",
       "LjB2/bbO1SkkLnvncqs8nR+ITfqZ0/pxmWnYIn0mf6HrMLvWr3oFl8LLYUHW0Lhw6LcE8mtyhtP4\n",
       "4NnaKne4ZD8smOpwQhzXspB7yawZyqaYd2rbhVQ4p91TRaw1cQdqpN0q3aUT4VWoua3E/yUA9b6v\n",
       "fb9RrtFOE98MZFlMDPCU285tGu7J/RXblh9sKwSZBP7XrkdxRt2wR8qFVD2D0O8A4qrvZQ4bjCTe\n",
       "6fGrkGBPPRzKWz7fiGwyoSXb4DQz4AMhxfpvh7W7F7Q6cB5VrLZRBhz7hdlVtngEgTtRTMEAAAH6\n",
       "QZojbEL//oywfkSNANW1kFrGdlSi5gC4jvF6zVYzumgcoBEzzPP6l49CEq/5UdZitC350HBzQ4SG\n",
       "JXZPhhsM61/dYwDaFt7DKyLzZMPdGWC1jz5EjLbCMcQ0/258RWuTVqj1pZ7Jx2+SR+CXJJEbOHK5\n",
       "1AbFztJHCBCB8N2m4nl39zOGTktsZZoj3+caZSK3poyGtnfflWzkcnqwUBqYz/hMCWQzeYiK3aS8\n",
       "e5yeQuWL887v+SiVG6EsE8tnBbTwhXL4fkdI2ZwHJsg0qa6JLJdM72yshsIfpjH42IxuXwI20o0P\n",
       "WCqRq4XHRbon6enyXYza/TY4DbFyTspnXD6GOUY2RoWvg1QsT38EESuv03MZLvoFoJy9IuecSkIW\n",
       "gC7puRYLsaj8jAZU0w0dJ0VraILP92/E7u30r7A4yOR8vPbvoUZSSPwgt9PjunwBul9tRkqadzPj\n",
       "p6FNIdZVwQBs6+YsqSPVSrPkGAMfVQnd5I3sonQl0fHKiOdbY5ryKeA9CpEBpZJZB8DyOB+L2QLP\n",
       "7y6BDNesxXrGSYLQhyFDp09ow9D5Lz1XIwjnB17OxA5YvJq4v9eSI+XB9aeUhkGT27hU/ciA0V7j\n",
       "Wi/U7BTPF+Ov/r/0xjH91dFdPPQsrKkPNBCjho2OAfqU3CtRPcIDqnuiOfhzhkWAUEAAAABJQZ5B\n",
       "eIR/AoytsttCNbnzpu3YDMnMbtgTgKdCZqbNrEdOvL7ZE8lIog+r8Ftw2l9fxvBAAdoa6Oy9oWXk\n",
       "aMA7BZI9VXE8TwCCgQAAAB8BnmJqR/8Cw55DM4GK9nHQl0zy/YpgAA2gA3Uh9PepAAAAm0GaZkmo\n",
       "QWiZTAhf//6MsASfKTxb5J79wdAJmg57F/xpA3746Oc8FLRXEBxs0RN4UY5dLM8lRBuk2IOXtJPe\n",
       "0BqHBIKjuSAqJrreeDDZoIw8etDl0F0gWlS3WfwExbVAHFZSf5+ZaVNV6beS5yLCnzga8dnt3fY3\n",
       "lNpmp6E3D/EI6QR965MtRZlWoOWboZZAadkFTt4nsaw47/lBAAAAOUGehEURLCP/AbrebN0uIpbL\n",
       "n2hOCJ6a7MKAUGgr9ZAALoHM1Ci5uTG06qZZzF8BrHpaO5VdltQEvQAAACwBnqVqR/8Cw55DM4GK\n",
       "9nHX5CRxhnHMmoAJloZJsAx8COb9lbdbsak4vW7ovQAAAIdBmqhJqEFsmUwUTC///oywAAZ52ZAG\n",
       "bnkv1FIhFgw3wc8g1mz/hAd6X6YrcasgQvOGqeVKURXk+iU+UmgLTmN0gdA9fkP6iwTmzgK57ElA\n",
       "+Pjfe7oBTCS9i5NjlYQeJaaAy+k2HG4euUfwHBPVtvWhom6//XfH8U5VrYX+nqh+ITL852pwYrcA\n",
       "AAAzAZ7Hakf/AsRCJHp8RS3crvLCOblPMHDWtd2V+wAAPwKEeletRK//1b6J7HRYMyrJ0ZvoAAAA\n",
       "lEGayknhClJlMFLC//6MsAAAz1cQgA2/UoS4MwseEokiuPRwUQErWgmn6LwGZ9JKmrmBINbh92tB\n",
       "x1a0CPDloAy1T8sPBDFTClDNKSbR/U1H0tGrXMQBvQJkLtuzhkeKeZA63d/kwWDS8Z1S3GlxeNG3\n",
       "Uu8+AbPuvm/+f6e+QXrz1Uoh34F6ZKotVN0RcIQC9fz+Uq4AAAApAZ7pakf/ALo/aAAuKjiCRMIA\n",
       "cVyq3Hluh0C18+wrzLS0x9sOcFJXwU0AAABeQZrsSeEOiZTBRML//oywAAIAT76MCh8WlvCUkjV6\n",
       "1c+LiGPHsnwo8THtNZJ/J1Co+5itS3DPdo+o5RLkybBApFgRrOqmCq3Up6tE9tfONqUenV3Ok3L4\n",
       "3Wl0l93FwAAAACYBnwtqR/8Auj9oAC4qqiPiZeGQ5TwhADbFY21ZMNtoWJqVCTjPgAAAAFhBmw5J\n",
       "4Q8mUwU8L//+jLAAAMoZiY6Yu5NTYA2+PTVoB72uSY6UqnxU8WP6fnu1NFYjtDwlzhmwZDETkZxB\n",
       "Lg/8Bu+czijbjzk06QroQqw+wvPfDXr1EvRZAAAAJQGfLWpH/wC6P2gALio2R2e8xIunAAJxfIAn\n",
       "uZ5n0OeOsU/7yU0AAACQQZsySeEPJlMCFf/+OEAABhusXZY0owH2LNqSObflHTxBNv4OEjD/sYfl\n",
       "6f/33ev9OCAHpvbRP0CzkR9IFATcashkZH4pMDbWi3sqfhMK5VftA36jajy6nbY/Frj4L0D/uO4a\n",
       "ePYgpqK11y5gGUcGRtKBZLqsKcNFzmeozrUvw1qRvb/hPvkrbpkOuqbxOt9zAAAAJUGfUEURPCP/\n",
       "AHQMqr4cdfZoS9p+RRCQAuluW46GVU8Av+E7lxwAAAAdAZ9vdEf/ACOsRup2HLBb88pD9sABLslF\n",
       "8cFOk4AAAAAbAZ9xakf/ACO/IfrMf6cZSv9JMAC5jIlmaYY5AAAALkGbc0moQWiZTAhf//6MsAAB\n",
       "inu7YAq2xG2N7KIA7UXai20kM3nlxEjaz6x9aYAAAAA5QZuUSeEKUmUwIX/+jLAAAYqHWQAOkenB\n",
       "5G4ehQChKf9N7gGYncYefFarfcS3fXFBLpBTfkyuWmmAAAAAjUGbuEnhDomUwIX//oywAAMAYUF7\n",
       "Z8AHSPXCZKXLlv83Twxy1YOTQY39+R32oT0vDf1ka3Vd5oRHmLw5ul9hRf7q30sWteC/tvHGzbBw\n",
       "LoijUERJ9mAfLBVjXGkgMwpYNqHcsoNie7kLFljcQAezq0jHBeaGlJrhmofQm0FHqkJLVVMSZMNv\n",
       "fEwtuBeYDQAAACdBn9ZFETwj/wB0DKrDvLJRQ0HitsIrM+5GEACdupJqqtnagvl3EXAAAAAkAZ/1\n",
       "dEf/ACOsRup2drYD+R/gAnanm7VhNhHYgTqaMg+SlDDhAAAAJwGf92pH/wAjvyH6zJ93FuDfl0AF\n",
       "rWloCCgQOAaL+p9nn8G8KF3R/wAAAGhBm/tJqEFomUwIX//+jLAAAwAiYQeyF6ABvNvQkKrTdj3+\n",
       "whiPb+DGZElT8VvxHtGHtwZYoirLDk9fY7Pm2R4icM7GdkFRnKStO6Vk7jm/TFfYWTk6WjqFvply\n",
       "KdPLL8q/TTatLaH7QAAAACRBnhlFESwj/wB0NyHD6qQh2bSVPUDjZZEALeKy750jZ+koI+EAAAAf\n",
       "AZ46akf/ACO/IfrMn7ZfAAJxkooihnAf29H3hVbBoAAAAHhBmj9JqEFsmUwIX//+jLAABglLEbYA\n",
       "5h64TQ0+hXvpfawv2CHNV5pK/YqRRRALFNLnVUT9SsGWsFaV4fNj+ZJ/uREAZ7U+GEqveomxux1M\n",
       "cUooj2XNI+ggGfMG67AOByXuPsmbJVfpCRrok+5ss6zPE705mm5HyoMAAAAzQZ5dRRUsI/8AdDch\n",
       "w+qkIdt0Oilqq9gAJnIJoKlf4mdlf/Cy57LahTCREie7rYpMt4d1AAAAHgGefHRH/wAjrEbqdnWC\n",
       "9SX8NABNGs7yoFdc6uUapgAAAB4Bnn5qR/8AI78h+szi7afw6AD/FIIK6KeC1MvZ4mAAAABhQZph\n",
       "SahBbJlMFEwv//6MsAAGAES8XLuwoARq1wlvYyDN5Eh5z0Ufcb3SZTxNtoEDE0l+kr92DunbKPum\n",
       "pJwLumEcGLd79CVhh22AF6X5k0dZNx7ZHI+6BrBUB7CPBgfdnwAAACgBnoBqR/8AupBH9+qwiyVW\n",
       "pKFa5ABNVrL8ajeSRChJTOHSD4uI90HNAAAAREGagknhClJlMCF//oywAAYCAgcAchYEmZQo/G0b\n",
       "vWM5m5rWuNyO/McK/nJpOKYR/X+pLpoeVXnRAqovit/ZXZHRZu6BAAAAa0GapknhDomUwIX//oyw\n",
       "AAYB94YArfn/M+/0DIX/+mhmqjTeeNDmIHEk9B85oMhg1v7z0u4Vy249C4Nu6dH1A6Or8HRpYAJR\n",
       "DcIMb6MfeYUo0eaINgwfnDItEpZTaqpG2+42uqmHlvJTmK1IAAAALEGexEURPCP/AHQMqsO8slFD\n",
       "nx5502ACSGZUn6bejophJTOqJwzPZabkRIeBAAAAJAGe43RH/wAjrEbqdzVl8JJABNL/ar8ODnLs\n",
       "RqPQLAAqMSMZOQAAABIBnuVqR/8AI78h+sze7ci0Lh0AAABXQZrqSahBaJlMCF///oywAAwDu227\n",
       "UoOjt4pDqJperOtDY4uFzNf3vLDbmpR4ZpzlIL8arvxwdDH3E3MeabdMx2y/xddj3WvRssCPbBB+\n",
       "Hc8StbkxVMPBAAAAG0GfCEURLCP/AHQ3IcPqpCHe4GzMeCUMt8BzQAAAABoBnyd0R/8AI6xG6ncs\n",
       "AwaACWq+/qWINIUbDgAAABwBnylqR/8AI78h+s1o2u+VAAQ3QU7ESQZZdoB9AAAAbUGbLUmoQWyZ\n",
       "TAhf//6MsAAMEK4FYAl+9LqchiS5zvbBGEcFfUggLDY1B5wpoBPW5nWCV/g+OXsDvWv90w9TJt47\n",
       "yY3/NLTUi+JE5B4CAJ491/VCp0yspcLCGjNfAPBeeE10ORgdVhmm1kVss4AAAAArQZ9LRRUsI/8A\n",
       "dDchw+qkId7bO2hsANzSCQIJUnq0ywB0z1XM6nInBa8PSAAAABQBn2xqR/8AI78h+s1c24PuTSt2\n",
       "6QAAAFlBm29JqEFsmUwUTC///oywAAu2U6ABYfUMBCRrgCDTZV+0fiCzjqtgFTiUvqbOE5dwjN6w\n",
       "74t2GWxXjqZxSW0Ly/G2+GRX3BOGdovYxitB/EObbrmz6x81lQAAACgBn45qR/8AupBH9+qwizf/\n",
       "3j6gA8iHBPUMNmEfjVTfDUgeFomaCUelAAAATEGbkEnhClJlMCGf/p4QAAueaDwBEJVpiMvnJhjc\n",
       "lVZ0u/7s7DirhuefVIxcMGX311LEo6g45NuYUYo81gemU8aS5O2gHoFvF78W34sAAABHQZu0SeEO\n",
       "iZTAhn/+nhAAC55x7gBFY1q3S3irt4yJ0qQ4jX5J00I6svsOzn3BZj2qX/2K94Q15on5XPRU5/nl\n",
       "Prw1MEi8G4AAAAAoQZ/SRRE8I/8AdAyqw7yyUURNeNCACUt1ClD9VDYQROrsdsRD6u0j5wAAABkB\n",
       "n/F0R/8AI6xG6nihv5AAiDrbXxAjYHLgAAAAGAGf82pH/wAjvyH6zWHlVABB4JaeKx4VMAAAAFZB\n",
       "m/hJqEFomUwIX//+jLAAF2x22AImM4akxBzJAQcYtC2hQh/QMtHrjNrCppKSk7gbsZvMFX1dXa0m\n",
       "mC4xyMLCH2lUBTuUBlP0g48dSilLvrDUYyLLgQAAACRBnhZFESwj/wB0NyHD6qQh8/CMAC6h/92X\n",
       "iMkQs7B0xWla0ZcAAAASAZ41dEf/ACOsRuqDleT3uiThAAAAEgGeN2pH/wAjvyH60LxrsGhcOQAA\n",
       "AF5BmjxJqEFsmUwIX//+jLAAF2x22AOKKVC1lmxji8mXOCakVy3DEOrS0boQwmBL3Y97awxntvkP\n",
       "7e/GDcCbNV0PrSkZR60jbA9POHi6Wj2c3uyAG9zYzwELbAth8IGAAAAAKEGeWkUVLCP/AHQ3IcPq\n",
       "pCHz8aKACca7SrKj/uv6SEwe6FQ6OHDrSpkAAAATAZ55dEf/ACOsRuqDlLSX7yApwAAAABsBnntq\n",
       "R/8AI78h+tElM6ACYZrs9dAr3Yem6YEAAAA0QZpgSahBbJlMCF///oywABdsdtgDa2WUczKfbfGD\n",
       "vEh6Ok2pouXNS5LuiC5XyUGHwIGLaQAAACFBnp5FFSwj/wB0NyHD6qQh81uGABcUh21qc2/0ZHRm\n",
       "Ak4AAAAaAZ69dEf/ACOsRuqDZoUACR5yEEn2bHvc2HAAAAAQAZ6/akf/ACO/IfrREYkCgwAAADBB\n",
       "mqFJqEFsmUwIX//+jLAAF2x22ATDhRe/I6nkHASBsRNEXsblwHnwSOMrO37j4QMAAABoQZrFSeEK\n",
       "UmUwIX/+jLAAF2zeGATDhQMpQcPxk7jVzD5z0sc02S+c33I8TLrYy6+e0XMRu0M/9J3WMfF8CvDA\n",
       "AeN5g1ecRWJfksbb7ALyTJv7bZZzbL/vJ0U51ZDJwtbIxsA8iYjRk7EAAAAvQZ7jRTRMI/8AdAyq\n",
       "w7yyUUiVulYgd8rEYJmgBuZbinihc1uuZi9EK/bH4/SwPmAAAAAXAZ8CdEf/ACOsUTgW09L0IgKw\n",
       "zDBgoIEAAAAgAZ8Eakf/ACO/KJwVCBzZd8YABLLDcdRyNK63JBOEErEAAABQQZsHSahBaJlMFPC/\n",
       "/oywABds7VgCdlWYKicjnf5lFqbhY0i1F417V5a2WTQgLM0/Sed7PB7EJs9JLmNBlu/Q9NYD/bqx\n",
       "tOxFPdvUbBh8IGEAAAAoAZ8makf/ALqQR/frYFoBULTU78AAmaH3/sp4dBtpkEFsdIf0mWqXcQAA\n",
       "AFdBmypJ4QpSZTAhf/6MsAAW1yTJj1k2AKtisKr2t1EsyV9HDHMi6UophuD8fxDtK8V26IDyccyf\n",
       "B/Z9pC5sK/KYStE15Je46JePM/2EUvCBgWfr31QmY+YAAAAeQZ9IRTRMI/8AdAyqw7yyUUgufpT6\n",
       "+VFAF4OGsGLAAAAAIgGfaWpH/wAjvygi/BX/0pWWABCHzFLDeZ8RgKn4bOF7VAkAAAA4QZtsSahB\n",
       "aJlMFPC//oywAC3+5oTzN4AOVzNQ3QThgXq6qgWBPsld79bVJAJTfelv8Xhf/9kEj4AAAAAaAZ+L\n",
       "akf/ALqQR/frVT97U3YL8L4+VGvZDUgAAABvQZuPSeEKUmUwIX/+jLAALJtiPgCknrgHhYEtg74p\n",
       "frW9oAePZrbxu74pHxZd5xasJ2TkWwBqEdBVhB8sFPLZ3fWy3ve3/LxX0+11iyfHghot4I4KaNl7\n",
       "8v/PqjReo/Dulo4KufmkIDymFOpPPgLtAAAAKEGfrUU0TCP/AHQMqsO8ymuTnbn+hdqsAEgluP/o\n",
       "tO2tXHwkkJYWDpkAAAAVAZ/Oakf/ACO/J6/3sqIaY5VV5kHxAAAAXUGb00moQWiZTAhf//6MsAAs\n",
       "qI4Y1EXAJrjlBpufJNfVL+pSnl3Hff9YVSS4kvL+Udf0yhybIFIjhx72xbTlJ95u50Jy8n5QzE4P\n",
       "mSl4GW2caQEmfYIdgihVpsUOOAAAAChBn/FFESwj/wB0NyHD6sd6I5mqgAC5Ru4Czz8BJF3o70r3\n",
       "nVZ2KKmAAAAAFwGeEHRH/wAjrFCFvKwmKfEpJSNw3bC9AAAAHgGeEmpH/wAjvygi+kVPCAA+Iag8\n",
       "ZQSP74Id5eyvpwAAAEdBmhVJqEFsmUwUTC///oywACyY7bAJhwoTLqQ+OhHOm04fJw1I+EBEXPPm\n",
       "gW5P22D+ZoKEFjhXfbmsxTPD6Trgx4elUPgiYAAAACMBnjRqR/8AupBH9+tIs9jZYogAH6/+4XUw\n",
       "r3fFLGMJk6DugQAAAGlBmjdJ4QpSZTBSwz/+nhAAKzbEIpA/Vv3AFbchYXjqz3gnQO9O08meKJWm\n",
       "wmPFSr1RRhUfc2pLY7lS8eXMclA9Au63flbuDHJklObRzarIRLzosNXLMjadSZp6CNZDqKYTUmCP\n",
       "w4k9E3AAAAAlAZ5Wakf/ALo/aPB7AQPIAH7idIG87rH0lUCEvwiWsqGkHo1qqQAAAEdBmltJ4Q6J\n",
       "lMCGf/6eEAArLK3o8AVqklfJ8hc8S/my8mSFB5XYnrtm3WKpg9ktVzrPLIGgN8IsWBiEWaFL95DF\n",
       "RTm6R8/DewAAAB9BnnlFFTwj/wB0DKq+HHoP4mUVELJASm9bGllovAIeAAAAFQGemHRH/wAjrE59\n",
       "XwYYe6s0JzxhmQAAABQBnppqR/8AI78mRXfAHyQpVKdcOAAAAEtBmp9JqEFomUwIZ//+nhAAKw/Q\n",
       "S5Mv1uAFgpcWmIt2HiYJyIOIElvSbW+l+qQT9CTTVSOdNKbqnF0lSQRAXHRLHk1upIG8vS1aLyEA\n",
       "AAAnQZ69RREsI/8AdDchw+rEa++IACH2JmYRgerFuWV6sOrBRwNuIikhAAAAFQGe3HRH/wAsXrbw\n",
       "Vl+lDzB5kGdwnAAAABoBnt5qR/8ALGQb2AklqABDsAIrZWLXdxHSHgAAADRBmsNJqEFsmUwIZ//+\n",
       "nhAAKxA9XTqAKwMPXdf7qh4fziMWJAaKqv9iyGOc0Voq3nQxq0XlAAAAHEGe4UUVLCP/AHQ3IcPq\n",
       "wOk6B+jYdDLTrmi2CbgAAAATAZ8AdEf/ACOsTn4LK2gm/JOBwQAAABQBnwJqR/8AI78m7I9FS/Ha\n",
       "J3XlmAAAADtBmwdJqEFsmUwIX//+jLAAKoVjS4d6AAWAfU5Df7H+LNKHJWQRB6DhDTZwQwvVC90c\n",
       "M/jYks0X/8hUwQAAACZBnyVFFSwj/wB0NyHD6sA6o6HO4AWsPbsl9JgklZ8BFp8i0ihNwQAAABEB\n",
       "n0R0R/8AI6xNgQeZLcLGBQAAABIBn0ZqR/8AI78mOCZw2Ot9IOEAAAAvQZtLSahBbJlMCF///oyw\n",
       "ACpsH77+ACMDShJVaY3JKMs3IAh+yQVZ9JReE4lmIeAAAAAnQZ9pRRUsI/8AdDchw+q+gQcmrcAC\n",
       "Vm1qCPcgmOuaH3dGjADtODFgAAAAFQGfiHRH/wAjrE140nDP1X7uzafQnQAAABMBn4pqR/8AI78m\n",
       "OLvrjzzu6tWwAAAAQEGbjUmoQWyZTBRMM//+nhAAKfAzYNBR2AFl0zd0kY6/xFMhmBPdIj04Ix3L\n",
       "g4eDzmur0cg/wbtw5EXdx3kwpIAAAAAhAZ+sakf/ALqQR/frJcqoAIU7WzE2jple7qhgYe0R3AGf\n",
       "AAAARkGbsUnhClJlMCGf/p4QACn5x7gA4PEaIHGQyIlxp6ujSuJOeZHJIzWZlJ20oFZ3snfVxRbG\n",
       "QwzLRp9j7gB22IGSxRz8OOEAAAAkQZ/PRTRMI/8AdAyqw7zEbzcAB+JpBCnpZN+Lomtg0M5miQ2Z\n",
       "AAAAGwGf7nRH/wAjrE27xAAIW6PVg7496d9e2latgAAAAA8Bn/BqR/8AI78h77dt86YAAAA1QZv1\n",
       "SahBaJlMCGf//p4QACseolTIABavwspeKzmWJWvRMgteuF1TS+a3s0nC/TTK9UxkwoMAAAAqQZ4T\n",
       "RREsI/8AdDchw+rBcmIAC4uM/Mol72jfoVvzQp0i0a4+lYcOYKmAAAAAGQGeMnRH/wAjrE27xAAI\n",
       "Xopb8FYMX7/Wt6AAAAAVAZ40akf/ACO/Jlh/kLvZNsqlCWPhAAAALkGaOUmoQWyZTAhf//6MsAAq\n",
       "WebwAONqT32ps81VKU5LmkDHouXadILWb6O3kUkAAAAcQZ5XRRUsI/8AdDchw+rA6ToH6Nh0MtOu\n",
       "aLYJuQAAABIBnnZ0R/8AI6xG6oBWcapgsfEAAAAbAZ54akf/ACO/Jm0hwARA8JLkjTvlRU3GfYxO\n",
       "AAAAN0GafEmoQWyZTAhn//6eEAAp+ce4ALqPt+fBmxJRW3LYbonbpshg1TE/uWlgaA0oII1A9jn4\n",
       "ccEAAAAbQZ6aRRUsI/8AdDchw+rA51P/hIJmOIGoPpj/AAAAGwGeu2pH/wAjvyXP34AEQqZgl0Wy\n",
       "DBLrDDIMCQAAAFFBmqBJqEFsmUwIZ//+nhAAKfmg8ALePe3eZPADN8y5a3qfyrVCLQN3Z3DxRlw7\n",
       "5kAHKMH3SHaCFWlbaxH1ovxx50W6V6roqn1fSPdpJuUfR3EAAAAfQZ7eRRUsI/8AdDchw+rA5HB1\n",
       "QowB0cjj2c+p2VRewAAAABQBnv10R/8AI6xMeuohiSLn2S0TsAAAABwBnv9qR/8AI78madMADWBh\n",
       "O3o5fi7druvt3z69AAAATkGa5EmoQWyZTAhn//6eEAAp+aDwBCCA/KLBRgODuVCq+IcF6edRzZNR\n",
       "gCU6UUf9M+nUD+dwbrTavAxlTWl4KlZmutjtmlo9MDBre5OE3AAAACNBnwJFFSwj/wB0NyHD6sAN\n",
       "abgBMtbAztiH/6DlpCVD5CLG9QAAABkBnyF0R/8AI6xNiuEAAh+GfudgQcG3+tb0AAAAGAGfI2pH\n",
       "/wAjvyZp0wANB6JySiOr2n0pIQAAADJBmyhJqEFsmUwIX//+jLAAKk5GQ7DoAX+FCp/uG4qSu/kA\n",
       "SCLdXl/9B/xwMGS3oUMMqQAAABhBn0ZFFSwj/wB0NyHD6qOhmYksnkhYPSEAAAAQAZ9ldEf/ACOs\n",
       "Rup15ntVewAAABIBn2dqR/8AI78mTQ/QWh7/2PgAAAAqQZtrSahBbJlMCGf//p4QACsZveABbOsh\n",
       "lIKkIrfeuz//EWELIbBcmFBAAAAAGUGfiUUVLCP/AHQ3IcPqwKgiFncvI8sQZUEAAAAQAZ+qakf/\n",
       "ACO/IfrMbF22UwAAAIhBm69JqEFsmUwIZ//+nhAAVjK8rXgtHDBPy+9vQVBKfj46E/LSlKoIACA4\n",
       "+HsbrrJ48SwodudHtA8uWIdZ6GhKon1WoqpsaKx5aMmIosLvCfyB2htqbxW4vMJtlJJ2qWM7P9CZ\n",
       "Kfx0IouIBQniBcSk7ewZk2wTAROmN+9/ZxBf9XjrJbsyxbFVAAAAK0GfzUUVLCP/AHQ3IipJLPbL\n",
       "Xnr+ADVHl+9lbkl+43kEKlJ4Fa3sw3bwXcEAAAAbAZ/sdEf/ACOsTqHHwAEC/T0fr3L3Yk8XmK2B\n",
       "AAAAHAGf7mpH/wAsZBvX/HznSABDQrevAccW3vhOkPEAAAA2QZvzSahBbJlMCF///oywAFceRj6I\n",
       "K7PWl6CUHOrmxZYKfoodotkMy6E3UQJ41duktlKpBEvAAAAAGkGeEUUVLCP/AHQ3IjIXW61ltYek\n",
       "HxXeHzHHAAAAEgGeMHRH/wAjrE5+CyuW4KsxMQAAABIBnjJqR/8ALFnPi7Od0HYHREwAAAA5QZo3\n",
       "SahBbJlMCF///oywAFcVf1Bns+AG2gW1VDAQ54UbxmjgtrT02SPXdovcfs32O07ee8XvjUQsAAAA\n",
       "HkGeVUUVLCP/AHQ3IkG0xeWePI7seLWTsag4k6QYEQAAABQBnnR0R/8ALCcycFgrmX6IqwHHAgAA\n",
       "ABQBnnZqR/8ALXlc1wHMHxoKOQEcTwAAADtBmnpJqEFsmUwIX//+jLAAVy7/6KIM/wBB6Jx0Bo+9\n",
       "N6yZcbV6eMFxKFzP7vtCyVi0+QrVKNeO26YRMQAAABtBnphFFSwj/wB0NyIpp2UvIj2LQi9xmGu0\n",
       "CHgAAAATAZ65akf/ACxVT+Mg53QdhF8PgQAAAF9Bmr1JqEFsmUwIX//+jLAAVvHrQARl2mMK+e8c\n",
       "F6sALvoSMxcY37N1EQdnza6/LMWi+a7gBkbk138Klpajkr3p3+dglViqHsVNbLRhyf5SspjOoYb9\n",
       "iS568/BVh8CNgAAAACtBnttFFSwj/wB0NyIzXoQAtFnwCefKN/umwTHlr2+MikX5pq6DeIcJ8Duh\n",
       "AAAAHQGe/GpH/wAsS9zACZSNq/OYu8O60F2MwsGRDEPBAAAAJEGa/kmoQWyZTAhf//6MsABU1X7v\n",
       "m/ACGdlR9TRCaO4EjXQOmAAAADxBmwJJ4QpSZTAhf/6MsABUoMOtATVW5ABwaOqt3DqmjcaHFHQa\n",
       "/Z4PK9xIjVyDML/PeX/4h3rLqcwYMqAAAAAkQZ8gRTRMI/8AdAyrGSg+j5ojYAW4HJjHrPoR61WD\n",
       "eNA4gwN7AAAAFQGfX3RH/wAqk9+S4eYax0/ETEQi4AAAAB0Bn0FqR/8AKy9zWAE1dqC0ZjPxT9Z9\n",
       "2y7b+LiqgQAAADpBm0RJqEFomUwU8M/+nhAAU/VVOADg84LQcwom6vt4q/W2ms7rqFpJq+CyhA2P\n",
       "DK9tAcBsl+jrFgYEAAAAIAGfY2pH/wC6kEi3+lwAQ00U7XnB0bHxzf4Dg5DTLAm5AAAASUGbaEnh\n",
       "ClJlMCGf/p4QAFP1VTgBFY2rKh/aQD5wUoQZOfk3cSSflxxmtgJ5cXbxx6V96LZVtuS9xvOZrRlr\n",
       "eZgniiI9sqDCwb0AAAAsQZ+GRTRMI/8AdAyrGT3pcEACwooD075z5xbdeg+UbzfGfzrVX840DIOA\n",
       "44EAAAAWAZ+ldEf/AFZ88mJnLX4o3hNZAm5CnQAAABwBn6dqR/8AVogiBiAAQXmvKSIVSFjLtkdS\n",
       "VKvSAAAANUGbrEmoQWiZTAhn//6eEABT849wAcWlwqYq6gbGWsRJQ7g4p7HklxkC/HgVsmxAnHQv\n",
       "EDAgAAAAGEGfykURLCP/AHQ3Ib289fV/CkYklPgTcQAAABkBn+l0R/8AK0DyoAIegdY+ujyqbAvC\n",
       "lwAcAAAAEgGf62pH/wArKk272pYJctb5OAAAADZBm/BJqEFsmUwIX//+jLAAVJl5tzWAIkMj4bVx\n",
       "cYkn0zKRTPnPj42bm5j2ZOvZX0kqKiFgwZUAAAAmQZ4ORRUsI/8AdDciI7MEAC6Bkl3dYMrTqk1n\n",
       "dCFw/xeukfowHjEAAAASAZ4tdEf/ACsjEWA45kSagqaBAAAAEgGeL2pH/wArOdDjmOY+0iCHgAAA\n",
       "ADxBmjRJqEFsmUwIX//+jLAAVMwmfABDvKEyc0EqJXq5fjIH+HuqIu6WJf4wUUYBk+LOLxry1b5u\n",
       "L9nIKmAAAAAaQZ5SRRUsI/8AdDciHtGqrju/maNflhfNAWUAAAASAZ5xdEf/ACs+uzCajlDruYj4\n",
       "AAAAEgGec2pH/wArOdLYuGAxcteImAAAADNBmnZJqEFsmUwUTDP//p4QAFP1n+4AatfeoHrEoa9W\n",
       "8Tx33Qtlb0ohf5UE6YFo+YwsG9EAAAAXAZ6Vakf/ALqQTRoz6R+O2qC2JImh4ekAAAA3QZqaSeEK\n",
       "UmUwIX/+jLAAV0u52SrsAmvqFnPXTOmEAVy7wqiggIOC60PFw6NvYiM6ab8UQxQdMQAAAB1BnrhF\n",
       "NEwj/wB0DK1FdT5QvBscBylTMDSzOtUjPwAAABUBntd0R/8AVkXcQgW0u+4yugP5rHwAAAAUAZ7Z\n",
       "akf/AFZzaXp6y8NK7ArNYTEAAAA0QZreSahBaJlMCF///oywAFS1/cgA4xg+XvHKQ+HVKhDopMj1\n",
       "bM9EOUQ2XZ5yTzoQlZhDwAAAABtBnvxFESwj/wB0NyRUySFCYkjbdVquDAooYWkAAAASAZ8bdEf/\n",
       "AFZF2DqWu2qFMFj5AAAAGwGfHWpH/wBWc1g68ABEC1dAbOfCrc5geNeqgAAAADdBmwFJqEFsmUwI\n",
       "X//+jLAAVLXtuADj2zvYyK6pCeKBYr5OSIzU30sIBLMP3+H4fC0kQTxnIKmAAAAAJUGfP0UVLCP/\n",
       "AHQ3JFTKDcmAARA5Sj6Jc+nrmh06l5KF8WzMKmEAAAASAZ9Aakf/AFViD1BJH+u/hXYsAAAASEGb\n",
       "RUmoQWyZTAhf//6MsABUtP+AEe9ShMukctGKHxLZPeOiZrA/taObxwiWfSvVKrKVpnm2tJkiBFUq\n",
       "6WhyZhaQcCeVuVDBlQAAACdBn2NFFSwj/wB0NyREkiwsdtAA2gc3LOjp1HtX0DzJ1xIvwbr3GfAA\n",
       "AAAQAZ+CdEf/ACLDTAtuqd9VtQAAABABn4RqR/8AIrJGBrEMkqtpAAAAakGbiEmoQWyZTAhX//44\n",
       "QAFGuwaAL/aiRW9gp90p6P8nKRaf+HSnrRxXhy/tpAy0W4ZNlQlxoiJUE20iVR+Gk98nsdYAecFa\n",
       "bv9YsE67IxcQLm+zR9TLGZ+7E7WQ3ns3aPFPLcq9n6MyGXEAAAAcQZ+mRRUsI/8AdDckRJI9x9fg\n",
       "Q8hr9WFcKHME7QAAABoBn8dqR/8AVnNQA1WACNgFzC+iNX6oUOCZOAAAAC5Bm8lJqEFsmUwIX//+\n",
       "jLAAUlmOuwrQcAFD1ocg85BXiysBWQbNj3tvfo7fBgz4AAAAL0Gb6knhClJlMCF//oywAFJZlFST\n",
       "88AFStUmw77JyzDgYe4KmLWZYpeuWvY7uQVtAAAAO0GaDUnhDomUwIZ//p4QAFGgfuyc3eAIgh40\n",
       "Lrea9ArM+V+rSZ6lcI6dff9CW4wiqC6uC0JTs2HknBQQAAAAJkGeK0URPCP/AHQMrVQ7obAZ3AAJ\n",
       "1BErMyifzc/ykeS0VDJIoE7AAAAAEgGeTGpH/wBWc2YDTY4WaqCpoQAAAE5BmlFJqEFomUwIZ//+\n",
       "nhAAUdzH7gCIl8lwk9FIBXhE0HeRpBPVALOVE9V9rPBwCQchnCvl5Zne3P3wIYngpclrc+I8zX4G\n",
       "oV7kovJgqYEAAAAnQZ5vRREsI/8AdDckVMqqPmA4zAATjU54dajFrO6QHlY6+3bjVYGBAAAAHgGe\n",
       "jnRH/wBWRdslM1gAhpJKwbc1xgAf11Sn8XoccAAAABMBnpBqR/8AVnNoRn3vc0yimtD/AAAAPEGa\n",
       "lUmoQWyZTAhn//6eEABT8OuAH/rEdNZEq9S53olfpHxdEgJMa/ReoVkzqYEpc3p/1CNQTiOmC5MF\n",
       "JQAAABpBnrNFFSwj/wB0NyRUypKFaWmijX2wZAMKaAAAABQBntJ0R/8AVkXbMg84SYcksCi2gAAA\n",
       "ABIBntRqR/8AVnNmLDGDbXYHRE0AAAA4QZrZSahBbJlMCF///oywAFS0IHAFaouO22xCRL7qN7xz\n",
       "I2qDRGsliR//hoZQFnllsi61h+/IKmAAAAAZQZ73RRUsI/8AdDckVMqUh3rpXz7o7FgeMQAAABIB\n",
       "nxZ0R/8AVkXYOpa7aoUwWPkAAAATAZ8Yakf/AFZzUD32ntu9yEfL0AAAADVBmx1JqEFsmUwIX//+\n",
       "jLAAV0pqnyVdgCt8RDmuYzSP38yB57bFOO0Cu0B6qg5pYwwaR8CNgQAAABtBnztFFSwj/wB0NyRU\n",
       "yrZQg3e2VC3ELNDQ6YAAAAASAZ9adEf/AFZF2DqWu2qFMFj5AAAAHAGfXGpH/wBWc2m6Q4AJ26DY\n",
       "jSFqrraWo9fsYnEAAAAsQZtBSahBbJlMCF///oywAFbzzeACw+oc0reR664ZEfkX8mpE6Iwj9crM\n",
       "IOAAAAAdQZ9/RRUsI/8AdDckVMq0acsp4afnaM6+CUjkIQ8AAAAUAZ+edEf/AFZF3Gry90NCv+UX\n",
       "8OEAAAASAZ+Aakf/AFZzZiwxg212B0RMAAAAJUGbhUmoQWyZTAhX//44QAFPs46AI1Wukq+Lb146\n",
       "eEnFodUAVMEAAAAbQZ+jRRUsI/8AdDckVMq2UIN3tlQtxCzQ0OmAAAAAEgGfwnRH/wBWRdg6lrtq\n",
       "hTBY+QAAABIBn8RqR/8AVnNmLDGDbXYHRE0AAAAlQZvGSahBbJlMCF///oywAFbx22AKrftiwfJU\n",
       "1NY7fQcWOZhBwQAAADlBm+dJ4QpSZTAhf/6MsABW8etAAppzsOIVxIxpzTTlPs8vkk9xxWitl5Df\n",
       "VfOrUOLzkViySXvmYQcAAAA6QZoJSeEOiZTBTRMM//6eEABWM0HgCJDcK2porBfZIvXfcGG/+5ll\n",
       "NQMPPS61iduP2VaE61aMVOCXgAAAABYBnihqR/8Auj9rnvV8L9zL27b2dAf4AAAANUGaLUnhDyZT\n",
       "Ahf//oywAFbZca81gCtUXAUexzlF4rsMg1shVeGW8VW6njBRlMww71gFmEHBAAAAJEGeS0URPCP/\n",
       "AHQMrUV1PmH2gAJ26isIOsdsGX+VMXug4eQQ8AAAABQBnmp0R/8ALEML23sHmTA0uqrJwAAAABAB\n",
       "nmxqR/8AIrJGBrEMkqtpAAAALEGacUmoQWiZTAhf//6MsABW8dtgCrcDHT6HC5ypfb/kNYnvEc4P\n",
       "1gfRowqpAAAAGkGej0URLCP/AHQ3IjG9YcSSXoo19sGQDCmhAAAAEAGernRH/wAjrEbqdeZ7VXoA\n",
       "AAAQAZ6wakf/ACO/IfrMbF22UwAAAFJBmrVJqEFsmUwIX//+jLAAVvHbYApjbln75WytNKImQfz9\n",
       "YW6EWhMF9bdpdoqrTjyD+AOJuTkPesamu2p7cVHoS/7R1D5PDNFsI9Fgp9fuHwI3AAAAGUGe00UV\n",
       "LCP/AHQ3IiG9zNGxEPOTjm/gxYAAAAAQAZ7ydEf/ACOsRup15ntVegAAABwBnvRqR/8ALEhTHmJI\n",
       "AHNAG4RGWL6q+sc99kCBAAAASEGa9kmoQWyZTAhn//6eEABT9X84AblY6lgKxEOWoaZY2xROK0pg\n",
       "T8Mr5fKaKhhAvq/zmBIX4HyVVCTMa9g5eKeV53hSMVEDAgAAACtBmxlJ4QpSZTAj//yEABNOUVAA\n",
       "OEG0iUnRJ9CVXTZH3wtLvYaImJY8mQIfAAAAJkGfN0U0TH8Auj9rhQq+ADlHw+eNtNCNZ3sH/fgu\n",
       "sR7QgFGfRCthAAAAHgGfWGpH/wBVYg37ccngAL1ai9teWg2Y9hrFfOZFfAAAQ15liIIAD//+92if\n",
       "AptaQ3qA5JXFJdtPgf+rZ3B8j+kDAAADAACurTM/tx63kagD8JzwrQ2KbcChRAqUheWucDVekDeo\n",
       "rzzoMn3NQ+OdFeJx4Odw5Gd1yqZj3sAJIyT3cPgjvp+xxGOkA3/Hi9mXGef2aq3vLTPA2YHDIg31\n",
       "0wiakO/I+l4Nsh//rBWqGh4SGZXytXlq1ECN8JjGLzGLB6d2z7ChavtFR3bKOWaaP6o7ZRWQYiZa\n",
       "C5Eopqw6QwAl9oeSTsGcdYoYDxb+fUBQowlPpENOYxlNmux+pAfdY2fzB2fLTJhRm9KqM1LUqB1Z\n",
       "tw9mknuSmjLyzheebrywZfvaOLgZDzh8q5TqBvm4INuqRfiPyjZWMK1CgJXWUDTE0Oseypul1rIU\n",
       "9kZlDUQhhOGD0RIgr9ULVWzYnDfv9mVNcFu0UvdDjcXb/kr1B10FsOq51oDSODWIuvhThRv+Vel4\n",
       "z/wZUs59FAvconqrdEidMqvjaeTYMbr5lYaqx7NZ+EJdkB/2gBH4R0RA7W4D/h1+9xpWD8t3ShnZ\n",
       "Ck9vcOlxqHJrSlKt97xuqCWmd0aWmLsoQzaSq5WfLp90iGusxjhB9ak+rUsD96M8Say1fjEQJ656\n",
       "WJr8aGLKJWvS6yWOckU8xSkWiqk5GEQqt3Ze6awWFPk+G5x104ifCsDdianzAt7Z6T2pHwDNUB8g\n",
       "+iEmI1jjF1hgy+7159zC65PpU3DKD0lvhXXsoaO0aNH8FbMTyMxXyt6K9EkNCq8U256XSWJ0RxSt\n",
       "OCIWyEdHWQrP8uV9DbuXs9xV3z7G+ZmhbYOKfbdksed7qsG2dsSmgWttvenU9oA6DXIfax4z2i2z\n",
       "xRrBpghe5+U4Sw3X2uLtD2/M4zIfN4BBtLRWiQ4rULsUodD6z7jkp4JcSG4G0lr4T94G7S2IItGG\n",
       "IQ9aDDilezH5vXGdRDlqobZ1xYOCschPpUuiYA8OujOqrBavrqdWYe80yxWvjk5eIRq9cgHT4bfS\n",
       "BfOojQK4WKRJ+2ntIYkuPez0Zq7gZkxHtuQBn61ymWwhLIo9+v4HbMVw97bAeJ0s+SdEjhXHE33+\n",
       "yH3qM0oQX8nkiIzkKqgSRsO5zbmxqtPT6L9x8F1ixckQkrLozbbZoXgJI4CEEv6wHp54mfa/4xDH\n",
       "wlS3x2akcbf5/gNAYeksfHVurKBlLsYTZJBhMBnlqr5j1Tk+oUcYgWuqHbm1R54yIYU3KOJ/f7yb\n",
       "rlljaTiKPxv1ijymx6PbQHqUnhBm0UM+se1I6JeX31sFH3X56seT+4KAG6l2dNShV50TNFV+Rl3m\n",
       "L7vGryK+fjAiOKlWbxX2FJrCw1fLeVSU88qYQlmdrsLzZ2ASnpB+3wfU1YDDGoFh1xiMuI3fthLs\n",
       "tgjXtjQ4SKjvVDSd6bnz2N0BI2GNG9TzNhOimZzOxJR8DfMzeSKedJZv8p+Qm5GnFFyhgJ4LL8xH\n",
       "OAhIJeQtuqo7K/OWd8MFmmZGb3A7YMoXSXdV4/B1x0ZI08bu6tn7Y0dCrOW4PAxXvO2DVp4N5gUG\n",
       "4n0RBDR/H4l/aOeHWjwHE0qf43bP2cLLClQYp8EIrx1ZsmGg8TcOX4zvPySNxvCwg/es/mu4CX1P\n",
       "DLYlmhp8sKDrjfV+j9ZG9KyvOljOUABiPbVtRhRnqIgedYdxcD9OK3tqsODorssbeps6SXFI7krV\n",
       "fPYe8iv4wxETk2YtCewbnNe5U9tPHb0AGerR03jOZ+bogcaGJMRcuemhSoBT/YFwKy8s6Z628f/K\n",
       "73yzDuCpVz7MhaKtJeVuPOdNOugWP+v6QGQuEWSOgY+SpDklsd1hqnrntEA6mtjiGYJVapa9l+Od\n",
       "TnfqYMWzRlMTm9NYWyrBV8hbDfsufm5RvclFSYOO6Rx1H/Vw9+anCOyMIZsb2GTJzZcij0fKXMsh\n",
       "dW/jiIGfbXDzGKlUGeR4SMEZSB0BqEekz8X/qdwxn4xAI2D5TZHLZ0piJLMmXJQmj0spzQyFScUI\n",
       "6w/f/4dewUqNALDPiw851qW+jAHBgPORDXUpGk4V6Lx0e9vChifmqEsFkL9bEfSME6t7WrvqMWHZ\n",
       "LdMSIQ78T/xTu38yLqfD432lGxKSqBSZDLFtAN0uZkywc3YSjZrMMVnbn5X3Hf2M7N4N53qrA8Lj\n",
       "V5snKRfZBvhNi9EuZGCV2bKI/RGCa3n+8qNcMyJjjm/Kza44UyYxYtsBlyexpmWJ7kqyiVgZJurf\n",
       "nLggw3ueoQn2ph21ffIaC+i6SzgKiiJ80D4oRwrB1OqKoi/MI+bDaKEwlnEZ8JODFm8VB/SYA9PQ\n",
       "9NFpGXuDMU1/YvO3fiZcHbgUd+suqrq2Ev1bSlNm3eqtWx0GLuzSu2XFryEUkpBVsEwpGhh8LvuX\n",
       "iM2BwTk1Z47jHB1MVi+GPUCdx3jPiMqVbbBV6Vu36I4O0EMlCfptTDGjqJErrE2IoxSfGwenqmyc\n",
       "4mfK0A5ambxBsuezeAwEZTQUto4yY5XHXWjrRIzjawRWlKx5+vs9S33bFY1Tfq/ZO/xbCYQ5+OLo\n",
       "LAHJLuOqeti0m9jdGu76iSqv2EF29ph3GU5qkdAu26X0d7cbGxYelU38Juee9UnKsQnDq9c9nor/\n",
       "mOLEmSpsE7QpvA6tvsGH++F5U4UjvLtpiFP9UauaPOlG34ImJphh2JreLr7E58l1CbShZiEornRG\n",
       "dbuFqgxsVNDyBJNYlhZoJ+i1ZNOecYbv19e8kVL0WW3gMDWALpQ47mU74yz6jqHZhDO3tsi3y7gr\n",
       "q9R/ouFtx+J//Z0wd9F+spQtShezW6+B3rCPL9dCa/tG+WJt+Q8LgeZzCGqvKG7mjZ84Ij9TxU7w\n",
       "EPK0AxvIAwY73dHrUE3bA+H581HLhyq8N1Tjgik8WKtM1E8/FZ2QsCYMzLWdRsic4GPU0mbI5g0l\n",
       "A6ocW3houUaIeCullW71L0Prt7sogL0TFDCUbvhWTVozKHujv3Zz7s4De/433fezvYuAeQlLIhXI\n",
       "ljzZP7kQf3nXd6qxn0lBsuEDba9pTXj69iSn6kHlLns1O+9LLjN1AqvLa3RaygVHLUVdgavLYOAa\n",
       "KcRsWJef5fkiqJpDyORGfIosN9C8xTauaM+VTUWMUQ4q5vYeN4PMowLQYaYFZEVOuWR7/sFDM5nv\n",
       "KQ/LS8sw6l/6qVfwHnb7ok3dpBtueDqsdBOrp3bYWNt/PGgkGIBUVrhIwVvVbr0jEBHJkDMUu3/V\n",
       "Pr2nK29ErrfhVP5numx7erwdd5LVYB9Qo640uJwIgEwL4w26nV8j/rPeCqfVfa1PMFAcJJ/mkmXn\n",
       "sNqIhtYQvDfNZUzVPABhQbpiILcSfgh/uoRd7kZTIMfSL45B3Vz/bNE5Tep1GDdyLCCX/H1/hhFO\n",
       "f2ZwGXJt//11wF61bVnLDhCXljSX1mqhCkxub9vzwPAVGLRr4JKN2aAD9MJfvUrmH5pRpwdkcgLG\n",
       "wwN695O1m/S15BlHK/qiNEE/LSrYHk+oI05nN76+zpg/7SWiI3WUBypzRkafZYejlgMd+9yu2S8d\n",
       "nr2SexrqBnTocMuG6nCyWRgStrvoWkmY0J9YO0c0EsVsJ+PwAQExEWMHTTObXERlPiv7AloCHg3O\n",
       "BgipeVjhOZKjkZsP7Ovu3LL1XzKo88lGvLzcYhH9b10nekEiQ+2NwqinE3SI1Ya+jbmV7rxMWXNx\n",
       "t+1mTPZINey+hFtBR8VZKNDpaAb1hn2apqkiuoSiGy6Ui1SZsCdWPd+OFVaKfQt19amZH6/TuyT6\n",
       "XsHk4RlYSzH+gAo2XHCXg9fiIEdsNy+DL4xpFa9bDPRlFZ1y7rsCu/k9r2y0TafUmNULbufsu06Q\n",
       "Eby54atUl5ip5ooRBgCGaT3R4Pqypx5qADLDLnfqnJC+LhpW54tUZqYFqrejvxFwNYgiuylT/Xz3\n",
       "XJgdvMEdH4iUMiu650DlrkyauUKqUK8SAftMKhQaXNfIxCy299rdp1pr+/tyxwhMmxKArL1W4bWx\n",
       "tNThxNB8jTHu2IndHJMGng3uIuZcRmwqsk1VlBTQewxha0iOjJT+vmbMDgM9hyKt12YU2E6xzDbG\n",
       "J0CMkw82WUHGrF+6WzCjYsvzlUg6h+hwByaP3oETvW9DuOLpsK8sP659bld9Fx+KQz7vez42agm9\n",
       "0aJn82jJqacpHBh0LgW2KVjk8+fOsTsnA+FfEM4TlsQjZBGiUHP0a1gwFhRTr55K4EHHID0cGg3G\n",
       "OlNd0bd8nvFOXAnO4lSYlWbjLqxFtykkqcdzj9wdVpLmPFWrPpuAVf+IfASqJlN+Bl/1ySDShOhq\n",
       "dfZWF84tjPHHr2b+zwETWlNZFwBINOmuiRZ27xsyHjtt8G7VQNNwUvKGqf4Ai0GkOCVpxwmybJB3\n",
       "k3tPgc+3smc2s5d4CTHQH9a+W65aP7lC+8Gl+syBZOZuJqcci7FDz17rPEQC5oCLcTMT4o4lGqFe\n",
       "TvHPiqewlzHY06mx5NQF/42W/i86TuL1zE9d5RBvWIzbMRPxOpwijg75gxkTJ8SuxaxmbQAUZ6Pd\n",
       "ab4CguCfP1UMmxLECP7ampHinzdox/n3SNJT6jPTQMG0hj0jJQ3LNSH9QFNtzWnH4pJuHtWp02hv\n",
       "3tXsxZ6NQkduHACUaHCmUSeGnLXJ636MDAYA2wOiWwBUYHttjq1jlH3Ol9a/uUTdrffWeRcbJWIL\n",
       "O97CHyWDDGYufN8Xd4GJz3sCXKaIwFq4nDGlQimGqWM+pN+2a/Qx8qPL/7w1wBIwo5xisTYplUwD\n",
       "MKCS3gdh1gNmC1IbVOOeMMb3B/wATUa102118Qg9PZJvsfxk0C5bKjA1Bae7U/ThIVSkAhfYW6Xc\n",
       "1cY6OyEJolgvjeeXAxHhqNqOjIs6P6jumrNGiz+2ccriFKHjCSObAMAsH7HWHZDFyZVktyF8GICp\n",
       "TBGw5nJ8FppAEvdBp7WsVBtfnA8gqNRMS6sf8ytMUlkPQVj/Ar+Kwh0SKYmaqPU2KOuRRnhWQyFW\n",
       "sPz+bcN/clp0sDgPBw96db2Eq8JCoCiVscUN3byokaBptRNRMn46bIKG4PSddiKhScMoB0P54fxr\n",
       "bVO5Lr7TSDcKF/zjO5Q+TgAARa438Z4keXgeLs96ofP8ry0Emjip+JkWYTgSSwiPBDvh3EBEbYY/\n",
       "neQYm7UxvwlkAfTudmeadgGK5zTUBUnWz4o8X7WGQW5G7IPacGNC/XCEKSD4dfj+vQLuNmc3la7Q\n",
       "cuRpD/JScNaWt/xV+a5uKPEKPy/QTy7tTOq7bNiCeIDe6nl2k8pdZwOYDfHn7rXLOx3QNOGNNOAA\n",
       "ACOUYvQ0mJ2NojbSy946VunMNaWrfss/8uTxZI/gDWqtthBd68Jw05ctQajU6N5PkHm8XznPFR/c\n",
       "8cpQ5czJN+QC08NJHawudI3kRBJ0hi/7IodgJRyfa8qn8C5/w8r5j8yYd2yvKmCEL8s4qwjld7D+\n",
       "kScROGKEolMkc02AKvWz1MeIHgIbEvgtNK8dE3klLT7YZHKm9hkG6qVSoSCP+zNlGgFQUtKKyIv6\n",
       "JV7h6D2DVjlFwRU2mUQloQH1FXtj9qPxHN9JMDNx7BCSjxZEjKB9Ms1Qzbcc+A2uyCa3Lf41IyEP\n",
       "Hss7LJ93bUJ4U820Iy7hodw65i1iOHTRyKcaz4x84wtHeRxvTb2IOFD3ee3A/8vnX8Jz68a1MCgW\n",
       "oOe28B2+zj+o+1UtAzNn0zoSReKTYt/70j3D6hN3Np6xseFBzVIpc+BGJ3U4s5ZKR/t08Rls8f+r\n",
       "qwbZve4GZk/2bjHuqsGDR+pUGl2rnjSOPvOLLMi84exjb7x3D8BUKmXfe+vWzMCVzBSTRkNq20mc\n",
       "w55q8RgpvPM5QS5+htq4nL1mkDywWmQu+o+XSCp8nX3NnSGco3VHrFk1JNHQtTBVcpPI1uOtt3pt\n",
       "lQ5fFVNanIiaAUCMLouaLWKrxbBjyjJIBaYD20gfHFmqAV4lP+7z/q9YOopXf6fpqI+cXUG6C1Rt\n",
       "K0OJUK4HlJlDOWDpCuimV6jxDd1+QNZCDam3q/0E2NfT95GFBcEPWXmjQbyaHfUK8i1k/ykoIpPc\n",
       "on5cNkHeMhrhJAmNlebEZOGfeQFzCsgb731IA+soWqA3ryMGhRPA23kvzxCYBlINDQQ3WwUkkoxk\n",
       "1+8fSbDcqTfFasIzZ1n5OC36S8jAPFSnDPPjJQ3hI8jBWtjVuqdvld3bhl2ziOoBQY8r68AKgbro\n",
       "2NXfrtYLYbfm93A7Ibg+pwA8PXKZ2x1LWaDmv/A63iAaEZ1OVUUvAnbN4pdWXWnUdCeYkZD9hgps\n",
       "oxdPZtXWgGESRHJzU/JRq3xMJnmJIUToisbbkZFFK50gWJaHksy8ZHhy+mD7NP370i1EnzARPw2G\n",
       "EaB+k0iJY5UqC0Fw3urkzxHeTzahBugd5U3fE10GfAW/vGN7SxDki8s6ENC0ixWO7lwjpV3gLyjZ\n",
       "0yGVlSqz8bKQfVvfr6vpLubLFt4YIFo/6/EtImhEJK9qFG0IpPDNrlV6jxdietDcv8EjSsGp8zUR\n",
       "weKTY1JNhVFcAm/X0L2G7OPM+p2iLmhYgLEgYgv1bFyqIQp8sMLB1Rh6fbAgx+SOV/8soK5xPdyE\n",
       "tLOyoKymothC/TBWfyT7ecvGM/na184xmrPwbgl5nrIjcm75ihgWBWjrVVsc74xRBbyn9/U6X/sO\n",
       "MRe/5KZ+mOz+D0cAFPwgS019kjODCTIy1zIexnlPFdYnFC49s7HecccdjnO9+8LY2BJ1fCIZ56yH\n",
       "jAzVvLaiQzq8/Cf/oU8KO0cs563ZdaEVv7vXVzzaxBLv15bKw9UBg6KAdDCi+tLBGh3cGJVnfNz+\n",
       "6LL62e4XJJjKtGbV1EjCchwdkhaTPZz98x/xMBmGmsB4SdnILu+8G1XxJ1T2u7/jfJjDjPDFqjU/\n",
       "ADOjHNhffa9/+6uuoNtMaZ2h3mx9Upbqza2UpUwV3YnA6BlMJ3kYJ9vkAi3OxQ8F+tUIN+OT1bY9\n",
       "tVH69A+RIvwjJlhDwALEiX38P8YyY5HdLMwjjSV9F/w29NCDlbvaKSvL/ySGaGG9UBxtx0jpBqmb\n",
       "7Qw4JtF58DTqceS2hdpzguDOgnk9SXL/DSuO9YyFmo36Env3sAIzB0O6QiBQ8VAr1UJjOR2E1pTU\n",
       "JVLof/3pSpPGS2asuAH+qFY/ZYj5D57OeeFQKW+4P9qF4V89BWjZ75AFjjby7Cfuh9/548p6VmN5\n",
       "TSHSWfeBQQQpEe7E5mF0MWYUzpTNYq7HviJfHtCDzKL734phAZu8sY05shx6/EjGOVG9z6PriryA\n",
       "r0FrvZob79HTYUyCRj7nYqbjzzlZ3rM972RRMNCewDO3u8n0zjgSJAZImtjDq/qPlEvnAWPKVHGv\n",
       "H9bAbZsLHeY/uGqRa0StcqF8s/8noS3YBUfXgdDjELQ+w83YxHzgoy+/hltgTCFn6ZCZDCB3tV03\n",
       "Xk7FeOZLzdF7FHx+xtBc3qiThtTwt++OIZX2JpTYrhHdTAR8Gpfm/GQ4Lgo7FMlA/fKKcp3q5g0K\n",
       "ki768k7po30jNk+1caA8l27sJKEHAOEerwrLb5dUmKW9HPyi/aXsDqUKCB0RnyICRIzWYGA+qC3k\n",
       "cd28TVCTEFOCrc8tH696Qul5znZ2KguwwUNltGRfTfD7VxeUgAPT22dvOrJbWC0Ylmx2F6/jZO43\n",
       "GbyXTNzyOrAPLFNwvcOurXuXdH62TNfxfoITtP/ItDSoSwlXyjCsaqsBHacJwWAL8wvlNVzVR2/y\n",
       "LelKQhM8OmE+NqO5I1gzlJc77DVeKWOE2TtSLk5JQFlL2TwGT3mDLCNdpvfxauvoQGzUxbqD7FAY\n",
       "+sF9U6KEomrHAdnQJ/6RKv16oxFGEwyYQr1oysMXYq2awhjNypD9ovGxYtL9dI6pXrpuPfriHx20\n",
       "V+9Q6IvZVv0at4DSubwvny+JDN1+TRg0CCbRQZ2f4Ka01m52QOvmp5yqKjsjOu3kJ/lbY7zRRU15\n",
       "BZAO4WigDQzMCTOnQkUB38qX1+gX4R6lqQSi7/DGCi2ZL+sZrErcp9JZejDP7WQKvQNg320qWslu\n",
       "mEHcchyQQ3n/+Mv4SFgbSl/X3yBiYa16j5gjSz4oPQ4hbp23O7pX40SGXhlHCHWt1KqTP35cY0Jt\n",
       "GzpMPxI5I5L1UrXZxyj9zJsyl0HaV6p7n6YN/nIgmU15AvAxQ995mMq9LFO7uS7qBYNteu9dbri5\n",
       "xY3ltYJpEF8EG99TL0dwrDsyGN1FTxgoDgtLEVr3nYBO/DCOHeDuvbD+pneZWPDccJLgEnaiaVHp\n",
       "N0F7AWwsvD+G9APrkE242/U/fnDyIzfuakCwhHkUYr3KX1fRbZBK/xrUAWvducJV87vmecEdz/zb\n",
       "vrD4RazmTxxpSNxMFwF/GpNZ8doo897M70CYC+D/h2WrD6suSHMJyjPNFIp7bS1b7Ilg5BRe0WzY\n",
       "dFCIE3fRBHq7KOsYEucSiredK3O+fdPiq7AHaIbizl5XflSSfMtSGQjTMKep1crVaTuDIc3Kchyp\n",
       "MV3v8mruPF+2FzMa76UeLd23HQJMVnlDhGR5gEbkg2g/nO6wsop1NKJbvy11BwSi7Xh6Xp1B8aEE\n",
       "wrTK/MBXUUDYypiziDsHsugHyh4FnXXuio0lRoAokS9Rpf7Wu2yI2BuXdem/afZvGiOBzwz+hAo2\n",
       "ZiNdHmgT8Yokuu60RbnZJicNXp98JFv/rSV5LemZFeri7lpPWY5ELNQLQrqndDt42/Z4DHFEqj8S\n",
       "IF0EP+3z4KhJ0Aku0ftJGXniJPZc85zdsrp5Omjl3V4zsBbO33td/ich9R3vMwhfjDqaj//Z5mUw\n",
       "rVHJYJIfysfvnu2ikpSokH3E6VIJg0JRbJfiLHxdcDL0yVznVDr/WlOivKwRoIEow1eQJN7ZOz9v\n",
       "MvvCALoXN/g7SoPBMKBenT3pojpVItNoV8i89OQa+9FKV1HlJK02RXEVSyDfXWGs6CKu+zGHm6i2\n",
       "MmT1y1J/yzA1xXKx2mB24fjSDJ++mC68K8Dmw7jPocMiICYxJlO9awQvDjNyo1weRFXlr4bOyFSp\n",
       "ksUlWf5tLnYgIgrLF2YyZ8x5pNG1EWv7upWcsltjzZa3fwUBRnnsjs7iOycBtrz2iTVZVP4yqF0r\n",
       "VtSbnZoeFDpDeU6AO3WJMLym+rUqBScrNGnbC7bL3kCz4L9JW//L1IHNzpHxcu3t8PJtVUzWjPTh\n",
       "th1fMBrHLV2JperUuBOmO1j5gFJCAhiddrUhb4IuEIh/VL7d4svPLyPOJfN85o2J5F0DDYvfhJVc\n",
       "tdbd79NkBVz6z0Cn4SkH9okh45ongaKWxH3KFxzNAZaiVYeuarjoM/TUdOsnNzQqARZRKZX4KbNl\n",
       "53XNIIoVbOzDqLCiHT7/di1XBdaw5CLxJc0B+x+eaOd1ocf5aHKvhQ7i2WHOgiUGzA8K8g/3b0oS\n",
       "M/huG6M/e2z7LVISEfVrj4CJXoudY5GsTdj7vqhwGqnrfeR3ezAx/8EopeSzbN08E9+IeqZ34o/7\n",
       "2+7Yg+iTxkmDgb7ZDmsXcagvqfthMv84LNrIIEy1sxihZ75wJ5u+DEWMe/ASb6zW7J7FyZCGiz33\n",
       "sGeIoKafUUAKQxX6DaWzueRVSfomxWx9UzhXQVjOe7iS51kplFrZbtr6dCkqJCH7A91Crgz49GQr\n",
       "BfBKzqsl67WruM7iT0e8UDvf5nTfDMWmXJzXm6QRdc1UfRrv+6ShHJ9vmwh9TcFLZ07SImeF7o7o\n",
       "R0Z/LKSarjH6ERvPt7grTQEQvSeJkyLYqYtvfiY8fhrXkl8UmooCKchjRxcj64khbJOD9xsqS65W\n",
       "XWI4rkdeX18JyjwtmL8RnrbwDlCNIl5PwM9x2GevykUj9yjNNswXB2gmobe982mg3F408GUwikK4\n",
       "zRUXQI4m0Ujr+cxJaB0w6WxHj5GQ9/cCiE1acXbZRZTFW4gONlAmmgtcnYO5k+rWiTpwutjtmJgD\n",
       "ngmRPODBtkQHnUvg46bziC047NTxs7kgazZMPpAcVyOWZMmtuPu1vO7rs5Ad1T0RfByMqiR2cSZD\n",
       "FPnpRtvKHeSIjPMJG05CXY9ePNLlCiB5YWlQ9nCpP3sOkGzio1+KOMCvK28nPVqmm6sR7brxmjpK\n",
       "ddRxAkqRIOlvUsFe76JbZYNJdoLfu/tYxvaS+hdczePkMR7EYmvynkX4XZRRevLJPLN9gkz8hOVV\n",
       "borVcUgmk3xnjOhCE8brJIcBGera/gIGxhzhunCUJlm/75PFmScvSyKE5CqQCcBIyjNDN4UmyCxE\n",
       "5F5hzZuQAJBu5FvZQIcsjIPTCI4uxrKkQnxbvbucgNWRNapGqjHh1UNPqBisAz+8RJrtwFiFi2Fs\n",
       "dbrMdTqrIQWA0fhymJ7dcVviIHTP18QAgoiOvxO4GiWfwpOBsgm1vxUoVh7gV37WYcN22d/BCXSW\n",
       "HlEu4Dl49d+qwjrnAaR+VMg6UZtPMmihJMYb6kLHVEuZj5ZwWO526HWv4yMMk3etJ4MdCN+8PtKe\n",
       "jFJF5QXc7x6xOg0lohZXXNmBr8IKEvHrsafV/+Wle7yqZMrn9otIK/Q1IljYTD/VPCb84HLQeDBT\n",
       "2C2xLxWM5pAKF7milYRbr6HHy1rsu9w5zXZmnaYYcO+5hyWxHYsDo7Vv8mwQ9LsUHTBEUIF6VYP9\n",
       "cKAgAq9tKUNetbfHbSHD7rzFn/wbHSb8odWqSpYXXSIUh3DJk0urEz7ApoynIZHTx8s35jZM578/\n",
       "/LyXb7vZH0ygyEZfS54s7aGuCdJ5Ik5BIfiV2SoKl7QH8ZvC/AeMrcIgID44wHMMGf8ugagbWReK\n",
       "e1zgM1OVqL/YuzaXT42fzunHivm46xmkgb2KT6bCFYRSuUGn6/7zm8nOJlunJKLlvay+HE3ZdwN+\n",
       "xSyea6bsW90Z9o97tnXgzwrrXrDA760SIdDujrTS3QKI52RPYe7iScjOtKZQFaKC8ds14jUvCVLj\n",
       "uQ2b1/n4g+gcAP+DM4WdGLHEvnzGDd59G22sIzjXOPms7oIs3q0WjC6T9tq7n5tjaqMY2mJcD5ve\n",
       "DIBrh8RRR+xxYeJ08NrqOSOcJto0GeSiWy3j3oGpSV/wMxUcqSCebDxznPNhkgEMg/8nS0hjkIAe\n",
       "jjRPWGPrGAcr2qpzzAkE4l6uK1ppAGp4iP3Pq1TJ52MgqlrkqmA0hKENH/go31pJNoANCXVLJOE1\n",
       "NW3rEbOFiGIGq3F3ZsfNtyNKysPFGC//hbwGwxymup/LmZSk/0qErfyZjeYa3X94Z2U9RSX+jVpr\n",
       "ApoeoUtbp9euRPzCWhpe8A4k98agGRLVODFoDvVb7x7j6Z6Rt+xApxBGtR017ftV0Ihlwr20wWiv\n",
       "2kD+UcapC4az3HlrcN6L4n6m8QlNrS2num6GNSdof9sDt1Fs016s2VvPhPcV4RE6Yl2JzHCfVmi/\n",
       "OPlffoZ3Zu+6Q4KkWYevX9vk/7pwEN4veUHeOD8m9UI2HYK+1+ourYvnviCjbFDkGe7SothvO+rl\n",
       "GCSjkhfQM10sFqAl7hKyKB8ajfKV/kpapvB3ZayCkYM0XyK+3nSTpAOrK2waPF6PTPcknZquqiDV\n",
       "iwYLUkuMtF0jGP9U9J3LQcyjPC8IB0j5MIjT3K+q21yM3/5PoQQyV03WNW1SaAdaCLFNY/X5OAUm\n",
       "BTgzUAxYHZHU+5HznIBb4bs9nr0c/XifdRRGazgIiIUstHqaIdn6dlI1aCiwYWdNzAWBnt1OWEIo\n",
       "g3+413YjTW4qNEIAuxbCYKK+pKP5zrB0BEuMtjRNBAlnGk+8Nq4WIXuHdtnccacOoEl9oSoLHb0I\n",
       "yEsEWy8ELJjMLcAc2vv7uHWctYMa/geSHg/9TrvAVqtLlOL1V07Q9li2tl8sDotN8n1E+4kW2pFe\n",
       "30mA0D9ywenYoKm/u9bgri6VTlvfoHL0c6dczbjRfWvBNFK9xJqR+qFyMMTr13tkQMy3RETBMUT/\n",
       "JSykic0xzZwyYf7DtC9k0P9ofqz2/X02JjwPKCQ3+EK7o3MWhpmlie6yWddZA/IBY05jjPad4lV+\n",
       "JI7GFKUz7QSGUs+KTR7AglE2+8onjrGILHTpq/u8ojVEXzNycUhREPcwMmyE9g6wadnOh1cNk0Fs\n",
       "4R+YfvucTZWJ5/LQ5s54NcX7UQrenG1TB+PGpPDPt34LgB2NaHY+Cn6N5kdO/96XrFYl19CTO2Cm\n",
       "1h50VeP1fAwms23rWrXpuZ1gNlb0IZM3ESHAB5g9xtTAPk31HrhbmYZHJ6+66+qxZzuzzJfcOL/w\n",
       "HIE6PrEuUi6tPASlA0g5dUBvTg4gtpUTbzAOlX0Z9p97GmjRW/1VJ3Cx4IVKgvlNUqErcvvBV7pa\n",
       "X6y0++3mjjLY2Qh5SdJO0UZSaDDLKwrO/dBaVQKjQvOYfmKRWY1KVkLVeuIJBEK2A2QEYh/Eb/j0\n",
       "F6sZ5efirgcEbLR1G4zjU27uSBLb+aUDHYWbRN/QtzaMWbgAi0KuIt9AuCHbM/2wIMBiQ1JR7tQp\n",
       "tsnfZPWAA/IfeVGWtdLuuwXQwXfVFHeqlrbtMkMOeeq7kImIiW8irKGCsR+DABaYvnUTAiIDAqSJ\n",
       "UtyCVIqPkcqrpYh3xLdVFfpTOsBp2AcVcKTPNk7pHDQTQTh8GWYSH6YCIa6QlDYhqf+BfpTQAk7W\n",
       "i+nn3WDObiv52bOXHCQ+1pAWVS+uQGEnH6OBDaq3QdWxtuI9a37212Hl2nYrirMG5ndVefsfBuSu\n",
       "3EG9IcvZX55Wub6bNRP4wHMNnFXcptG1BVYsEj9/Fj+DJHO62EaeQb5H77oRVhbyFma3YNp55K9G\n",
       "apffysNbciHcoqzgkSGq9z3fs8y+n4Vzcr4i+NuVo5nmTQCinKieEk+L3y+ycCclotEnJvaCM9qX\n",
       "1ZVjEtrR83Rq/q8H091Mr/ovonV/ZCeThuV19RAm7ARpIo37LM3UDPd8gh8W6rJyAjtuPcAgAZM7\n",
       "d49TV8XPUchEvePTdU4+7d8enoHD/0Pu1Z3Gbaa/PnSbEJW/AGtvLnvsrcaO13Omc0if9xpxy3S5\n",
       "JiReXgqozrFFe1U7yv6IF0P/Yg3U5tM1/ec3lp6aID69sWve5vdkWeVYVJ/rcJwMWAFTatAFwvj+\n",
       "S7bNWEBCQxoPYEIwDJfvrOtYsj1zyvXL0MKSxcZywyTZDt0jgpfQnEFdgVelJmc6rc76uEQK9t3s\n",
       "hyDfqMjM7k5H7oWXhrVLC4sByMRygh3IK6n6XhwcpliT3h6KfwdVyktcuoreRetbwPk5sZnJ7G9W\n",
       "K2Ep+1C/z16gpihHmagsg0xfzKXJBOCYzl0DiRFvGUrhYi2kLYJs4QEVqjGe6+c6EXmQrSs5DsNz\n",
       "4LAN/Hn/cDlFvz9Ga6HySF9J0S0GUE5NV8gVBnDKRTsI2nDqY8xhmwtuwzKFKnp0ezAgtZWqfNoP\n",
       "BceiHQM5ts+CGvFC80omg/3qsSb1tSkHkAMvCklyoHwZ4YLmAd80H574IRPKQSMsd92kHaCoogZ6\n",
       "an+a9LlHztJycmmrZVa2NoAd6t/+BvA21DiSWE8kOUuxkc/OA4LA2bckpYS4dO7Zq9rk8TlT+NE5\n",
       "ylLiHyKicQkPmydcz9wtmo7JIjvAztPeN0Cfn4zb4bBOPp5TU8ZAyUNBgT5hKF5LRK4MOyOoJW5q\n",
       "/WmhXzrV7vhI6Dt0NTT4mo0x0tQIsGFpeBM5Z2D17wROWG81k3EncVNcBYGu5c/WSasg8Mq9uhlM\n",
       "mfO4hpxrIae3Wmzl7ZVARMRxcHvxVUbOIkLZkgm8AoNcn+OwAug7Jdg+vf3rpNhsdgz+ou9FZddg\n",
       "GSU7Wv5K42/tOUpcXLmrRWZYiumu6Ib+3gF6m7wGylffkYssPS8ouQzD3/UaGulER5wLwl6ePcas\n",
       "C3j6azkH4W++MrUrhyoMNqPjpUXCggtF4qH13xxdxsFUcXSkNGqLgEzC5C2U1gP/awvElwIY1uI5\n",
       "w0gyA8B/dFrf8LJU0nLJTENJS1Bj6oyU/011MlldR0+Fo7dkfzx/fDEPcAnofLRNLnv4Az56e9j/\n",
       "2X6S56NwCsW3ZV0Odlm/ZqI/f4UhvCpHIS4cxfeteZyb8z4TjKf0M3zp57SzbgsWxeOSsn2DVhr0\n",
       "Ieear14EaQH1GHGZNdXSkFGrd8ICgq8X+zr89hCmJcIpMb9LJVuOVh+7kNozCirnJokvTLW8lP5s\n",
       "F9mTBIUI9Rr29oavq8ipPTRb5SsLRNFuyViGEk5nw0vnQZkQ5PbKgUUDwD3/oLlKK0NmMZSnyZom\n",
       "8Tp3fRxisTDfALRH9ihp4xzxavpS7hegiMCKSWb5zgaiXuJbHDsxjCyx6J9NDkNWviNM9hURGQyb\n",
       "zR72GToJ5hm/uj/wFfoSdB30TsgtfYZE6J4GFj/8AIwH93DxUgAtHua+NDQoGwP2Ar0WZfBDlkX1\n",
       "3tvDtq88mG9p/QFMq6Y2yfzcHYWhHW65hisKgNs/zgLA69i257aHbJ/PLUH3j9Xumixs5kmQsP5w\n",
       "+5hrn52gwL3aaeBAOAN5NpyGUUrg4Lya4njHlMFDQoobcZ4HrAAWTTS0NlMcVaZPl8wnSppe1Sbo\n",
       "e+5yVzPZiPTqJncA98WVrtPyh9zs8Oq/UnLi/iiC1a2SF1ypTzYg91+IW78lMx6jkDchMGUOdFw0\n",
       "UVmmeZxsZk20NOTQkNK+qwC9qjU0So2VBexhrtaXMjILoVCr//tWL8QNVOaXkY8DYZMO7ipRYr9T\n",
       "6TLhOnKdBXeohTccnYjuhMOTKLYs/zXoaJCYkIq4SIFUmFU2PmcKTNSFSkOO4psH9uxZ8Z8OP3wC\n",
       "Eo+xXCr2CPERTVWyrZzYuOJc97Xtg1i0/2uuxJRXm0lOO2YNA3Mk7ZAknH7ZVYCc0RvZ0XJRcLeC\n",
       "t09fWCUhuHclyO8HW5mGsMD0W3H/aYkNDQ+dFmxrOwQtSqQLOpTWIyKNa1iD6jvFUCrnlS6zTASf\n",
       "G9165gcJxGsBgnT/IFHEMqSnypxHBQE/FUz/IzqCuKtGQL2EGYKnIw+bagskkNUebUP/bDmUdPmC\n",
       "e2bHbLQcuikUCJU8uxZ5Eq2TRvoJhk1wpcDco/1ZGc7k/ng6JUHguUfy1HGPnpjdLtDHnI9vuW8G\n",
       "bQn9vu+8wcnRmVdbG+OcmTa9B+K2F36E+x79I/LeRvsx5UF22g1CjvjU3s/pEVvvta3r/JRI3+BQ\n",
       "eu8GDrqlMXTFFbhPZ7q4/CSpBZKe2d8CCQV0OkQwfIzuCk76OacYoEa22NG6CC1EWoO+eI+XZTLR\n",
       "TDJHcm0R2xW3lc4+/zlITXnAGEMW8Elf7P1qe+432hagZeJhjWPtvkkWiieFDfitqIhaxrH4UgU6\n",
       "0HFSVLX6ALIyhY7DBySTMudJZI2n4YEgXV/mjvPMELcSO7Dtyc5EWvZe7R+5nSz7UrLF6UOdkHVv\n",
       "a3dwE15eLpArReGx3u2+2Xh7ya6a0zWCLjSG9Q5i66Gwbj2W/E1G2EuVNYh/vBKMPgBePfEOEv2H\n",
       "GxDsSlAjjcmawXAq4K7s21vwCZc2cLk1AmlD8GyGUvIMeWVJwumQQrvzzuFmIFPpHXk4g7uBebIu\n",
       "VHHaDCiO/iOacKMVHv/qL+hESA/8fboRZPnvFkLphn0uSHqs2OxNz3I+YjvUcaMyfHzj8XR+iuqp\n",
       "FyFVzeOnGnVD1xdFwYVuoBtXVaWnwpOSQsu9v1eXYUQ569Aa2l9EtE4HAMU3tU5XK7mHknMWC0BT\n",
       "cIGb49kYSRFTXGXvUZqIR6We3rp3qQR7ppcFi0EUF+qJ+NBLtDdericlkv4Rgas7+wRyzQub0ONU\n",
       "8D0BSrCFDzND/5H/nnF6cuj3sXBPtzkRv+8JeDv167Nz2VfT1SW5dSSX1EVg6P/mCcQcMXKO1hbh\n",
       "dSOC9SfQg17Sll8teSEJmYAPmJ0qsrvo/Xd1IBnWJbUvxqLQeep7/ccJCVvaO1/y1rS7Sgjn/oI3\n",
       "QyWxYYK0Mp0D1fUdRqRAedrjVLX4Sa7LwcxnHjxxZSrHULyHsndjDeOVMIoyrvig5hxLeeXzFu50\n",
       "iS1Y6UBs72AIpd8jkB3Av+S/VbC9odLsJG7KcbzEIeSi+rG1BtTVgo40+nYD+3yvOqHW6DGk5WS1\n",
       "yY2NindtLjFKoG4bAbUHIzZgtDRwsf/9GKjIJbwSXKtQYf59FtdjP6QS9DkcNJy7ufeCeoEK3dfP\n",
       "eBbPjTLtSoQmqTN9A4YSrXWlf1l1/rDPM/C+x15dgsk2saRCSkIyzsfjJ6zJKjbNiAjDbM1m5OQs\n",
       "25Ifidh06ReK35W+n2/KhHOxF19ylVqInad1ZDg8ckEPnbpejT/i2P5fvwzZCYISyE16Bn1fBYj7\n",
       "eU9rl4UNjk7G8l8eW9awc5rFs3a911VZpVh4HZcsYchbH5fnH3enzAIS77x8s3mzCypBr+kcpWaG\n",
       "S2e7OgW6uCmjyycqIgxV+27vplRGatfOcYjaD/tYejiOgaE5UsWaHlgzait5DkVKUM7qVqMbJjl7\n",
       "OfFRVJqCeen9isSIsme8MJ47WlKkR+Qatz6h8XsShzn+OnMnKoFsGtlcziP867tEECfKiMKtj1Zv\n",
       "Gczz5BDa27bP0RY7mdU82KtHfsV0NuvxcJGFh3OhPE+smAVmz8mpKb9SqLYqmWCRq3wPIaDCLcOn\n",
       "TOw4tAq2smVAj+7hi18b0U8bqUWsmYvxMQ+08ayToxWzPgUAe850t4ZOBNgTMCRixTp+XuJK7uxC\n",
       "t74qYjeHRkKP8cTnu9lmuM3hArPP7aKTYf+5NyrRCxG719jFmuyGB2E9Ra7IOfMRN+e/Qw6cld4G\n",
       "94bFocaEvt2+xq5ebp2cr29ocAX4AKXk1+UTMLkdwCLNvYF6WQApXByVa6iacLJYlMRY82CjZGhq\n",
       "7s7GJrbV+9Dg2rygcE9SN0TaDYTey3/f2H3NGpVKbpcR4JQei3Z/b4zDgubSvbjXrHLqiqowRgmu\n",
       "dAnQFdsnN2spbkmyzk4RRaTAFDCGPQLBwvC/Sonc34UhNkPESDxFhsMrDH7tftMSEP+8kCf/ylNS\n",
       "norA2sgWwOxESAgFdG0Juk4NpKSCWKqYLEm2eWLwzDLxdk3QQWD1dD9+GJ2jkv6QzM7Od5kUpylu\n",
       "0Kd01LLEiPPrZsLO9s3GXBJPMB/2gTZszmqRl65OVQOkNu0Yt+fmj15G1NBfJ/hV8L+prX4hdSBq\n",
       "NsRhVJwo3EoibKiaqM69BhqwzlxDRsgyEPwNFtrxs8XOUuaqZR7vew3f7w3w7edZOX6xuEklIa9x\n",
       "1YnF+gjJZaZayp0zjcIHQuQwZSp7RsrlRDYqcxzSLN7CaTOO2b0TDaAG5g10rpT5cmwmJI0x5G4j\n",
       "MISD6Pj//1PHi+vo+mhSpJCnM3appn5W7dZdyNUSCZVIWf0DXOVmqEps0BCnr2b32Hbl2FuuwfQm\n",
       "YmZk43aCY/S9bnCvpE4KGCqXDtAr0E8aqv8k72kinVlR6p47Orzp5c6RpSeVFzZ7EggI1gSiv2o7\n",
       "UKlUxxDQm/vjfYPJNsMqhzKVKpHrJPZ3WpHVWTshCPC44UW0oekN1lQIy0LMTp46t78jqDBgyvYj\n",
       "2X5bC+7YCvrAio/BfTCNlTWyC9nwWwhJFvgONo0WjZBOQdi+U9N7tjFbtC2ySyE9Ol53eRbTchO3\n",
       "J/TnSW1v8FxZD/km0DCND6uQ4iqlX8YbncUcDWOTNUq6kKzeg3W/FFTp7FuwAgwbHy+EAb5MKqM8\n",
       "iO5cUIZX3oEP+DZJRau7LcqN+qmYeHfXL80maA0LPoK38qmQwdSIbULIPUIENaZ0RDOy1B/PLIRV\n",
       "/KysHmIntnM8taKWXqmW2x0rkgoOnu51kSqFNM0M7QR2H+DtlHM9TB3bW3k6HN2o/HoACaWAYGim\n",
       "CC2QbnDh/q/SzndTCVnIVcth22OcvKMbyQnTyi3locjuxa5e0D+bJ6wCbkxlhYB1OjgrBz9AAsoN\n",
       "kXitKVb+d1l64XaFTvv5thJi2zVl2UGTXKdJUp2rNOPLpbuladXrno/t1K8nc9e1Y1xbp4mPv/5q\n",
       "9Ixj9aP8aPJGL7txFXr9/+g6PfPK0iFEE2NkaQeGwZoJSYOIUC5UJCO+190ZQeTbEgKWI1IUcKbb\n",
       "p4QzSKLtNiPhAmkyvz3OWiUo7moqhNM0zgJbvDqiGltcSXeuO0VMLHkFaqla+CKc5eocPNd7Y7eB\n",
       "n5tNIs4LCbsVO69lYVHszYlSC6azL2cfRjbYBbpXRA+qYBg++DiDhlFCbrUPZ6slv86QeYRRPZC0\n",
       "GpoUqdvtqu04rWybo6ySjW2kkbToNKl8c8fb8PYo8WvAZ6Sgzhkes8at2EcI91X7JVhC6T2sQ3YG\n",
       "uvgZ23DZXe/yHX9Qcj/9QQVSUva1dwDL7e1eouei41qQntB6yKnHHLsdH7v3TG78gMRzfsOxlooq\n",
       "Nc811QX0ePf+mnBEH15C3HL+sZ7YyRKzRz5h2te0jiiY41n/VnZZePyBdMNNZfW7zgEzxW5yeGEs\n",
       "MTplHf+922okN49ClqZKWvyaj6xQ2Zm2PLPzRZVQxS9rpq5fUX6YxTr4SgpRWMZ+mFP46zDy2ktG\n",
       "lWPmj7aMdaELPDcm/TytSvy3hHDhN4Jpw+EaQsMM07IMs0QPFSL+99Q4r2mrthv5F2B7h9A83sQi\n",
       "8TgtoDzHUfFag1XlZqzic5RrZAu1i2Ypdgehm6eE+SteKW9fa9jU1OScSs+wLOlV/ueYpWAhChf/\n",
       "kbV8rp9O38nmv6v6xU9HdzaQz0omZKH0hVRjGVWnwu/FKA+/wvcXaOISWdi366ai1wHBxD8pflVL\n",
       "YlR3ZJysTAmtaZkvylSkV38++pMuYlFFPosmvBNK7zqkGtpLyOaysdjjPVCxsRYgq25kSU1vhUqI\n",
       "Nw6e62pRqO7yDUPmJnxLz8+Jbw8IrMyEfat9j6k7r2WCcXHXd283sIaBYaU25gmquBSGarU755FY\n",
       "qnyxcTqYTTpMpx++s2Ftlf7AdJq5i6XoLzQ/k1xwf86+oZitFnRjbR3w445DjRbFc9JGfe8dSuEN\n",
       "MILWjz8E0T91TyjmoU+nDCl/fUUm3TNwNzV7qw3CTX9YvqUzTVuv5BcXS86pfxMVwkleZzT3swCh\n",
       "DwPOW1BNg+6gaLXEp/1qIed3afdemiRBxt0DjpfGUH/qHfpWaD9cpQLk9KOwlwCIQBF0ZIjjhKtY\n",
       "TQ9OpSVRM+Os9zY70syo5HXoHZqAar2+fLhCucSAMKEYaDka0W63rhvPc/AmtjKHXQmX8nsT9fEB\n",
       "Wm361gISbL8gyJpPVrXBVOuh+ibDrCp+X3wFlDBSBt79seWCLO1R56ca49TymenEM10JFx/yA2Rf\n",
       "ezwuJJjo7d99ODko8TisRmmjU8GNwoEmWEzbwD7FJxJX5SH5sJ+AWqEU/TgW6XL3t5Y84cP0Ukp2\n",
       "mwmJHBcZhR240YOjtIO7L+lWEoInnmp5pShYDDUzxNp+qdmNpyTZxdFk2P9H/hRhoo8uDfzYFV+F\n",
       "ua725YErw44v2AFlgF8GsZoKhfOueGWUu448k4e4WLK3lGi9hD82LRGt+ZIQV3fzMWJME1M2XmzM\n",
       "g9n5B3TpynnCcfsTXrI/nR7vK4gAkx++FoKL7kKJb8KZalQ6r6+68zn2u6GJ6jIk++8BPt1PItvc\n",
       "0qdyWr3l9vozYlOTpEnGOxhi9q09bYuC6zzEr4MOb2vuX0CInQcDjPjeM6Rybyots8EhI5TmOtGO\n",
       "A54ITtd2n8P1q0/ryn5ehwsDTlT+aUqpNum7yL+Ed2UalW7dTo1PgbpNYYZNIh/q1SpVv2eIeteB\n",
       "TV3+K8U+wkZ3jeK4o1SfmvMWUslHSTjriUWIr6clEquv4U79LC4ATPBKaIDNDnbGCBKilVNFM+F6\n",
       "vEDUP5SbstIskts+qHLEiKkGoz/tZXqc9fkFog1bPKamFGQFiXqE3lVhiHbkwdpSOn355dvtjYRn\n",
       "frO+GbVlaZ7hD0SGRIOgEeNFZr4VqSH6y9TnGwH3aKsWDXuVs0c7SjwN/2JSNR+HkF1AWoMeVUGI\n",
       "nGdlsTKUC5qfDzcRf/gbShM32Jl+Ezm4Ue/DnvQBXAPWSC0eB6FShQkVTpogGlyNEWAuH0m1mRt8\n",
       "CCnYUezixAV/309Hsdz14dSBkheTreY9PwxpPcT1pS1ltVmNEAHyGRRvLw3GNnXxDWwdeVd7bZoN\n",
       "DlyrZdRt2tsfRy9rKS58m19u4Cqy/AIs83eFx61nQ8NnLKlPKyMdm77JG5UDieyNfx+ZcwRm+VAv\n",
       "iHSqWt+LHJZ5UcPNbyahJ5CVeUTe+aYUOYk6BLx5GNKtgC+DdA70hsQo3Y8tBdKffBBLGNV+bGp/\n",
       "gBBIL2xoPvRf+C46szInA/9I3EowHalhcn8K4bFwVnrrw/Mzgv3Qb23nM9s/nwjAerjnxWI77j7m\n",
       "Hha0t23jgFh1FJS1iNtIMgy5cdkcT2LJ/14yhHe1JXK/rc9madmUtcA9ZKmDAzu+jvVb2x2FruXa\n",
       "nU+4ijp8fHvtFvB8zWCXSrVr37bOZEQBfP4II/lQ9khb7ofo+fkB7rs8aOVLvSE9/LG8HLMk3R0Q\n",
       "GbMuJmuLxg8wU1TPW+AqSOeM8WUjcdmvXkssxDIaH5p4t48uuC06R1bY8Tfjv50cir8MOTFCKePK\n",
       "bgTKd9Vv/BQsbORYq758GAeEg42X2ouL5a6WIoEULKzGlGyWwzrbqRvmaXbnEbJRPJjQ8+616WAY\n",
       "yNt9lpId3ymv8gfT2CRlwWQ8jSCJ5SJCu2n+tlkaQjH+qODdLpPGsKXR+lJHwN3hoPQTsGi1K+o/\n",
       "CBAxG/A+KPDbCeVTaliduLZHzFTmDCOa6sruQmh9iY0KoCb5NWsdpYO8KUK6/5aaW82gnjQEQBc1\n",
       "2Ii1ekzbWttATaBjrEO/TmCeBA07vUJ6EMy7UOh2xunZau6P3uAk2S6bLSOs4yNZklg6B0IxrAVr\n",
       "6BFqRbwW2wecpnhb6gd6mI5So7KQBuUGdRGs+oghcUQOSduxdj2sBGOiMlRU8HwfzQe1aQs4zujb\n",
       "h8h/2HBJlpau5X+jCEiuMKaOakzekMCLP326O70GmkCQGEhgPhzJEj8oTWQLmfGuHN6iAo1YrLKM\n",
       "wId7UAOGbQ5ER3/UdIAQmjUMyU5sME5TKbCVD29sXgV6++AGORIA5PRlb0B3GdOtlEH7U7/AinDa\n",
       "DhBOUsDMjiPOacbf/tYUE02KdMo3nTMg09F8AA/lq9sqkUH9mBwSkPSsyOhauW7tVjxGmoMhRESp\n",
       "RAd2gwssLwIu02xi+SPSmrpFH2OjAoTEN6FSXSKCvSNIlkhQJhcWIP8wmB0XVpwPctAG/e6twtUQ\n",
       "4MSatik/FKOmgQfl6bn7EwY6JzZKDf6AyTb2d1BnKdtxd/u6crWUi2swziYlAFfPbyWK68uUvvVu\n",
       "z1yofMHJFgeM4jaKLv5B283hQWlJ8bBRWSKMtyDB3EYH6H+7JAfMfC5xIGRIvCJ9TdlMTMlRtNU+\n",
       "wR5YIurqX3TYNvafFd+mXf28GS0aEKyQ20zdGBoRC5TtOHNXLSHhqco1i8VqW/pY+2URGIHs1hRq\n",
       "4CCFr1jk25xPilyhxrhkeBXOXFImMIKNw/SyM31XjKKxd28RqurJh+V3oDfoOjQt/aD655DyHNDc\n",
       "TpK45IodD1GJQyLz2D1D4Ehf5K0+bd8m7Wz919thAuKtTBF7EYy+jhcQffzP5AGCXTjACOkmQrQP\n",
       "agjFJUJW133jA7yLPxjRh8SpZZPPxi3sGoh8LRXmBiPJOKcE9w0h2M5Qs1ohpBlrhxcE7Ak4ZyMr\n",
       "cVY+yHyvjgJIAGO2vs6P0H6BD1rsiMF0o6/hfMFZagPwkrjdEmV6YF4lPvcHGxLsDjR18ngILyWp\n",
       "4aBE2l6ejpXWXRdxoYvUzAlEi9bfSd1acM5VglkpL4CoxsnnNG/epeYBegHdImyLzXq31dGdl3nT\n",
       "1hMKkJlEkHb7ZFR42PEdoe8vFu09yRn3uR0SwEHbsBjLYS0DJ6GGnEcVqRC6pYo1njvC1FW00dkn\n",
       "fLX1OFmHxC9m1YA4SLvDS9Z1tkZQPpbwO+H89Dj2kSVa32Q1PmE5nvrO5oiwiwS/MTy7CPsk+zbv\n",
       "r3bq709VTlr6i2cDGIoR164VNFUX2RgP8yUrXNTew0U7JtYXIuFqmctWOOHNIGPpPgsscNX8HwYX\n",
       "th6uWehk8EjUtvGcPBlAi2hqS7tIV28n5IJQP1BDY5FqtFT0m3/63KNmSyoACJZ2RR1JWcYsPAGM\n",
       "Pc3boz4oeksKLtLCnf7NQcJgmZ70rnFrb1tz/Ut6kF1Ap+ful86p4JqpyoZ/qBhdfj9cijqP/6My\n",
       "Y9GXqc5+qqHTzzPJhjJg4lW19tdqsaT4D0/r46vRvJfM20nnc0t71UKmk7pfJf0ZGaPU8df+G+ek\n",
       "f0S7GEN2aSWz9dai0zQHMukhCaTIbDVWE//RQFe5qEWNCWY6ttGaSzIuM++xruV7QeBDvI2Xg7+S\n",
       "4wNTtAjhGXREQKc5IpKkbb5N1oEPIHGKYJvYgYpV3aDGHAr/qCLco1giyhtJNa0gO5bTs53IH52x\n",
       "LClgr7SbCS9fOjeBcrGQ99RD5qnyGPShxGRO+Oy+ec42UfcIk9JnD3gDJaiCYUOJeIcNUj06f5m8\n",
       "JlEb05Sl6ZRSgamPixUwJ9PwMqeO3idmiNxxNv21wWid7OEZI0N6X68RDhh0vh9WVs+eKno1Nwty\n",
       "MGyBPxFVBW2xceqY5n/WOU9f9JbTS6y1UofMT7tWkr2a2FkvHcvIsnMoJNSj6Vb9nEta3am5gWaF\n",
       "8z/xAUJWKLmUzYUOtOEHLDE+GIH4qbuVGTuPjZYNg9L6hr6n9R05WLcEPPv26b/aOOIgAmTRb7Wm\n",
       "znumA5NTM5XuxY2EyZ9osTZnAsSQ1rsk2Dweaw1PtqBeaYYriZLlZFC+gE5G0CWByBFMKJat+q/f\n",
       "hIhGat9Y9Jum+D12RkQgmn6qRt6B6YeJSwSgy/oFslg1OnvzjL+uFK9JjRFWmn714TEq+zUKLPhk\n",
       "C99sgpMvj8ykyrLck6+ezs0dgGDN+D81pBqFFpR+9p0G0bhyS4/j98cXO+Dk6P+KqVOjgigSk/Uh\n",
       "mP5pUT0kYTQP+TtvZHyNu0H/MWqzXQiZdTUdTOaLboa+GoHy014EoeDZKnuGdWkApUD/f5q2ryGD\n",
       "eyjZNmbkcsd+DOvZ1f/OIWB4AAAVkQAAALJBmiRsQz/+nhB5PawAdHRp2JxoBWJc5nJwqgcZjGSA\n",
       "LK+TxIsWJdyC7voKVEnnBLUScbTNyhiEEybkO3oaACtUp0YavqiRApUKkqJ1XTmbO/+OuNWT+11c\n",
       "cKec2/5b8HBe7BcDXlXfwlaDbGb6nrVE8AmFlMXX6Rc37XS3JgO0pd8qgI0NHS6lGUs2cO39qixS\n",
       "IRFv3/ZDZv3YZ5NPMqfjd9SdW4r7swOcBXlSPNn/iGMZAAAAJUGeQniEfwAP4BWbCT5OT3xBzH5N\n",
       "oSy85hlquwdesQiAoabAHDEAAAAfAZ5hdEf/Ao3oy8oc92GEJVPVIgL8YaCT4aJJE4DKgQAAABIB\n",
       "nmNqR/8CjkES84QkbF+m4tEAAAA4QZpoSahBaJlMCGf//p4QBjdgnACc65K0J6i1I40wFBdjVhRx\n",
       "YU3TfqxTXsDIGvsGFd+0rRFr/VIAAAAXQZ6GRREsI/8BnL5wTPqqybCGBJ+/CkkAAAAQAZ6ldEf/\n",
       "AowuS8p5JtSPpgAAABIBnqdqR/8CjZrIBhkxtrDaG80AAAAyQZqsSahBbJlMCGf//p4QAFP1VTgA\n",
       "4MloK8Q6wxwOo/fZWCog0BKKQSiid8euQGFg3oAAAAAZQZ7KRRUsI/8BnN4CUbsnOgenu3px6LHD\n",
       "wQAAABIBnul0R/8CjC5Lynkm1Kg3v/EAAAAbAZ7rakf/Ao2a05/pcADrI2LCOrg5gGmEaoNPAAAA\n",
       "LkGa8EmoQWyZTAhn//6eEABT9VU4ANuLrMIh/QfZHPtWiWr483QmMXboWm2LAwMAAAAaQZ8ORRUs\n",
       "I/8BnN4EhMnTXFDQK9SHuTksvYAAAAASAZ8tdEf/AowuS8p5JtSoN7/wAAAAFAGfL2pH/wKNmuUe\n",
       "JrdxM7sFopjxAAAAE0GbNEmoQWyZTAhn//6eEAAAB0wAAAAYQZ9SRRUsI/8BnN4EdJI3VeUEsmvY\n",
       "TB0wAAAAFAGfcXRH/wKMLm0dzKWvw6aLRT7hAAAAFAGfc2pH/wKNmuUeJrdxM7sFopjxAAAANUGb\n",
       "eEmoQWyZTAhn//6eEABWM49wAisTWWnPYNATnpZNmZ0/MNrIh59CRvtcZNjnzzknk4JfAAAAG0Gf\n",
       "lkUVLCP/AZzeBITKtk//aWvi9+xyWFEgIAAAABQBn7V0R/8CjC5tHcylr8Omi0U+4AAAABQBn7dq\n",
       "R/8CjZrlHia3cTO7BaKY8QAAAChBm7xJqEFsmUwIZ//+nhAAVjOPcAIkrUNBAJG84YT1R+yL5M0h\n",
       "4gXcAAAAG0Gf2kUVLCP/AZzeBITKtZ/+0tfSpeHtKTTAgAAAABYBn/l0R/8CjC5uXbdcDc9CTaHG\n",
       "M0mBAAAAFQGf+2pH/wKNmuYo/GadkxCOCaKHHAAAADBBm+BJqEFsmUwIZ//+nhAAVjOZSAEPiHj/\n",
       "Ges3hc3I7eGCChGh/FkO1jP62TZ+DekAAAAbQZ4eRRUsI/8BnN4EhMq1n/7S19Kl4e0pNMCBAAAA\n",
       "FQGePXRH/wKMLm0dws3XYoj/7FzRgAAAABUBnj9qR/8CjZrlHhxJ3Kgu1XakWUEAAAAfQZokSahB\n",
       "bJlMCGf//p4QAFP1ogUANp4Ny6iydogYEAAAABpBnkJFFSwj/wGc3gSEydNcUNAr1Ie5OSy9gQAA\n",
       "ABQBnmF0R/8CjC5tHb1p13EJGuxdQwAAABQBnmNqR/8CjZrlHia3cTO7BaKY8AAAABNBmmhJqEFs\n",
       "mUwIZ//+nhAAAAdMAAAAGUGehkUVLCP/AZzeBITKRVS/00a8QIIkUEEAAAAUAZ6ldEf/AowubR3M\n",
       "pa/DpotFPuAAAAAUAZ6nakf/Ao2a5R4mt3EzuwWimPEAAAA5QZqsSahBbJlMCGf//p4QAFQLiOwA\n",
       "4NWv6OVKUheBb1EvfN1YIzQF5QP3euVL0IAKe+P4RtGvJgpIAAAAGkGeykUVLCP/AZzeBITJ+uUL\n",
       "KAyPd1DkxHnBAAAAFAGe6XRH/wKMLm0dzKWvw6aLRT7hAAAAFAGe62pH/wKNmuUeJrdxM7sFopjx\n",
       "AAAANUGa8EmoQWyZTAhf//6MsABUs7VgBVQz1pxJf/pOnc3you491f0o40/q76t4S/Rbn2mMPgSN\n",
       "AAAAG0GfDkUVLCP/AZzeBITKrGiAMtAZkc6vuCTJgAAAABQBny10R/8CjC5tHcylr8Omi0U+4AAA\n",
       "ABYBny9qR/8CjZrlHi+jpk1/wECGLJmBAAAAOUGbNEmoQWyZTAhf//6MsABSWV9VHO1+AKY0tum4\n",
       "feFcmL+lUTF7LQmHuS7uIjve3Mesy7SF/yCtgAAAAChBn1JFFSwj/wGc3gSEyqovYzIHAA7Q1zxt\n",
       "1cD2pVtomR1cCSk9f9FTAAAAEQGfcXRH/wKMLm0dxc2ujZqpAAAAEwGfc2pH/wKNmuUeL51xFwPW\n",
       "c/EAAAAvQZt4SahBbJlMCF///oywAFSzzeACKxUOw8N0fD6a9X5fhmmT1fNejciyO/Big7sAAAAW\n",
       "QZ+WRRUsI/8BnN4EhMheL6L6DdAHcAAAAA4Bn7V0R/8CjC5tHcXBxwAAABEBn7dqR/8CjZrlHegj\n",
       "c5oj0wAAADZBm7lJqEFsmUwIZ//+nhAAU/OPcAHB3js5GH6KAOGRAP3R4UKaVDgs9BiG4juNHcmg\n",
       "ipnGYPAAAABNQZvdSeEKUmUwIZ/+nhAAqDHCv4e4AV1qgPe7ipMRl6MWhE5bpFTi8cfyH2vq4tM3\n",
       "PWzeXYoFA2dWsE9o0oqWlK8kD1aSGssne3EIQ2oAAAAYQZ/7RTRMI/8BnL5yYLAqo8gsg9l7BU3h\n",
       "AAAAEQGeGnRH/wKMLm0aCTgGPgVsAAAAGQGeHGpH/wKNmuT4JBcowAWxhCwsFnmoekEAAABUQZoB\n",
       "SahBaJlMCGf//p4QAKgoSVSQ4TgC/eA/Ur+fIrSiJEsGAi+5F+jI74iA2C8c3Dkk5Bgxhn7t4pKL\n",
       "31Kw36lvAjXeB5RKIQnID7iqUf88KgIfAAAAH0GeP0URLCP/AZzeBIGvMAC6Bkn+Xq2mGQRaZe3f\n",
       "o0AAAAAbAZ5edEf/AowubR+4+AFuXEgLVbQbNDgbVCBhAAAADgGeQGpH/wKNmuUMg8KCAAAAO0Ga\n",
       "RUmoQWyZTAhn//6eEABT4Hq9jsANreF6BjduiAXDEhD7iEBuSgzZnfdu0ejugHVW9CFPOfhveIGB\n",
       "AAAAEUGeY0UVLCP/AZzeAlC5VEDBAAAAGAGegnRH/wKMLlktdcADj3WKhFhYx2iBgAAAAAwBnoRq\n",
       "R/8CjZrCAY0AAAATQZqJSahBbJlMCGf//p4QAAAHTQAAAA9BnqdFFSwj/wGc3gAgMaAAAAAMAZ7G\n",
       "dEf/AowuRQG/AAAADAGeyGpH/wKNmsIBjQAAACdBms1JqEFsmUwIZ//+nhAAU/VLYAG0MjZ4ak/G\n",
       "NvKkBnueG6Tgm4EAAAARQZ7rRRUsI/8BnN4CUbqqIGEAAAAMAZ8KdEf/AowuRQG/AAAADAGfDGpH\n",
       "/wKNmsIBjQAAACNBmxFJqEFsmUwIZ//+nhAAU/Wf7gCHxtVkgjE5c5ywTosDAgAAAA9Bny9FFSwj\n",
       "/wGc3gAgMaAAAAAMAZ9OdEf/AowuRQG/AAAADAGfUGpH/wKNmsIBjQAAAFBBm1VJqEFsmUwIZ//+\n",
       "nhAAU91gaZ5YAbg+tlAzqlU8UFsYQHLHwsGCdMtaMGsLgl01eUD4HvGu6xOcQCVWOMBkGfC9P/B9\n",
       "n9NEhx1WGfg44AAAABRBn3NFFSwj/wGc3gJQs25YfABlYQAAAAwBn5J0R/8CjC5FAb8AAAAVAZ+U\n",
       "akf/Ao2a0x/pcAEHu/5xu+HTAAAAYkGbmUmoQWyZTAhn//6eEACn43HAHMPh3IBtFNHlXX59veN7\n",
       "X+LXZilhc0ejQ0pX2TjpKpGiIuL96QplnNYF2XFzffmHMJpiI7CDrUgipdmRT/7Mzjh+m8SszHIf\n",
       "pCEdUhlwAAAAFUGft0UVLCP/AZzeBINsAHRS2R6ZZgAAABwBn9Z0R/8CjC5sOdSAT6zmTBEKT1oM\n",
       "n2naTFbBAAAAFgGf2GpH/wKNmuU3RAATsuE6BuTrBoQAAAAxQZvdSahBbJlMCGf//p4QAKfjccAc\n",
       "w9VztlOCyuFBEch41HNlMQQXdmiNmt+8mfAi4AAAABFBn/tFFSwj/wGc3gRikb8MqQAAAAwBnhp0\n",
       "R/8CjC5FAb8AAAAPAZ4cakf/Ao2a5CigtwdNAAAAK0GaAUmoQWyZTAhn//6eEACjqqvQWAQelwpd\n",
       "xu9gde0gnYr3NQwNvCvEBi0AAAARQZ4/RRUsI/8BnN4EYXKoQsAAAAAQAZ5edEf/Aowua/ysun4Z\n",
       "UQAAAAwBnkBqR/8CjZrCAY0AAAAhQZpFSahBbJlMCGf//p4QAFPdYnexYoAb124VMSz1YGBBAAAA\n",
       "EUGeY0UVLCP/AZzeAlG6qiBhAAAADAGegnRH/wKMLkUBvwAAAAwBnoRqR/8CjZrCAY0AAAATQZqJ\n",
       "SahBbJlMCGf//p4QAAAHTQAAAA9BnqdFFSwj/wGc3gAgMaAAAAAMAZ7GdEf/AowuRQG/AAAADAGe\n",
       "yGpH/wKNmsIBjQAAABNBms1JqEFsmUwIX//+jLAAAAdVAAAAD0Ge60UVLCP/AZzeACAxoQAAAAwB\n",
       "nwp0R/8CjC5FAb8AAAAMAZ8Makf/Ao2awgGNAAAAE0GbEUmoQWyZTAhf//6MsAAAB1QAAAAPQZ8v\n",
       "RRUsI/8BnN4AIDGgAAAADAGfTnRH/wKMLkUBvwAAAAwBn1BqR/8CjZrCAY0AAAA1QZtVSahBbJlM\n",
       "CF///oywAKmjQNsARMC140fDCX/Z1R/+mFm4qFIScuvJzbn0VbJMOeN4HTAAAAAUQZ9zRRUsI/8B\n",
       "nN4Eg3UGY/1aCzEAAAAMAZ+SdEf/AowuRQG/AAAADAGflGpH/wKNmsIBjQAAAE1Bm5lJqEFsmUwI\n",
       "V//+OEACjXDYwBTKErk1kx6n+n/3LUVt+t2EIj+OKtW9Mtkf+r/+x1THOwPdHO8CQQJe3h2ML4i2\n",
       "ijB2A1ALKMhVQAAAACRBn7dFFSwj/wGc3gSBy5sAFqkdywejFvpkx5qIE1TY5elcYqYAAAAaAZ/W\n",
       "dEf/Aowubl4YcwAH6aqjAahPR6sdFTEAAAAQAZ/Yakf/Ao2a5ij8Zdgy4AAAADFBm9tJqEFsmUwU\n",
       "TCv//jhAAo1w2MAUt2TypWXv7MD7H9+c0Ht5tZr/L1kEGr6CoIY0AAAAFgGf+mpH/wKOQRtWKSAB\n",
       "9W9WkTvg44EAAAAqQZv8SeEKUmUwIV/+OEACjMZhjR38ABTaYmHbTR0/DWg/3krj86quJAakAAAA\n",
       "NEGaHUnhDomUwIX//oywAKoUkidzgABFhX7AE0u5N8wNELtFEumsraBFmYNbxekFjxMwQ8EAAABh\n",
       "QZo/SeEPJlMFETwv//6MsACpQeyQcL2dDbIwAccXerVLUVuNu+GHD4YkQiJr9Oj+JHC0jBK5tUea\n",
       "xg7ZeJMnafy0V/g3k4cssK80KGxsPieaFnf2N8eNmjGJPtb2jFA7oQAAABoBnl5qR/8AV6IDje4Q\n",
       "Y7QQAQ0stSpOJN2CRgAAAERBmkNJ4Q8mUwIX//6MsACu+5pu29f7dbgAtcYKb1sEvQyNexhsMpvL\n",
       "+H+ISwghoSacTi26k23OaHVwBMQubF7tJICygQAAACRBnmFFETwj/wBsN4RYYIgco5PAB+wjPKNp\n",
       "825raBYrH3BtQl4AAAAZAZ6AdEf/AFijliLYhbegAWH6SzjEHxoS8QAAABgBnoJqR/8AWJT4VugA\n",
       "Ti9WxH/5wsUNQl8AAABFQZqHSahBaJlMCF///oywAKoM+mwA21rhMRueTi99OssTYAoFPqGaQWCN\n",
       "L+oemZhzDsGgz0lbgVgnFUoyq6svbp3s0DugAAAAIUGepUURLCP/AGw3fOgWzM8AHr8X/U1FN0ai\n",
       "RAULZh1BIwAAABUBnsR0R/8AVG3FABNrDORCb7BQ2oEAAAAWAZ7Gakf/AFZzL9SACBJ3whgYOi8G\n",
       "pAAAACxBmshJqEFsmUwIX//+jLAAqhG2bADbWuMx0bW/81Di9GS+5uS/d2VtNzMEPQAAAD9BmuxJ\n",
       "4QpSZTAhf/6MsACpreZsALJdLR/yIBZHhcpoOGTm1uzOIVv1bDbr7zG1byDz5ZluUJPTq2tZP+TN\n",
       "A7oAAAAcQZ8KRTRMI/8AbC+bCV0AJLUvvxXlr6bZq9AW0QAAABsBnyl0R/8AWLx0EfACAQ9zCRpS\n",
       "r7KuO8G3ARsAAAAOAZ8rakf/AFiU+e6mhL0AAAAvQZsvSahBaJlMCFf//jhAAn1iCs+sYAWQr2J2\n",
       "BZAyXjVy+zwl+PvV6YN36mqQGzEAAAAXQZ9NRREsI/8ANLZCPiAA5GtAiowiGDAAAAAMAZ9uakf/\n",
       "AFQUAIMGAAAAIUGbcEmoQWyZTAhX//44QAJ6iHPQpkWACWs5+3Ra2AgkYQAAADJBm5RJ4QpSZTAh\n",
       "H/3hAAmoKiYATQEwYnH7eXXIz9gSJ6+8YEe0l+uBPlM+PQE4DPwOOAAAABFBn7JFNEwj/wA0qKg/\n",
       "OqBBwAAAAA0Bn9F0R/8AU9AFzwUVAAAADQGf02pH/wBUE0+XASsAAAAkQZvVSahBaJlMCP/8hAAl\n",
       "nbSoAIfhp0+frCoVVEGIM8O42AypAAAVWm1vb3YAAABsbXZoZAAAAAAAAAAAAAAAAAAAA+gAAB9A\n",
       "AAEAAAEAAAAAAAAAAAAAAAABAAAAAAAAAAAAAAAAAAAAAQAAAAAAAAAAAAAAAAAAQAAAAAAAAAAA\n",
       "AAAAAAAAAAAAAAAAAAAAAAAAAAAAAAIAABSEdHJhawAAAFx0a2hkAAAAAwAAAAAAAAAAAAAAAQAA\n",
       "AAAAAB9AAAAAAAAAAAAAAAAAAAAAAAABAAAAAAAAAAAAAAAAAAAAAQAAAAAAAAAAAAAAAAAAQAAA\n",
       "AAGwAAABIAAAAAAAJGVkdHMAAAAcZWxzdAAAAAAAAAABAAAfQAAAAgAAAQAAAAAT/G1kaWEAAAAg\n",
       "bWRoZAAAAAAAAAAAAAAAAAAAMgAAAZAAVcQAAAAAAC1oZGxyAAAAAAAAAAB2aWRlAAAAAAAAAAAA\n",
       "AAAAVmlkZW9IYW5kbGVyAAAAE6dtaW5mAAAAFHZtaGQAAAABAAAAAAAAAAAAAAAkZGluZgAAABxk\n",
       "cmVmAAAAAAAAAAEAAAAMdXJsIAAAAAEAABNnc3RibAAAALNzdHNkAAAAAAAAAAEAAACjYXZjMQAA\n",
       "AAAAAAABAAAAAAAAAAAAAAAAAAAAAAGwASAASAAAAEgAAAAAAAAAAQAAAAAAAAAAAAAAAAAAAAAA\n",
       "AAAAAAAAAAAAAAAAAAAAABj//wAAADFhdmNDAWQAHv/hABhnZAAerNlBsJaEAAADAAQAAAMBkDxY\n",
       "tlgBAAZo6+PLIsAAAAAcdXVpZGtoQPJfJE/FujmlG88DI/MAAAAAAAAAGHN0dHMAAAAAAAAAAQAA\n",
       "AZAAAAEAAAAAGHN0c3MAAAAAAAAAAgAAAAEAAAD7AAAL+GN0dHMAAAAAAAABfQAAAAEAAAIAAAAA\n",
       "AQAABAAAAAACAAABAAAAAAEAAAQAAAAAAgAAAQAAAAABAAADAAAAAAEAAAEAAAAAAQAAAwAAAAAB\n",
       "AAABAAAAAAEAAAMAAAAAAQAAAQAAAAABAAADAAAAAAEAAAEAAAAAAQAABQAAAAABAAACAAAAAAEA\n",
       "AAAAAAAAAQAAAQAAAAACAAACAAAAAAEAAAUAAAAAAQAAAgAAAAABAAAAAAAAAAEAAAEAAAAAAQAA\n",
       "BAAAAAACAAABAAAAAAEAAAUAAAAAAQAAAgAAAAABAAAAAAAAAAEAAAEAAAAAAQAAAwAAAAABAAAB\n",
       "AAAAAAEAAAIAAAAAAQAABQAAAAABAAACAAAAAAEAAAAAAAAAAQAAAQAAAAABAAAFAAAAAAEAAAIA\n",
       "AAAAAQAAAAAAAAABAAABAAAAAAEAAAQAAAAAAgAAAQAAAAABAAADAAAAAAEAAAEAAAAAAQAAAgAA\n",
       "AAABAAAFAAAAAAEAAAIAAAAAAQAAAAAAAAABAAABAAAAAAEAAAUAAAAAAQAAAgAAAAABAAAAAAAA\n",
       "AAEAAAEAAAAAAQAABQAAAAABAAACAAAAAAEAAAAAAAAAAQAAAQAAAAABAAAFAAAAAAEAAAIAAAAA\n",
       "AQAAAAAAAAABAAABAAAAAAEAAAIAAAAAAQAABQAAAAABAAACAAAAAAEAAAAAAAAAAQAAAQAAAAAB\n",
       "AAADAAAAAAEAAAEAAAAAAQAABAAAAAACAAABAAAAAAEAAAMAAAAAAQAAAQAAAAABAAAEAAAAAAIA\n",
       "AAEAAAAAAQAABQAAAAABAAACAAAAAAEAAAAAAAAAAQAAAQAAAAABAAADAAAAAAEAAAEAAAAAAQAA\n",
       "AwAAAAABAAABAAAAAAEAAAUAAAAAAQAAAgAAAAABAAAAAAAAAAEAAAEAAAAAAQAABQAAAAABAAAC\n",
       "AAAAAAEAAAAAAAAAAQAAAQAAAAABAAAFAAAAAAEAAAIAAAAAAQAAAAAAAAABAAABAAAAAAEAAAUA\n",
       "AAAAAQAAAgAAAAABAAAAAAAAAAEAAAEAAAAAAQAABQAAAAABAAACAAAAAAEAAAAAAAAAAQAAAQAA\n",
       "AAABAAADAAAAAAEAAAEAAAAAAQAABQAAAAABAAACAAAAAAEAAAAAAAAAAQAAAQAAAAABAAAFAAAA\n",
       "AAEAAAIAAAAAAQAAAAAAAAABAAABAAAAAAEAAAUAAAAAAQAAAgAAAAABAAAAAAAAAAEAAAEAAAAA\n",
       "AQAABAAAAAACAAABAAAAAAEAAAUAAAAAAQAAAgAAAAABAAAAAAAAAAEAAAEAAAAAAQAABQAAAAAB\n",
       "AAACAAAAAAEAAAAAAAAAAQAAAQAAAAABAAAFAAAAAAEAAAIAAAAAAQAAAAAAAAABAAABAAAAAAEA\n",
       "AAQAAAAAAgAAAQAAAAABAAAFAAAAAAEAAAIAAAAAAQAAAAAAAAABAAABAAAAAAEAAAUAAAAAAQAA\n",
       "AgAAAAABAAAAAAAAAAEAAAEAAAAAAQAABQAAAAABAAACAAAAAAEAAAAAAAAAAQAAAQAAAAABAAAE\n",
       "AAAAAAIAAAEAAAAAAQAABAAAAAACAAABAAAAAAEAAAIAAAAAAQAABQAAAAABAAACAAAAAAEAAAAA\n",
       "AAAAAQAAAQAAAAABAAADAAAAAAEAAAEAAAAAAQAABQAAAAABAAACAAAAAAEAAAAAAAAAAQAAAQAA\n",
       "AAABAAAFAAAAAAEAAAIAAAAAAQAAAAAAAAABAAABAAAAAAEAAAUAAAAAAQAAAgAAAAABAAAAAAAA\n",
       "AAEAAAEAAAAAAQAABQAAAAABAAACAAAAAAEAAAAAAAAAAQAAAQAAAAABAAADAAAAAAEAAAEAAAAA\n",
       "AQAABQAAAAABAAACAAAAAAEAAAAAAAAAAQAAAQAAAAABAAAFAAAAAAEAAAIAAAAAAQAAAAAAAAAB\n",
       "AAABAAAAAAEAAAQAAAAAAgAAAQAAAAABAAAFAAAAAAEAAAIAAAAAAQAAAAAAAAABAAABAAAAAAEA\n",
       "AAQAAAAAAgAAAQAAAAACAAACAAAAAAEAAAQAAAAAAgAAAQAAAAABAAAFAAAAAAEAAAIAAAAAAQAA\n",
       "AAAAAAABAAABAAAAAAEAAAUAAAAAAQAAAgAAAAABAAAAAAAAAAEAAAEAAAAAAQAABQAAAAABAAAC\n",
       "AAAAAAEAAAAAAAAAAQAAAQAAAAABAAAFAAAAAAEAAAIAAAAAAQAAAAAAAAABAAABAAAAAAEAAAUA\n",
       "AAAAAQAAAgAAAAABAAAAAAAAAAEAAAEAAAAAAQAABQAAAAABAAACAAAAAAEAAAAAAAAAAQAAAQAA\n",
       "AAACAAACAAAAAAEAAAMAAAAAAQAAAQAAAAABAAAFAAAAAAEAAAIAAAAAAQAAAAAAAAABAAABAAAA\n",
       "AAEAAAUAAAAAAQAAAgAAAAABAAAAAAAAAAEAAAEAAAAAAQAABQAAAAABAAACAAAAAAEAAAAAAAAA\n",
       "AQAAAQAAAAABAAACAAAAAAEAAAQAAAAAAgAAAQAAAAABAAACAAAAAAEAAAUAAAAAAQAAAgAAAAAB\n",
       "AAAAAAAAAAEAAAEAAAAAAQAABQAAAAABAAACAAAAAAEAAAAAAAAAAQAAAQAAAAABAAAFAAAAAAEA\n",
       "AAIAAAAAAQAAAAAAAAABAAABAAAAAAEAAAUAAAAAAQAAAgAAAAABAAAAAAAAAAEAAAEAAAAAAQAA\n",
       "BQAAAAABAAACAAAAAAEAAAAAAAAAAQAAAQAAAAABAAAFAAAAAAEAAAIAAAAAAQAAAAAAAAABAAAB\n",
       "AAAAAAEAAAUAAAAAAQAAAgAAAAABAAAAAAAAAAEAAAEAAAAAAQAABQAAAAABAAACAAAAAAEAAAAA\n",
       "AAAAAQAAAQAAAAABAAAFAAAAAAEAAAIAAAAAAQAAAAAAAAABAAABAAAAAAEAAAUAAAAAAQAAAgAA\n",
       "AAABAAAAAAAAAAEAAAEAAAAAAQAABQAAAAABAAACAAAAAAEAAAAAAAAAAQAAAQAAAAABAAAFAAAA\n",
       "AAEAAAIAAAAAAQAAAAAAAAABAAABAAAAAAEAAAUAAAAAAQAAAgAAAAABAAAAAAAAAAEAAAEAAAAA\n",
       "AQAABQAAAAABAAACAAAAAAEAAAAAAAAAAQAAAQAAAAABAAACAAAAAAEAAAUAAAAAAQAAAgAAAAAB\n",
       "AAAAAAAAAAEAAAEAAAAAAQAABQAAAAABAAACAAAAAAEAAAAAAAAAAQAAAQAAAAABAAAFAAAAAAEA\n",
       "AAIAAAAAAQAAAAAAAAABAAABAAAAAAEAAAUAAAAAAQAAAgAAAAABAAAAAAAAAAEAAAEAAAAAAQAA\n",
       "BQAAAAABAAACAAAAAAEAAAAAAAAAAQAAAQAAAAABAAAFAAAAAAEAAAIAAAAAAQAAAAAAAAABAAAB\n",
       "AAAAAAEAAAUAAAAAAQAAAgAAAAABAAAAAAAAAAEAAAEAAAAAAQAABQAAAAABAAACAAAAAAEAAAAA\n",
       "AAAAAQAAAQAAAAABAAAFAAAAAAEAAAIAAAAAAQAAAAAAAAABAAABAAAAAAEAAAUAAAAAAQAAAgAA\n",
       "AAABAAAAAAAAAAEAAAEAAAAAAQAABQAAAAABAAACAAAAAAEAAAAAAAAAAQAAAQAAAAABAAAFAAAA\n",
       "AAEAAAIAAAAAAQAAAAAAAAABAAABAAAAAAEAAAUAAAAAAQAAAgAAAAABAAAAAAAAAAEAAAEAAAAA\n",
       "AQAABQAAAAABAAACAAAAAAEAAAAAAAAAAQAAAQAAAAABAAAFAAAAAAEAAAIAAAAAAQAAAAAAAAAB\n",
       "AAABAAAAAAEAAAUAAAAAAQAAAgAAAAABAAAAAAAAAAEAAAEAAAAAAQAAAwAAAAABAAABAAAAAAIA\n",
       "AAIAAAAAAQAAAwAAAAABAAABAAAAAAEAAAUAAAAAAQAAAgAAAAABAAAAAAAAAAEAAAEAAAAAAQAA\n",
       "BQAAAAABAAACAAAAAAEAAAAAAAAAAQAAAQAAAAABAAACAAAAAAEAAAUAAAAAAQAAAgAAAAABAAAA\n",
       "AAAAAAEAAAEAAAAAAQAABAAAAAACAAABAAAAAAEAAAIAAAAAAQAABQAAAAABAAACAAAAAAEAAAAA\n",
       "AAAAAQAAAQAAAAABAAACAAAAABxzdHNjAAAAAAAAAAEAAAABAAABkAAAAAEAAAZUc3RzegAAAAAA\n",
       "AAAAAAABkAAANl0AAAH+AAAATQAAACMAAACfAAAAPQAAADAAAACLAAAANwAAAJgAAAAtAAAAYgAA\n",
       "ACoAAABcAAAAKQAAAJQAAAApAAAAIQAAAB8AAAAyAAAAPQAAAJEAAAArAAAAKAAAACsAAABsAAAA\n",
       "KAAAACMAAAB8AAAANwAAACIAAAAiAAAAZQAAACwAAABIAAAAbwAAADAAAAAoAAAAFgAAAFsAAAAf\n",
       "AAAAHgAAACAAAABxAAAALwAAABgAAABdAAAALAAAAFAAAABLAAAALAAAAB0AAAAcAAAAWgAAACgA\n",
       "AAAWAAAAFgAAAGIAAAAsAAAAFwAAAB8AAAA4AAAAJQAAAB4AAAAUAAAANAAAAGwAAAAzAAAAGwAA\n",
       "ACQAAABUAAAALAAAAFsAAAAiAAAAJgAAADwAAAAeAAAAcwAAACwAAAAZAAAAYQAAACwAAAAbAAAA\n",
       "IgAAAEsAAAAnAAAAbQAAACkAAABLAAAAIwAAABkAAAAYAAAATwAAACsAAAAZAAAAHgAAADgAAAAg\n",
       "AAAAFwAAABgAAAA/AAAAKgAAABUAAAAWAAAAMwAAACsAAAAZAAAAFwAAAEQAAAAlAAAASgAAACgA\n",
       "AAAfAAAAEwAAADkAAAAuAAAAHQAAABkAAAAyAAAAIAAAABYAAAAfAAAAOwAAAB8AAAAfAAAAVQAA\n",
       "ACMAAAAYAAAAIAAAAFIAAAAnAAAAHQAAABwAAAA2AAAAHAAAABQAAAAWAAAALgAAAB0AAAAUAAAA\n",
       "jAAAAC8AAAAfAAAAIAAAADoAAAAeAAAAFgAAABYAAAA9AAAAIgAAABgAAAAYAAAAPwAAAB8AAAAX\n",
       "AAAAYwAAAC8AAAAhAAAAKAAAAEAAAAAoAAAAGQAAACEAAAA+AAAAJAAAAE0AAAAwAAAAGgAAACAA\n",
       "AAA5AAAAHAAAAB0AAAAWAAAAOgAAACoAAAAWAAAAFgAAAEAAAAAeAAAAFgAAABYAAAA3AAAAGwAA\n",
       "ADsAAAAhAAAAGQAAABgAAAA4AAAAHwAAABYAAAAfAAAAOwAAACkAAAAWAAAATAAAACsAAAAUAAAA\n",
       "FAAAAG4AAAAgAAAAHgAAADIAAAAzAAAAPwAAACoAAAAWAAAAUgAAACsAAAAiAAAAFwAAAEAAAAAe\n",
       "AAAAGAAAABYAAAA8AAAAHQAAABYAAAAXAAAAOQAAAB8AAAAWAAAAIAAAADAAAAAhAAAAGAAAABYA\n",
       "AAApAAAAHwAAABYAAAAWAAAAKQAAAD0AAAA+AAAAGgAAADkAAAAoAAAAGAAAABQAAAAwAAAAHgAA\n",
       "ABQAAAAUAAAAVgAAAB0AAAAUAAAAIAAAAEwAAAAvAAAAKgAAACIAAENiAAAAtgAAACkAAAAjAAAA\n",
       "FgAAADwAAAAbAAAAFAAAABYAAAA2AAAAHQAAABYAAAAfAAAAMgAAAB4AAAAWAAAAGAAAABcAAAAc\n",
       "AAAAGAAAABgAAAA5AAAAHwAAABgAAAAYAAAALAAAAB8AAAAaAAAAGQAAADQAAAAfAAAAGQAAABkA\n",
       "AAAjAAAAHgAAABgAAAAYAAAAFwAAAB0AAAAYAAAAGAAAAD0AAAAeAAAAGAAAABgAAAA5AAAAHwAA\n",
       "ABgAAAAaAAAAPQAAACwAAAAVAAAAFwAAADMAAAAaAAAAEgAAABUAAAA6AAAAUQAAABwAAAAVAAAA\n",
       "HQAAAFgAAAAjAAAAHwAAABIAAAA/AAAAFQAAABwAAAAQAAAAFwAAABMAAAAQAAAAEAAAACsAAAAV\n",
       "AAAAEAAAABAAAAAnAAAAEwAAABAAAAAQAAAAVAAAABgAAAAQAAAAGQAAAGYAAAAZAAAAIAAAABoA\n",
       "AAA1AAAAFQAAABAAAAATAAAALwAAABUAAAAUAAAAEAAAACUAAAAVAAAAEAAAABAAAAAXAAAAEwAA\n",
       "ABAAAAAQAAAAFwAAABMAAAAQAAAAEAAAABcAAAATAAAAEAAAABAAAAA5AAAAGAAAABAAAAAQAAAA\n",
       "UQAAACgAAAAeAAAAFAAAADUAAAAaAAAALgAAADgAAABlAAAAHgAAAEgAAAAoAAAAHQAAABwAAABJ\n",
       "AAAAJQAAABkAAAAaAAAAMAAAAEMAAAAgAAAAHwAAABIAAAAzAAAAGwAAABAAAAAlAAAANgAAABUA\n",
       "AAARAAAAEQAAACgAAAAUc3RjbwAAAAAAAAABAAAALAAAAGJ1ZHRhAAAAWm1ldGEAAAAAAAAAIWhk\n",
       "bHIAAAAAAAAAAG1kaXJhcHBsAAAAAAAAAAAAAAAALWlsc3QAAAAlqXRvbwAAAB1kYXRhAAAAAQAA\n",
       "AABMYXZmNTcuODMuMTAw\n",
       "\">\n",
       "  Your browser does not support the video tag.\n",
       "</video>"
      ]
     },
     "metadata": {},
     "output_type": "display_data"
    }
   ],
   "source": [
    "try:\n",
    "    display_html(HTML(anim.to_html5_video()))\n",
    "# In case the build-in renderers are unaviable, fall back to\n",
    "# a custom one, that doesn't require external libraries\n",
    "except RuntimeError:\n",
    "    anim.save(None, writer=matplotlib_utils.SimpleMovieWriter(0.001))"
   ]
  },
  {
   "cell_type": "markdown",
   "metadata": {},
   "source": [
    "# Logistic regression\n",
    "Your assignment is to implement the logistic regression\n",
    "\n",
    "Plan:\n",
    "* Use a shared variable for weights\n",
    "* Use a matrix placeholder for `X`\n",
    " \n",
    "We shall train on a two-class MNIST dataset\n",
    "* please note that target `y` are `{0,1}` and not `{-1,1}` as in some formulae"
   ]
  },
  {
   "cell_type": "code",
   "execution_count": 66,
   "metadata": {
    "collapsed": false
   },
   "outputs": [
    {
     "name": "stdout",
     "output_type": "stream",
     "text": [
      "('y [shape - (360,)]:', array([0, 1, 0, 1, 0, 1, 0, 0, 1, 1]))\n",
      "X [shape - (360, 64)]:\n"
     ]
    }
   ],
   "source": [
    "from sklearn.datasets import load_digits\n",
    "mnist = load_digits(2)\n",
    "\n",
    "X, y = mnist.data, mnist.target\n",
    "\n",
    "print(\"y [shape - %s]:\" % (str(y.shape)), y[:10])\n",
    "print(\"X [shape - %s]:\" % (str(X.shape)))"
   ]
  },
  {
   "cell_type": "code",
   "execution_count": 67,
   "metadata": {
    "collapsed": false
   },
   "outputs": [
    {
     "name": "stdout",
     "output_type": "stream",
     "text": [
      "('X:\\n', array([[ 0.,  0.,  5., 13.,  9.,  1.,  0.,  0.,  0.,  0.],\n",
      "       [ 0.,  0.,  0., 12., 13.,  5.,  0.,  0.,  0.,  0.],\n",
      "       [ 0.,  0.,  1.,  9., 15., 11.,  0.,  0.,  0.,  0.]]))\n",
      "('y:\\n', array([0, 1, 0, 1, 0, 1, 0, 0, 1, 1]))\n"
     ]
    },
    {
     "data": {
      "image/png": "[encoded data removed]",
      "text/plain": [
       "<matplotlib.figure.Figure at 0x11e05a950>"
      ]
     },
     "metadata": {},
     "output_type": "display_data"
    }
   ],
   "source": [
    "print('X:\\n',X[:3,:10])\n",
    "print('y:\\n',y[:10])\n",
    "plt.imshow(X[0].reshape([8,8]));"
   ]
  },
  {
   "cell_type": "markdown",
   "metadata": {},
   "source": [
    "It's your turn now!\n",
    "Just a small reminder of the relevant math:\n",
    "\n",
    "$$\n",
    "P(y=1|X) = \\sigma(X \\cdot W + b)\n",
    "$$\n",
    "$$\n",
    "\\text{loss} = -\\log\\left(P\\left(y_\\text{predicted} = 1\\right)\\right)\\cdot y_\\text{true} - \\log\\left(1 - P\\left(y_\\text{predicted} = 1\\right)\\right)\\cdot\\left(1 - y_\\text{true}\\right)\n",
    "$$\n",
    "\n",
    "$\\sigma(x)$ is available via `tf.nn.sigmoid` and matrix multiplication via `tf.matmul`"
   ]
  },
  {
   "cell_type": "code",
   "execution_count": 68,
   "metadata": {
    "collapsed": true
   },
   "outputs": [],
   "source": [
    "from sklearn.model_selection import train_test_split\n",
    "X_train, X_test, y_train, y_test = train_test_split(\n",
    "    X, y, random_state=42)"
   ]
  },
  {
   "cell_type": "markdown",
   "metadata": {},
   "source": [
    "__Your code goes here.__ For the training and testing scaffolding to work, please stick to the names in comments."
   ]
  },
  {
   "cell_type": "code",
   "execution_count": 94,
   "metadata": {
    "collapsed": true
   },
   "outputs": [],
   "source": [
    "# Model parameters - weights and bias\n",
    "# weights = tf.Variable(...) shape should be (X.shape[1], 1)\n",
    "# b = tf.Variable(...)\n",
    "\n",
    "weights = tf.Variable(np.zeros((X.shape[1], 1)), name=\"weights\", dtype=tf.float32)\n",
    "b = tf.Variable(0.0, name=\"bias\", dtype=tf.float32)"
   ]
  },
  {
   "cell_type": "code",
   "execution_count": 95,
   "metadata": {
    "collapsed": false
   },
   "outputs": [],
   "source": [
    "# Placeholders for the input data\n",
    "# input_X = tf.placeholder(...)\n",
    "# input_y = tf.placeholder(...)\n",
    "\n",
    "input_X = tf.placeholder(dtype=tf.float32, shape=(None, 64))\n",
    "input_y = tf.placeholder(dtype=tf.float32, shape=(None, ))\n"
   ]
  },
  {
   "cell_type": "code",
   "execution_count": 96,
   "metadata": {
    "collapsed": false
   },
   "outputs": [],
   "source": [
    "# The model code\n",
    "\n",
    "# Compute a vector of predictions, resulting shape should be [input_X.shape[0],]\n",
    "# This is 1D, if you have extra dimensions, you can  get rid of them with tf.squeeze .\n",
    "# Don't forget the sigmoid.\n",
    "# predicted_y = <predicted probabilities for input_X>\n",
    "\n",
    "predicted_y = tf.squeeze(tf.nn.sigmoid(tf.matmul(input_X, weights)+b))\n",
    "\n",
    "# Loss. Should be a scalar number - average loss over all the objects\n",
    "# tf.reduce_mean is your friend here\n",
    "# loss = <logistic loss (scalar, mean over sample)>\n",
    "loss = -tf.reduce_mean(input_y * tf.log(predicted_y) + (1 - input_y) * tf.log(1 - predicted_y))\n",
    "# See above for an example. tf.train.*Optimizer\n",
    "# optimizer = <optimizer that minimizes loss>\n",
    "optimizer = tf.train.MomentumOptimizer(0.01, 0.5).minimize(loss, var_list=[weights,b])"
   ]
  },
  {
   "cell_type": "markdown",
   "metadata": {},
   "source": [
    "A test to help with the debugging"
   ]
  },
  {
   "cell_type": "code",
   "execution_count": 97,
   "metadata": {
    "collapsed": false
   },
   "outputs": [],
   "source": [
    "validation_weights = 1e-3 * np.fromiter(map(lambda x:\n",
    "        s.run(weird_psychotic_function, {my_scalar:x, my_vector:[1, 0.1, 2]}),\n",
    "                                   0.15 * np.arange(1, X.shape[1] + 1)),\n",
    "                                   count=X.shape[1], dtype=np.float32)[:, np.newaxis]\n",
    "# Compute predictions for given weights and bias\n",
    "prediction_validation = s.run(\n",
    "    predicted_y, {\n",
    "    input_X: X,\n",
    "    weights: validation_weights,\n",
    "    b: 1e-1})\n",
    "\n",
    "# Load the reference values for the predictions\n",
    "validation_true_values = np.loadtxt(\"validation_predictons.txt\")\n",
    "\n",
    "assert prediction_validation.shape == (X.shape[0],),\\\n",
    "       \"Predictions must be a 1D array with length equal to the number \" \\\n",
    "       \"of examples in input_X\"\n",
    "assert np.allclose(validation_true_values, prediction_validation)\n",
    "loss_validation = s.run(\n",
    "        loss, {\n",
    "            input_X: X[:100],\n",
    "            input_y: y[-100:],\n",
    "            weights: validation_weights+1.21e-3,\n",
    "            b: -1e-1})\n",
    "assert np.allclose(loss_validation, 0.728689)"
   ]
  },
  {
   "cell_type": "code",
   "execution_count": 98,
   "metadata": {
    "collapsed": false
   },
   "outputs": [
    {
     "name": "stdout",
     "output_type": "stream",
     "text": [
      "loss at iter 0:0.1252\n",
      "('train auc:', 0.9999451032059727)\n",
      "('test auc:', 1.0)\n",
      "loss at iter 1:0.0450\n",
      "('train auc:', 1.0)\n",
      "('test auc:', 1.0)\n",
      "loss at iter 2:0.0269\n",
      "('train auc:', 1.0)\n",
      "('test auc:', 1.0)\n",
      "loss at iter 3:0.0200\n",
      "('train auc:', 1.0)\n",
      "('test auc:', 1.0)\n",
      "loss at iter 4:0.0169\n",
      "('train auc:', 1.0)\n",
      "('test auc:', 1.0)\n"
     ]
    }
   ],
   "source": [
    "from sklearn.metrics import roc_auc_score\n",
    "s.run(tf.global_variables_initializer())\n",
    "for i in range(5):\n",
    "    s.run(optimizer, {input_X: X_train, input_y: y_train})\n",
    "    loss_i = s.run(loss, {input_X: X_train, input_y: y_train})\n",
    "    print(\"loss at iter %i:%.4f\" % (i, loss_i))\n",
    "    print(\"train auc:\", roc_auc_score(y_train, s.run(predicted_y, {input_X:X_train})))\n",
    "    print(\"test auc:\", roc_auc_score(y_test, s.run(predicted_y, {input_X:X_test})))"
   ]
  },
  {
   "cell_type": "markdown",
   "metadata": {},
   "source": [
    "### Coursera submission"
   ]
  },
  {
   "cell_type": "code",
   "execution_count": null,
   "metadata": {
    "collapsed": true
   },
   "outputs": [],
   "source": [
    "grade_submitter = grading.Grader(\"BJCiiY8sEeeCnhKCj4fcOA\")"
   ]
  },
  {
   "cell_type": "code",
   "execution_count": 38,
   "metadata": {
    "collapsed": true
   },
   "outputs": [],
   "source": [
    "test_weights = 1e-3 * np.fromiter(map(lambda x:\n",
    "    s.run(weird_psychotic_function, {my_scalar:x, my_vector:[1, 2, 3]}),\n",
    "                               0.1 * np.arange(1, X.shape[1] + 1)),\n",
    "                               count=X.shape[1], dtype=np.float32)[:, np.newaxis]"
   ]
  },
  {
   "cell_type": "markdown",
   "metadata": {},
   "source": [
    "First, test prediction and loss computation. This part doesn't require a fitted model."
   ]
  },
  {
   "cell_type": "code",
   "execution_count": 39,
   "metadata": {
    "collapsed": true
   },
   "outputs": [],
   "source": [
    "prediction_test = s.run(\n",
    "    predicted_y, {\n",
    "    input_X: X,\n",
    "    weights: test_weights,\n",
    "    b: 1e-1})"
   ]
  },
  {
   "cell_type": "code",
   "execution_count": 40,
   "metadata": {
    "collapsed": true
   },
   "outputs": [],
   "source": [
    "assert prediction_test.shape == (X.shape[0],),\\\n",
    "       \"Predictions must be a 1D array with length equal to the number \" \\\n",
    "       \"of examples in X_test\""
   ]
  },
  {
   "cell_type": "code",
   "execution_count": 41,
   "metadata": {
    "collapsed": true
   },
   "outputs": [],
   "source": [
    "grade_submitter.set_answer(\"0ENlN\", prediction_test)"
   ]
  },
  {
   "cell_type": "code",
   "execution_count": 42,
   "metadata": {
    "collapsed": true
   },
   "outputs": [],
   "source": [
    "loss_test = s.run(\n",
    "    loss, {\n",
    "        input_X: X[:100],\n",
    "        input_y: y[-100:],\n",
    "        weights: test_weights+1.21e-3,\n",
    "        b: -1e-1})\n",
    "# Yes, the X/y indices mistmach is intentional"
   ]
  },
  {
   "cell_type": "code",
   "execution_count": 43,
   "metadata": {
    "collapsed": true
   },
   "outputs": [],
   "source": [
    "grade_submitter.set_answer(\"mMVpM\", loss_test)"
   ]
  },
  {
   "cell_type": "code",
   "execution_count": 44,
   "metadata": {
    "collapsed": true
   },
   "outputs": [],
   "source": [
    "grade_submitter.set_answer(\"D16Rc\", roc_auc_score(y_test, s.run(predicted_y, {input_X:X_test})))"
   ]
  },
  {
   "cell_type": "markdown",
   "metadata": {},
   "source": [
    "Please use the credentials obtained from the Coursera assignment page."
   ]
  },
  {
   "cell_type": "code",
   "execution_count": 45,
   "metadata": {
    "collapsed": false
   },
   "outputs": [
    {
     "name": "stdout",
     "output_type": "stream",
     "text": [
      "Submitted to Coursera platform. See results on assignment page!\n"
     ]
    }
   ],
   "source": [
    "grade_submitter.submit(<email>, <token>)"
   ]
  }
 ],
 "metadata": {
  "kernelspec": {
   "display_name": "Python 2",
   "language": "python",
   "name": "python2"
  },
  "language_info": {
   "codemirror_mode": {
    "name": "ipython",
    "version": 2
   },
   "file_extension": ".py",
   "mimetype": "text/x-python",
   "name": "python",
   "nbconvert_exporter": "python",
   "pygments_lexer": "ipython2",
   "version": "2.7.10"
  }
 },
 "nbformat": 4,
 "nbformat_minor": 1
}
