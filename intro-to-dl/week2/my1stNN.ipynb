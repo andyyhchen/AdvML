{
 "cells": [
  {
   "cell_type": "code",
   "execution_count": 1,
   "metadata": {},
   "outputs": [
    {
     "name": "stderr",
     "output_type": "stream",
     "text": [
      "Using TensorFlow backend.\n"
     ]
    },
    {
     "name": "stdout",
     "output_type": "stream",
     "text": [
      "(50000, 28, 28) (50000,)\n"
     ]
    },
    {
     "data": {
      "image/png": "[encoded data removed]",
      "text/plain": [
       "<matplotlib.figure.Figure at 0x7f5c128f14e0>"
      ]
     },
     "metadata": {},
     "output_type": "display_data"
    }
   ],
   "source": [
    "from preprocessed_mnist import load_dataset\n",
    "X_train, y_train, X_val, y_val, X_test, y_test = load_dataset()\n",
    "print(X_train.shape, y_train.shape)\n",
    "import matplotlib.pyplot as plt\n",
    "%matplotlib inline\n",
    "plt.imshow(X_train[0], cmap=\"Greys\");"
   ]
  },
  {
   "cell_type": "code",
   "execution_count": 2,
   "metadata": {
    "collapsed": true
   },
   "outputs": [],
   "source": [
    "X_train = X_train.reshape(X_train.shape[0], -1)\n",
    "X_test = X_test.reshape(X_test.shape[0], -1)"
   ]
  },
  {
   "cell_type": "code",
   "execution_count": 3,
   "metadata": {
    "collapsed": true
   },
   "outputs": [],
   "source": [
    "import tensorflow as tf"
   ]
  },
  {
   "cell_type": "code",
   "execution_count": 10,
   "metadata": {
    "collapsed": true
   },
   "outputs": [],
   "source": [
    "def weight_variable(shape):\n",
    "    initial = tf.truncated_normal(shape, stddev=0.1)\n",
    "    return tf.Variable(initial)\n",
    "\n",
    "def bias_variable(shape):\n",
    "    initial = tf.constant(0.1, shape=shape)\n",
    "    return tf.Variable(initial)\n",
    "\n",
    "def myNN(x):\n",
    "    \n",
    "    \n",
    "    '''\n",
    "    input: x, a tnesor of shape (N_example, 784)\n",
    "    output: y, a tensor of shape (N_example, N_class), keep_prob\n",
    "    '''\n",
    "    \n",
    "    with tf.name_scope('fc1'):\n",
    "        w_fc1 = weight_variable([784, 512])\n",
    "        b_fc1 = bias_variable([512])\n",
    "        h_fc1 = tf.nn.relu(tf.matmul(x, w_fc1)+b_fc1)\n",
    "    with tf.name_scope('dropout2'):\n",
    "        keep_prob = tf.placeholder(tf.float32)\n",
    "        h_fc1_drop = tf.nn.dropout(h_fc1, keep_prob)\n",
    "    with tf.name_scope('fc2'):\n",
    "        w_fc2 = weight_variable([512, 256])\n",
    "        b_fc2 = bias_variable([256])\n",
    "        h_fc2 = tf.nn.relu(tf.matmul(h_fc1_drop, w_fc2)+b_fc2)\n",
    "    with tf.name_scope('dropout'):\n",
    "        h_fc2_drop = tf.nn.dropout(h_fc2, keep_prob)\n",
    "    with tf.name_scope('fc3'):\n",
    "        w_fc3 = weight_variable([256, 256])\n",
    "        b_fc3 = bias_variable([256])\n",
    "        h_fc3 = tf.nn.sigmoid(tf.matmul(h_fc2_drop, w_fc3)+b_fc3)\n",
    "    with tf.name_scope('fc4'):\n",
    "        w_fc4 = weight_variable([256, 10])\n",
    "        b_fc4 = bias_variable([10])\n",
    "        y = tf.nn.sigmoid(tf.matmul(h_fc3, w_fc4)+b_fc4)\n",
    "        \n",
    "    return y, keep_prob\n",
    "\n",
    "def main():\n",
    "    x = tf.placeholder(tf.float32, [None, 784])\n",
    "    y_ = tf.placeholder(tf.int64, [None])\n",
    "    \n",
    "    y, keep_prob = myNN(x)\n",
    "    \n",
    "    with tf.name_scope('loss'):\n",
    "        cross_entropy = tf.losses.sparse_softmax_cross_entropy(labels=y_, logits=y)\n",
    "        cross_entropy = tf.reduce_mean(cross_entropy)\n",
    "    \n",
    "    with tf.name_scope('adam_optimizer'):\n",
    "        optimizer = tf.train.AdamOptimizer(1e-4).minimize(cross_entropy)\n",
    "        \n",
    "    with tf.name_scope('accuracy'):\n",
    "        correct_prediction = tf.equal(tf.argmax(y, 1), y_)\n",
    "        correct_prediction = tf.cast(correct_prediction, tf.float32)\n",
    "        accuracy = tf.reduce_mean(correct_prediction)\n",
    "    \n",
    "    \n",
    "    with tf.Session() as sess:\n",
    "        \n",
    "        sess.run(tf.global_variables_initializer())\n",
    "        \n",
    "        \n",
    "        train_loss=[]\n",
    "        test_loss=[]\n",
    "        batch_size = 1000\n",
    "        n_epoch = 200\n",
    "        for epoch in range(1, n_epoch+1):\n",
    "            #print(\"epoch: \", epoch)\n",
    "            for i in range(0, 50000, batch_size):\n",
    "                sess.run(optimizer, feed_dict={x: X_train[i:i+batch_size, :], y_: y_train[i:i+batch_size], keep_prob:0.5})\n",
    "            train_loss.append(cross_entropy.eval({x: X_train, y_: y_train, keep_prob:1}))\n",
    "            test_loss.append(cross_entropy.eval({x: X_test, y_: y_test, keep_prob:1}))\n",
    "            \n",
    "            if epoch%10 == 0:\n",
    "                print(\"Cost after \" + str(epoch)+ \" epoch: \" + str(train_loss[-1]))\n",
    "                \n",
    "        index = list(range(1, n_epoch+1))\n",
    "        plt.plot(index, train_loss, label='Train')\n",
    "        plt.plot(index, test_loss, label='Test')\n",
    "        plt.xlabel('number of iterations')\n",
    "        plt.ylabel('loss')\n",
    "        plt.show()\n",
    "        \n",
    "        train_acc = accuracy.eval({x: X_train, y_: y_train, keep_prob:1})\n",
    "        test_acc = accuracy.eval({x: X_test, y_: y_test, keep_prob:1})\n",
    "        \n",
    "        print(\"Train Accuracy Score:\", train_acc)\n",
    "        print(\"Test Accuracy Score:\", test_acc) \n",
    "\n",
    "        "
   ]
  },
  {
   "cell_type": "code",
   "execution_count": null,
   "metadata": {},
   "outputs": [
    {
     "name": "stdout",
     "output_type": "stream",
     "text": [
      "Cost after 10 epoch: 1.60612\n",
      "Cost after 20 epoch: 1.53637\n",
      "Cost after 30 epoch: 1.51287\n",
      "Cost after 40 epoch: 1.50099\n",
      "Cost after 50 epoch: 1.49329\n",
      "Cost after 60 epoch: 1.48772\n",
      "Cost after 70 epoch: 1.48343\n",
      "Cost after 80 epoch: 1.48027\n",
      "Cost after 90 epoch: 1.47752\n",
      "Cost after 100 epoch: 1.47538\n",
      "Cost after 110 epoch: 1.47376\n",
      "Cost after 120 epoch: 1.47223\n",
      "Cost after 130 epoch: 1.47109\n",
      "Cost after 140 epoch: 1.47014\n",
      "Cost after 150 epoch: 1.46927\n",
      "Cost after 160 epoch: 1.46849\n",
      "Cost after 170 epoch: 1.46778\n",
      "Cost after 180 epoch: 1.46719\n"
     ]
    }
   ],
   "source": [
    "main()"
   ]
  },
  {
   "cell_type": "code",
   "execution_count": null,
   "metadata": {
    "collapsed": true
   },
   "outputs": [],
   "source": []
  }
 ],
 "metadata": {
  "kernelspec": {
   "display_name": "Python 3",
   "language": "python",
   "name": "python3"
  },
  "language_info": {
   "codemirror_mode": {
    "name": "ipython",
    "version": 3
   },
   "file_extension": ".py",
   "mimetype": "text/x-python",
   "name": "python",
   "nbconvert_exporter": "python",
   "pygments_lexer": "ipython3",
   "version": "3.6.2"
  }
 },
 "nbformat": 4,
 "nbformat_minor": 2
}
